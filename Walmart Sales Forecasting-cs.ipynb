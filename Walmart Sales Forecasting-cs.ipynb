{
 "cells": [
  {
   "cell_type": "code",
   "execution_count": 1,
   "metadata": {},
   "outputs": [],
   "source": [
    "import numpy as np\n",
    "import pandas as pd\n",
    "import matplotlib.pyplot as plt\n",
    "import seaborn as sns\n",
    "import statsmodels.formula.api as smf\n",
    "from sklearn.preprocessing import StandardScaler\n",
    "from patsy import dmatrices\n",
    "from sklearn.model_selection import train_test_split\n",
    "from sklearn.feature_selection import f_regression\n",
    "from sklearn.feature_selection import RFE\n",
    "from sklearn.linear_model import LinearRegression\n",
    "from sklearn.metrics import mean_absolute_error, mean_squared_error\n",
    "import scipy.stats as stats\n",
    "%matplotlib inline\n",
    "from sklearn.ensemble import RandomForestRegressor\n",
    "from sklearn.model_selection import GridSearchCV"
   ]
  },
  {
   "cell_type": "code",
   "execution_count": 3,
   "metadata": {},
   "outputs": [
    {
     "data": {
      "text/html": [
       "<div>\n",
       "<style scoped>\n",
       "    .dataframe tbody tr th:only-of-type {\n",
       "        vertical-align: middle;\n",
       "    }\n",
       "\n",
       "    .dataframe tbody tr th {\n",
       "        vertical-align: top;\n",
       "    }\n",
       "\n",
       "    .dataframe thead th {\n",
       "        text-align: right;\n",
       "    }\n",
       "</style>\n",
       "<table border=\"1\" class=\"dataframe\">\n",
       "  <thead>\n",
       "    <tr style=\"text-align: right;\">\n",
       "      <th></th>\n",
       "      <th>Store</th>\n",
       "      <th>Date</th>\n",
       "      <th>Temperature</th>\n",
       "      <th>Fuel_Price</th>\n",
       "      <th>MarkDown1</th>\n",
       "      <th>MarkDown2</th>\n",
       "      <th>MarkDown3</th>\n",
       "      <th>MarkDown4</th>\n",
       "      <th>MarkDown5</th>\n",
       "      <th>CPI</th>\n",
       "      <th>Unemployment</th>\n",
       "      <th>IsHoliday</th>\n",
       "    </tr>\n",
       "  </thead>\n",
       "  <tbody>\n",
       "    <tr>\n",
       "      <th>0</th>\n",
       "      <td>1</td>\n",
       "      <td>2010-02-05</td>\n",
       "      <td>42.31</td>\n",
       "      <td>2.572</td>\n",
       "      <td>NaN</td>\n",
       "      <td>NaN</td>\n",
       "      <td>NaN</td>\n",
       "      <td>NaN</td>\n",
       "      <td>NaN</td>\n",
       "      <td>211.096358</td>\n",
       "      <td>8.106</td>\n",
       "      <td>False</td>\n",
       "    </tr>\n",
       "    <tr>\n",
       "      <th>1</th>\n",
       "      <td>1</td>\n",
       "      <td>2010-02-12</td>\n",
       "      <td>38.51</td>\n",
       "      <td>2.548</td>\n",
       "      <td>NaN</td>\n",
       "      <td>NaN</td>\n",
       "      <td>NaN</td>\n",
       "      <td>NaN</td>\n",
       "      <td>NaN</td>\n",
       "      <td>211.242170</td>\n",
       "      <td>8.106</td>\n",
       "      <td>True</td>\n",
       "    </tr>\n",
       "    <tr>\n",
       "      <th>2</th>\n",
       "      <td>1</td>\n",
       "      <td>2010-02-19</td>\n",
       "      <td>39.93</td>\n",
       "      <td>2.514</td>\n",
       "      <td>NaN</td>\n",
       "      <td>NaN</td>\n",
       "      <td>NaN</td>\n",
       "      <td>NaN</td>\n",
       "      <td>NaN</td>\n",
       "      <td>211.289143</td>\n",
       "      <td>8.106</td>\n",
       "      <td>False</td>\n",
       "    </tr>\n",
       "    <tr>\n",
       "      <th>3</th>\n",
       "      <td>1</td>\n",
       "      <td>2010-02-26</td>\n",
       "      <td>46.63</td>\n",
       "      <td>2.561</td>\n",
       "      <td>NaN</td>\n",
       "      <td>NaN</td>\n",
       "      <td>NaN</td>\n",
       "      <td>NaN</td>\n",
       "      <td>NaN</td>\n",
       "      <td>211.319643</td>\n",
       "      <td>8.106</td>\n",
       "      <td>False</td>\n",
       "    </tr>\n",
       "    <tr>\n",
       "      <th>4</th>\n",
       "      <td>1</td>\n",
       "      <td>2010-03-05</td>\n",
       "      <td>46.50</td>\n",
       "      <td>2.625</td>\n",
       "      <td>NaN</td>\n",
       "      <td>NaN</td>\n",
       "      <td>NaN</td>\n",
       "      <td>NaN</td>\n",
       "      <td>NaN</td>\n",
       "      <td>211.350143</td>\n",
       "      <td>8.106</td>\n",
       "      <td>False</td>\n",
       "    </tr>\n",
       "  </tbody>\n",
       "</table>\n",
       "</div>"
      ],
      "text/plain": [
       "   Store        Date  Temperature  Fuel_Price  MarkDown1  MarkDown2  \\\n",
       "0      1  2010-02-05        42.31       2.572        NaN        NaN   \n",
       "1      1  2010-02-12        38.51       2.548        NaN        NaN   \n",
       "2      1  2010-02-19        39.93       2.514        NaN        NaN   \n",
       "3      1  2010-02-26        46.63       2.561        NaN        NaN   \n",
       "4      1  2010-03-05        46.50       2.625        NaN        NaN   \n",
       "\n",
       "   MarkDown3  MarkDown4  MarkDown5         CPI  Unemployment  IsHoliday  \n",
       "0        NaN        NaN        NaN  211.096358         8.106      False  \n",
       "1        NaN        NaN        NaN  211.242170         8.106       True  \n",
       "2        NaN        NaN        NaN  211.289143         8.106      False  \n",
       "3        NaN        NaN        NaN  211.319643         8.106      False  \n",
       "4        NaN        NaN        NaN  211.350143         8.106      False  "
      ]
     },
     "execution_count": 3,
     "metadata": {},
     "output_type": "execute_result"
    }
   ],
   "source": [
    "features = pd.read_csv('C:/Users/Lenovo/Downloads/CaseStudy/2. Walmart Store Sales Forecasting/data/features.csv')\n",
    "features.head()"
   ]
  },
  {
   "cell_type": "code",
   "execution_count": 4,
   "metadata": {},
   "outputs": [
    {
     "name": "stdout",
     "output_type": "stream",
     "text": [
      "<class 'pandas.core.frame.DataFrame'>\n",
      "RangeIndex: 8190 entries, 0 to 8189\n",
      "Data columns (total 12 columns):\n",
      " #   Column        Non-Null Count  Dtype  \n",
      "---  ------        --------------  -----  \n",
      " 0   Store         8190 non-null   int64  \n",
      " 1   Date          8190 non-null   object \n",
      " 2   Temperature   8190 non-null   float64\n",
      " 3   Fuel_Price    8190 non-null   float64\n",
      " 4   MarkDown1     4032 non-null   float64\n",
      " 5   MarkDown2     2921 non-null   float64\n",
      " 6   MarkDown3     3613 non-null   float64\n",
      " 7   MarkDown4     3464 non-null   float64\n",
      " 8   MarkDown5     4050 non-null   float64\n",
      " 9   CPI           7605 non-null   float64\n",
      " 10  Unemployment  7605 non-null   float64\n",
      " 11  IsHoliday     8190 non-null   bool   \n",
      "dtypes: bool(1), float64(9), int64(1), object(1)\n",
      "memory usage: 712.0+ KB\n"
     ]
    }
   ],
   "source": [
    "features.info()"
   ]
  },
  {
   "cell_type": "code",
   "execution_count": 5,
   "metadata": {},
   "outputs": [
    {
     "data": {
      "text/html": [
       "<div>\n",
       "<style scoped>\n",
       "    .dataframe tbody tr th:only-of-type {\n",
       "        vertical-align: middle;\n",
       "    }\n",
       "\n",
       "    .dataframe tbody tr th {\n",
       "        vertical-align: top;\n",
       "    }\n",
       "\n",
       "    .dataframe thead th {\n",
       "        text-align: right;\n",
       "    }\n",
       "</style>\n",
       "<table border=\"1\" class=\"dataframe\">\n",
       "  <thead>\n",
       "    <tr style=\"text-align: right;\">\n",
       "      <th></th>\n",
       "      <th>Store</th>\n",
       "      <th>Type</th>\n",
       "      <th>Size</th>\n",
       "    </tr>\n",
       "  </thead>\n",
       "  <tbody>\n",
       "    <tr>\n",
       "      <th>0</th>\n",
       "      <td>1</td>\n",
       "      <td>A</td>\n",
       "      <td>151315</td>\n",
       "    </tr>\n",
       "    <tr>\n",
       "      <th>1</th>\n",
       "      <td>2</td>\n",
       "      <td>A</td>\n",
       "      <td>202307</td>\n",
       "    </tr>\n",
       "    <tr>\n",
       "      <th>2</th>\n",
       "      <td>3</td>\n",
       "      <td>B</td>\n",
       "      <td>37392</td>\n",
       "    </tr>\n",
       "    <tr>\n",
       "      <th>3</th>\n",
       "      <td>4</td>\n",
       "      <td>A</td>\n",
       "      <td>205863</td>\n",
       "    </tr>\n",
       "    <tr>\n",
       "      <th>4</th>\n",
       "      <td>5</td>\n",
       "      <td>B</td>\n",
       "      <td>34875</td>\n",
       "    </tr>\n",
       "  </tbody>\n",
       "</table>\n",
       "</div>"
      ],
      "text/plain": [
       "   Store Type    Size\n",
       "0      1    A  151315\n",
       "1      2    A  202307\n",
       "2      3    B   37392\n",
       "3      4    A  205863\n",
       "4      5    B   34875"
      ]
     },
     "execution_count": 5,
     "metadata": {},
     "output_type": "execute_result"
    }
   ],
   "source": [
    "stores = pd.read_csv('C:/Users/Lenovo/Downloads/CaseStudy/2. Walmart Store Sales Forecasting/data/stores.csv')\n",
    "stores.head()"
   ]
  },
  {
   "cell_type": "code",
   "execution_count": 6,
   "metadata": {},
   "outputs": [
    {
     "data": {
      "text/html": [
       "<div>\n",
       "<style scoped>\n",
       "    .dataframe tbody tr th:only-of-type {\n",
       "        vertical-align: middle;\n",
       "    }\n",
       "\n",
       "    .dataframe tbody tr th {\n",
       "        vertical-align: top;\n",
       "    }\n",
       "\n",
       "    .dataframe thead th {\n",
       "        text-align: right;\n",
       "    }\n",
       "</style>\n",
       "<table border=\"1\" class=\"dataframe\">\n",
       "  <thead>\n",
       "    <tr style=\"text-align: right;\">\n",
       "      <th></th>\n",
       "      <th>Store</th>\n",
       "      <th>Dept</th>\n",
       "      <th>Date</th>\n",
       "      <th>Weekly_Sales</th>\n",
       "      <th>IsHoliday</th>\n",
       "    </tr>\n",
       "  </thead>\n",
       "  <tbody>\n",
       "    <tr>\n",
       "      <th>0</th>\n",
       "      <td>1</td>\n",
       "      <td>1</td>\n",
       "      <td>2010-02-05</td>\n",
       "      <td>24924.50</td>\n",
       "      <td>False</td>\n",
       "    </tr>\n",
       "    <tr>\n",
       "      <th>1</th>\n",
       "      <td>1</td>\n",
       "      <td>1</td>\n",
       "      <td>2010-02-12</td>\n",
       "      <td>46039.49</td>\n",
       "      <td>True</td>\n",
       "    </tr>\n",
       "    <tr>\n",
       "      <th>2</th>\n",
       "      <td>1</td>\n",
       "      <td>1</td>\n",
       "      <td>2010-02-19</td>\n",
       "      <td>41595.55</td>\n",
       "      <td>False</td>\n",
       "    </tr>\n",
       "    <tr>\n",
       "      <th>3</th>\n",
       "      <td>1</td>\n",
       "      <td>1</td>\n",
       "      <td>2010-02-26</td>\n",
       "      <td>19403.54</td>\n",
       "      <td>False</td>\n",
       "    </tr>\n",
       "    <tr>\n",
       "      <th>4</th>\n",
       "      <td>1</td>\n",
       "      <td>1</td>\n",
       "      <td>2010-03-05</td>\n",
       "      <td>21827.90</td>\n",
       "      <td>False</td>\n",
       "    </tr>\n",
       "  </tbody>\n",
       "</table>\n",
       "</div>"
      ],
      "text/plain": [
       "   Store  Dept        Date  Weekly_Sales  IsHoliday\n",
       "0      1     1  2010-02-05      24924.50      False\n",
       "1      1     1  2010-02-12      46039.49       True\n",
       "2      1     1  2010-02-19      41595.55      False\n",
       "3      1     1  2010-02-26      19403.54      False\n",
       "4      1     1  2010-03-05      21827.90      False"
      ]
     },
     "execution_count": 6,
     "metadata": {},
     "output_type": "execute_result"
    }
   ],
   "source": [
    "train = pd.read_csv('C:/Users/Lenovo/Downloads/CaseStudy/2. Walmart Store Sales Forecasting/data/train.csv')\n",
    "train.head()"
   ]
  },
  {
   "cell_type": "code",
   "execution_count": 7,
   "metadata": {},
   "outputs": [
    {
     "name": "stdout",
     "output_type": "stream",
     "text": [
      "<class 'pandas.core.frame.DataFrame'>\n",
      "RangeIndex: 421570 entries, 0 to 421569\n",
      "Data columns (total 5 columns):\n",
      " #   Column        Non-Null Count   Dtype  \n",
      "---  ------        --------------   -----  \n",
      " 0   Store         421570 non-null  int64  \n",
      " 1   Dept          421570 non-null  int64  \n",
      " 2   Date          421570 non-null  object \n",
      " 3   Weekly_Sales  421570 non-null  float64\n",
      " 4   IsHoliday     421570 non-null  bool   \n",
      "dtypes: bool(1), float64(1), int64(2), object(1)\n",
      "memory usage: 13.3+ MB\n"
     ]
    }
   ],
   "source": [
    "train.info()"
   ]
  },
  {
   "cell_type": "code",
   "execution_count": 8,
   "metadata": {},
   "outputs": [
    {
     "data": {
      "text/plain": [
       "28    1\n",
       "27    1\n",
       "26    1\n",
       "25    1\n",
       "1     1\n",
       "Name: Store, dtype: int64"
      ]
     },
     "execution_count": 8,
     "metadata": {},
     "output_type": "execute_result"
    }
   ],
   "source": [
    "stores.Store.value_counts().tail()"
   ]
  },
  {
   "cell_type": "code",
   "execution_count": 9,
   "metadata": {},
   "outputs": [
    {
     "data": {
      "text/plain": [
       "(421570, 5)"
      ]
     },
     "execution_count": 9,
     "metadata": {},
     "output_type": "execute_result"
    }
   ],
   "source": [
    "train.shape"
   ]
  },
  {
   "cell_type": "code",
   "execution_count": 10,
   "metadata": {},
   "outputs": [
    {
     "data": {
      "text/plain": [
       "(45, 3)"
      ]
     },
     "execution_count": 10,
     "metadata": {},
     "output_type": "execute_result"
    }
   ],
   "source": [
    "stores.shape"
   ]
  },
  {
   "cell_type": "code",
   "execution_count": 11,
   "metadata": {},
   "outputs": [
    {
     "data": {
      "text/plain": [
       "(8190, 12)"
      ]
     },
     "execution_count": 11,
     "metadata": {},
     "output_type": "execute_result"
    }
   ],
   "source": [
    "features.shape"
   ]
  },
  {
   "cell_type": "code",
   "execution_count": 12,
   "metadata": {},
   "outputs": [
    {
     "data": {
      "text/html": [
       "<div>\n",
       "<style scoped>\n",
       "    .dataframe tbody tr th:only-of-type {\n",
       "        vertical-align: middle;\n",
       "    }\n",
       "\n",
       "    .dataframe tbody tr th {\n",
       "        vertical-align: top;\n",
       "    }\n",
       "\n",
       "    .dataframe thead th {\n",
       "        text-align: right;\n",
       "    }\n",
       "</style>\n",
       "<table border=\"1\" class=\"dataframe\">\n",
       "  <thead>\n",
       "    <tr style=\"text-align: right;\">\n",
       "      <th></th>\n",
       "      <th>Store</th>\n",
       "      <th>Dept</th>\n",
       "      <th>Date</th>\n",
       "      <th>Weekly_Sales</th>\n",
       "      <th>IsHoliday</th>\n",
       "      <th>Type</th>\n",
       "      <th>Size</th>\n",
       "    </tr>\n",
       "  </thead>\n",
       "  <tbody>\n",
       "    <tr>\n",
       "      <th>0</th>\n",
       "      <td>1</td>\n",
       "      <td>1</td>\n",
       "      <td>2010-02-05</td>\n",
       "      <td>24924.50</td>\n",
       "      <td>False</td>\n",
       "      <td>A</td>\n",
       "      <td>151315</td>\n",
       "    </tr>\n",
       "    <tr>\n",
       "      <th>1</th>\n",
       "      <td>1</td>\n",
       "      <td>1</td>\n",
       "      <td>2010-02-12</td>\n",
       "      <td>46039.49</td>\n",
       "      <td>True</td>\n",
       "      <td>A</td>\n",
       "      <td>151315</td>\n",
       "    </tr>\n",
       "    <tr>\n",
       "      <th>2</th>\n",
       "      <td>1</td>\n",
       "      <td>1</td>\n",
       "      <td>2010-02-19</td>\n",
       "      <td>41595.55</td>\n",
       "      <td>False</td>\n",
       "      <td>A</td>\n",
       "      <td>151315</td>\n",
       "    </tr>\n",
       "    <tr>\n",
       "      <th>3</th>\n",
       "      <td>1</td>\n",
       "      <td>1</td>\n",
       "      <td>2010-02-26</td>\n",
       "      <td>19403.54</td>\n",
       "      <td>False</td>\n",
       "      <td>A</td>\n",
       "      <td>151315</td>\n",
       "    </tr>\n",
       "    <tr>\n",
       "      <th>4</th>\n",
       "      <td>1</td>\n",
       "      <td>1</td>\n",
       "      <td>2010-03-05</td>\n",
       "      <td>21827.90</td>\n",
       "      <td>False</td>\n",
       "      <td>A</td>\n",
       "      <td>151315</td>\n",
       "    </tr>\n",
       "  </tbody>\n",
       "</table>\n",
       "</div>"
      ],
      "text/plain": [
       "   Store  Dept        Date  Weekly_Sales  IsHoliday Type    Size\n",
       "0      1     1  2010-02-05      24924.50      False    A  151315\n",
       "1      1     1  2010-02-12      46039.49       True    A  151315\n",
       "2      1     1  2010-02-19      41595.55      False    A  151315\n",
       "3      1     1  2010-02-26      19403.54      False    A  151315\n",
       "4      1     1  2010-03-05      21827.90      False    A  151315"
      ]
     },
     "execution_count": 12,
     "metadata": {},
     "output_type": "execute_result"
    }
   ],
   "source": [
    "t_s=pd.merge(left =train,right = stores,left_on='Store',right_on ='Store')\n",
    "t_s.head()"
   ]
  },
  {
   "cell_type": "code",
   "execution_count": 13,
   "metadata": {},
   "outputs": [],
   "source": [
    "t_s['s_d'] = t_s['Store'].astype('str') + '_' + t_s['Date'].astype('str')"
   ]
  },
  {
   "cell_type": "code",
   "execution_count": 14,
   "metadata": {},
   "outputs": [
    {
     "data": {
      "text/html": [
       "<div>\n",
       "<style scoped>\n",
       "    .dataframe tbody tr th:only-of-type {\n",
       "        vertical-align: middle;\n",
       "    }\n",
       "\n",
       "    .dataframe tbody tr th {\n",
       "        vertical-align: top;\n",
       "    }\n",
       "\n",
       "    .dataframe thead th {\n",
       "        text-align: right;\n",
       "    }\n",
       "</style>\n",
       "<table border=\"1\" class=\"dataframe\">\n",
       "  <thead>\n",
       "    <tr style=\"text-align: right;\">\n",
       "      <th></th>\n",
       "      <th>Store</th>\n",
       "      <th>Dept</th>\n",
       "      <th>Date</th>\n",
       "      <th>Weekly_Sales</th>\n",
       "      <th>IsHoliday</th>\n",
       "      <th>Type</th>\n",
       "      <th>Size</th>\n",
       "      <th>s_d</th>\n",
       "    </tr>\n",
       "  </thead>\n",
       "  <tbody>\n",
       "    <tr>\n",
       "      <th>0</th>\n",
       "      <td>1</td>\n",
       "      <td>1</td>\n",
       "      <td>2010-02-05</td>\n",
       "      <td>24924.50</td>\n",
       "      <td>False</td>\n",
       "      <td>A</td>\n",
       "      <td>151315</td>\n",
       "      <td>1_2010-02-05</td>\n",
       "    </tr>\n",
       "    <tr>\n",
       "      <th>1</th>\n",
       "      <td>1</td>\n",
       "      <td>1</td>\n",
       "      <td>2010-02-12</td>\n",
       "      <td>46039.49</td>\n",
       "      <td>True</td>\n",
       "      <td>A</td>\n",
       "      <td>151315</td>\n",
       "      <td>1_2010-02-12</td>\n",
       "    </tr>\n",
       "    <tr>\n",
       "      <th>2</th>\n",
       "      <td>1</td>\n",
       "      <td>1</td>\n",
       "      <td>2010-02-19</td>\n",
       "      <td>41595.55</td>\n",
       "      <td>False</td>\n",
       "      <td>A</td>\n",
       "      <td>151315</td>\n",
       "      <td>1_2010-02-19</td>\n",
       "    </tr>\n",
       "    <tr>\n",
       "      <th>3</th>\n",
       "      <td>1</td>\n",
       "      <td>1</td>\n",
       "      <td>2010-02-26</td>\n",
       "      <td>19403.54</td>\n",
       "      <td>False</td>\n",
       "      <td>A</td>\n",
       "      <td>151315</td>\n",
       "      <td>1_2010-02-26</td>\n",
       "    </tr>\n",
       "    <tr>\n",
       "      <th>4</th>\n",
       "      <td>1</td>\n",
       "      <td>1</td>\n",
       "      <td>2010-03-05</td>\n",
       "      <td>21827.90</td>\n",
       "      <td>False</td>\n",
       "      <td>A</td>\n",
       "      <td>151315</td>\n",
       "      <td>1_2010-03-05</td>\n",
       "    </tr>\n",
       "  </tbody>\n",
       "</table>\n",
       "</div>"
      ],
      "text/plain": [
       "   Store  Dept        Date  Weekly_Sales  IsHoliday Type    Size           s_d\n",
       "0      1     1  2010-02-05      24924.50      False    A  151315  1_2010-02-05\n",
       "1      1     1  2010-02-12      46039.49       True    A  151315  1_2010-02-12\n",
       "2      1     1  2010-02-19      41595.55      False    A  151315  1_2010-02-19\n",
       "3      1     1  2010-02-26      19403.54      False    A  151315  1_2010-02-26\n",
       "4      1     1  2010-03-05      21827.90      False    A  151315  1_2010-03-05"
      ]
     },
     "execution_count": 14,
     "metadata": {},
     "output_type": "execute_result"
    }
   ],
   "source": [
    "t_s.head()"
   ]
  },
  {
   "cell_type": "code",
   "execution_count": 15,
   "metadata": {},
   "outputs": [],
   "source": [
    "features['s_d']=features['Store'].astype('str')+ '_' + features['Date'].astype('str')"
   ]
  },
  {
   "cell_type": "code",
   "execution_count": 16,
   "metadata": {},
   "outputs": [
    {
     "data": {
      "text/html": [
       "<div>\n",
       "<style scoped>\n",
       "    .dataframe tbody tr th:only-of-type {\n",
       "        vertical-align: middle;\n",
       "    }\n",
       "\n",
       "    .dataframe tbody tr th {\n",
       "        vertical-align: top;\n",
       "    }\n",
       "\n",
       "    .dataframe thead th {\n",
       "        text-align: right;\n",
       "    }\n",
       "</style>\n",
       "<table border=\"1\" class=\"dataframe\">\n",
       "  <thead>\n",
       "    <tr style=\"text-align: right;\">\n",
       "      <th></th>\n",
       "      <th>Store</th>\n",
       "      <th>Date</th>\n",
       "      <th>Temperature</th>\n",
       "      <th>Fuel_Price</th>\n",
       "      <th>MarkDown1</th>\n",
       "      <th>MarkDown2</th>\n",
       "      <th>MarkDown3</th>\n",
       "      <th>MarkDown4</th>\n",
       "      <th>MarkDown5</th>\n",
       "      <th>CPI</th>\n",
       "      <th>Unemployment</th>\n",
       "      <th>IsHoliday</th>\n",
       "      <th>s_d</th>\n",
       "    </tr>\n",
       "  </thead>\n",
       "  <tbody>\n",
       "    <tr>\n",
       "      <th>0</th>\n",
       "      <td>1</td>\n",
       "      <td>2010-02-05</td>\n",
       "      <td>42.31</td>\n",
       "      <td>2.572</td>\n",
       "      <td>NaN</td>\n",
       "      <td>NaN</td>\n",
       "      <td>NaN</td>\n",
       "      <td>NaN</td>\n",
       "      <td>NaN</td>\n",
       "      <td>211.096358</td>\n",
       "      <td>8.106</td>\n",
       "      <td>False</td>\n",
       "      <td>1_2010-02-05</td>\n",
       "    </tr>\n",
       "    <tr>\n",
       "      <th>1</th>\n",
       "      <td>1</td>\n",
       "      <td>2010-02-12</td>\n",
       "      <td>38.51</td>\n",
       "      <td>2.548</td>\n",
       "      <td>NaN</td>\n",
       "      <td>NaN</td>\n",
       "      <td>NaN</td>\n",
       "      <td>NaN</td>\n",
       "      <td>NaN</td>\n",
       "      <td>211.242170</td>\n",
       "      <td>8.106</td>\n",
       "      <td>True</td>\n",
       "      <td>1_2010-02-12</td>\n",
       "    </tr>\n",
       "    <tr>\n",
       "      <th>2</th>\n",
       "      <td>1</td>\n",
       "      <td>2010-02-19</td>\n",
       "      <td>39.93</td>\n",
       "      <td>2.514</td>\n",
       "      <td>NaN</td>\n",
       "      <td>NaN</td>\n",
       "      <td>NaN</td>\n",
       "      <td>NaN</td>\n",
       "      <td>NaN</td>\n",
       "      <td>211.289143</td>\n",
       "      <td>8.106</td>\n",
       "      <td>False</td>\n",
       "      <td>1_2010-02-19</td>\n",
       "    </tr>\n",
       "    <tr>\n",
       "      <th>3</th>\n",
       "      <td>1</td>\n",
       "      <td>2010-02-26</td>\n",
       "      <td>46.63</td>\n",
       "      <td>2.561</td>\n",
       "      <td>NaN</td>\n",
       "      <td>NaN</td>\n",
       "      <td>NaN</td>\n",
       "      <td>NaN</td>\n",
       "      <td>NaN</td>\n",
       "      <td>211.319643</td>\n",
       "      <td>8.106</td>\n",
       "      <td>False</td>\n",
       "      <td>1_2010-02-26</td>\n",
       "    </tr>\n",
       "    <tr>\n",
       "      <th>4</th>\n",
       "      <td>1</td>\n",
       "      <td>2010-03-05</td>\n",
       "      <td>46.50</td>\n",
       "      <td>2.625</td>\n",
       "      <td>NaN</td>\n",
       "      <td>NaN</td>\n",
       "      <td>NaN</td>\n",
       "      <td>NaN</td>\n",
       "      <td>NaN</td>\n",
       "      <td>211.350143</td>\n",
       "      <td>8.106</td>\n",
       "      <td>False</td>\n",
       "      <td>1_2010-03-05</td>\n",
       "    </tr>\n",
       "  </tbody>\n",
       "</table>\n",
       "</div>"
      ],
      "text/plain": [
       "   Store        Date  Temperature  Fuel_Price  MarkDown1  MarkDown2  \\\n",
       "0      1  2010-02-05        42.31       2.572        NaN        NaN   \n",
       "1      1  2010-02-12        38.51       2.548        NaN        NaN   \n",
       "2      1  2010-02-19        39.93       2.514        NaN        NaN   \n",
       "3      1  2010-02-26        46.63       2.561        NaN        NaN   \n",
       "4      1  2010-03-05        46.50       2.625        NaN        NaN   \n",
       "\n",
       "   MarkDown3  MarkDown4  MarkDown5         CPI  Unemployment  IsHoliday  \\\n",
       "0        NaN        NaN        NaN  211.096358         8.106      False   \n",
       "1        NaN        NaN        NaN  211.242170         8.106       True   \n",
       "2        NaN        NaN        NaN  211.289143         8.106      False   \n",
       "3        NaN        NaN        NaN  211.319643         8.106      False   \n",
       "4        NaN        NaN        NaN  211.350143         8.106      False   \n",
       "\n",
       "            s_d  \n",
       "0  1_2010-02-05  \n",
       "1  1_2010-02-12  \n",
       "2  1_2010-02-19  \n",
       "3  1_2010-02-26  \n",
       "4  1_2010-03-05  "
      ]
     },
     "execution_count": 16,
     "metadata": {},
     "output_type": "execute_result"
    }
   ],
   "source": [
    "features.head()"
   ]
  },
  {
   "cell_type": "code",
   "execution_count": 17,
   "metadata": {},
   "outputs": [
    {
     "data": {
      "text/html": [
       "<div>\n",
       "<style scoped>\n",
       "    .dataframe tbody tr th:only-of-type {\n",
       "        vertical-align: middle;\n",
       "    }\n",
       "\n",
       "    .dataframe tbody tr th {\n",
       "        vertical-align: top;\n",
       "    }\n",
       "\n",
       "    .dataframe thead th {\n",
       "        text-align: right;\n",
       "    }\n",
       "</style>\n",
       "<table border=\"1\" class=\"dataframe\">\n",
       "  <thead>\n",
       "    <tr style=\"text-align: right;\">\n",
       "      <th></th>\n",
       "      <th>Store_x</th>\n",
       "      <th>Date_x</th>\n",
       "      <th>Temperature</th>\n",
       "      <th>Fuel_Price</th>\n",
       "      <th>MarkDown1</th>\n",
       "      <th>MarkDown2</th>\n",
       "      <th>MarkDown3</th>\n",
       "      <th>MarkDown4</th>\n",
       "      <th>MarkDown5</th>\n",
       "      <th>CPI</th>\n",
       "      <th>Unemployment</th>\n",
       "      <th>IsHoliday_x</th>\n",
       "      <th>s_d</th>\n",
       "      <th>Store_y</th>\n",
       "      <th>Dept</th>\n",
       "      <th>Date_y</th>\n",
       "      <th>Weekly_Sales</th>\n",
       "      <th>IsHoliday_y</th>\n",
       "      <th>Type</th>\n",
       "      <th>Size</th>\n",
       "    </tr>\n",
       "  </thead>\n",
       "  <tbody>\n",
       "    <tr>\n",
       "      <th>0</th>\n",
       "      <td>1</td>\n",
       "      <td>2010-02-05</td>\n",
       "      <td>42.31</td>\n",
       "      <td>2.572</td>\n",
       "      <td>NaN</td>\n",
       "      <td>NaN</td>\n",
       "      <td>NaN</td>\n",
       "      <td>NaN</td>\n",
       "      <td>NaN</td>\n",
       "      <td>211.096358</td>\n",
       "      <td>8.106</td>\n",
       "      <td>False</td>\n",
       "      <td>1_2010-02-05</td>\n",
       "      <td>1</td>\n",
       "      <td>1</td>\n",
       "      <td>2010-02-05</td>\n",
       "      <td>24924.50</td>\n",
       "      <td>False</td>\n",
       "      <td>A</td>\n",
       "      <td>151315</td>\n",
       "    </tr>\n",
       "    <tr>\n",
       "      <th>1</th>\n",
       "      <td>1</td>\n",
       "      <td>2010-02-05</td>\n",
       "      <td>42.31</td>\n",
       "      <td>2.572</td>\n",
       "      <td>NaN</td>\n",
       "      <td>NaN</td>\n",
       "      <td>NaN</td>\n",
       "      <td>NaN</td>\n",
       "      <td>NaN</td>\n",
       "      <td>211.096358</td>\n",
       "      <td>8.106</td>\n",
       "      <td>False</td>\n",
       "      <td>1_2010-02-05</td>\n",
       "      <td>1</td>\n",
       "      <td>2</td>\n",
       "      <td>2010-02-05</td>\n",
       "      <td>50605.27</td>\n",
       "      <td>False</td>\n",
       "      <td>A</td>\n",
       "      <td>151315</td>\n",
       "    </tr>\n",
       "    <tr>\n",
       "      <th>2</th>\n",
       "      <td>1</td>\n",
       "      <td>2010-02-05</td>\n",
       "      <td>42.31</td>\n",
       "      <td>2.572</td>\n",
       "      <td>NaN</td>\n",
       "      <td>NaN</td>\n",
       "      <td>NaN</td>\n",
       "      <td>NaN</td>\n",
       "      <td>NaN</td>\n",
       "      <td>211.096358</td>\n",
       "      <td>8.106</td>\n",
       "      <td>False</td>\n",
       "      <td>1_2010-02-05</td>\n",
       "      <td>1</td>\n",
       "      <td>3</td>\n",
       "      <td>2010-02-05</td>\n",
       "      <td>13740.12</td>\n",
       "      <td>False</td>\n",
       "      <td>A</td>\n",
       "      <td>151315</td>\n",
       "    </tr>\n",
       "    <tr>\n",
       "      <th>3</th>\n",
       "      <td>1</td>\n",
       "      <td>2010-02-05</td>\n",
       "      <td>42.31</td>\n",
       "      <td>2.572</td>\n",
       "      <td>NaN</td>\n",
       "      <td>NaN</td>\n",
       "      <td>NaN</td>\n",
       "      <td>NaN</td>\n",
       "      <td>NaN</td>\n",
       "      <td>211.096358</td>\n",
       "      <td>8.106</td>\n",
       "      <td>False</td>\n",
       "      <td>1_2010-02-05</td>\n",
       "      <td>1</td>\n",
       "      <td>4</td>\n",
       "      <td>2010-02-05</td>\n",
       "      <td>39954.04</td>\n",
       "      <td>False</td>\n",
       "      <td>A</td>\n",
       "      <td>151315</td>\n",
       "    </tr>\n",
       "    <tr>\n",
       "      <th>4</th>\n",
       "      <td>1</td>\n",
       "      <td>2010-02-05</td>\n",
       "      <td>42.31</td>\n",
       "      <td>2.572</td>\n",
       "      <td>NaN</td>\n",
       "      <td>NaN</td>\n",
       "      <td>NaN</td>\n",
       "      <td>NaN</td>\n",
       "      <td>NaN</td>\n",
       "      <td>211.096358</td>\n",
       "      <td>8.106</td>\n",
       "      <td>False</td>\n",
       "      <td>1_2010-02-05</td>\n",
       "      <td>1</td>\n",
       "      <td>5</td>\n",
       "      <td>2010-02-05</td>\n",
       "      <td>32229.38</td>\n",
       "      <td>False</td>\n",
       "      <td>A</td>\n",
       "      <td>151315</td>\n",
       "    </tr>\n",
       "  </tbody>\n",
       "</table>\n",
       "</div>"
      ],
      "text/plain": [
       "   Store_x      Date_x  Temperature  Fuel_Price  MarkDown1  MarkDown2  \\\n",
       "0        1  2010-02-05        42.31       2.572        NaN        NaN   \n",
       "1        1  2010-02-05        42.31       2.572        NaN        NaN   \n",
       "2        1  2010-02-05        42.31       2.572        NaN        NaN   \n",
       "3        1  2010-02-05        42.31       2.572        NaN        NaN   \n",
       "4        1  2010-02-05        42.31       2.572        NaN        NaN   \n",
       "\n",
       "   MarkDown3  MarkDown4  MarkDown5         CPI  Unemployment  IsHoliday_x  \\\n",
       "0        NaN        NaN        NaN  211.096358         8.106        False   \n",
       "1        NaN        NaN        NaN  211.096358         8.106        False   \n",
       "2        NaN        NaN        NaN  211.096358         8.106        False   \n",
       "3        NaN        NaN        NaN  211.096358         8.106        False   \n",
       "4        NaN        NaN        NaN  211.096358         8.106        False   \n",
       "\n",
       "            s_d  Store_y  Dept      Date_y  Weekly_Sales  IsHoliday_y Type  \\\n",
       "0  1_2010-02-05        1     1  2010-02-05      24924.50        False    A   \n",
       "1  1_2010-02-05        1     2  2010-02-05      50605.27        False    A   \n",
       "2  1_2010-02-05        1     3  2010-02-05      13740.12        False    A   \n",
       "3  1_2010-02-05        1     4  2010-02-05      39954.04        False    A   \n",
       "4  1_2010-02-05        1     5  2010-02-05      32229.38        False    A   \n",
       "\n",
       "     Size  \n",
       "0  151315  \n",
       "1  151315  \n",
       "2  151315  \n",
       "3  151315  \n",
       "4  151315  "
      ]
     },
     "execution_count": 17,
     "metadata": {},
     "output_type": "execute_result"
    }
   ],
   "source": [
    "df = pd.merge(left = features, right = t_s ,left_on ='s_d',right_on ='s_d')\n",
    "df.head()"
   ]
  },
  {
   "cell_type": "code",
   "execution_count": 18,
   "metadata": {},
   "outputs": [],
   "source": [
    "df['id'] = df['Store_x'].astype('str') + '_' +df['Dept'].astype('str') + '_' +df['Date_x'].astype('str')"
   ]
  },
  {
   "cell_type": "code",
   "execution_count": 19,
   "metadata": {},
   "outputs": [
    {
     "data": {
      "text/html": [
       "<div>\n",
       "<style scoped>\n",
       "    .dataframe tbody tr th:only-of-type {\n",
       "        vertical-align: middle;\n",
       "    }\n",
       "\n",
       "    .dataframe tbody tr th {\n",
       "        vertical-align: top;\n",
       "    }\n",
       "\n",
       "    .dataframe thead th {\n",
       "        text-align: right;\n",
       "    }\n",
       "</style>\n",
       "<table border=\"1\" class=\"dataframe\">\n",
       "  <thead>\n",
       "    <tr style=\"text-align: right;\">\n",
       "      <th></th>\n",
       "      <th>Store_x</th>\n",
       "      <th>Date_x</th>\n",
       "      <th>Temperature</th>\n",
       "      <th>Fuel_Price</th>\n",
       "      <th>MarkDown1</th>\n",
       "      <th>MarkDown2</th>\n",
       "      <th>MarkDown3</th>\n",
       "      <th>MarkDown4</th>\n",
       "      <th>MarkDown5</th>\n",
       "      <th>CPI</th>\n",
       "      <th>...</th>\n",
       "      <th>IsHoliday_x</th>\n",
       "      <th>s_d</th>\n",
       "      <th>Store_y</th>\n",
       "      <th>Dept</th>\n",
       "      <th>Date_y</th>\n",
       "      <th>Weekly_Sales</th>\n",
       "      <th>IsHoliday_y</th>\n",
       "      <th>Type</th>\n",
       "      <th>Size</th>\n",
       "      <th>id</th>\n",
       "    </tr>\n",
       "  </thead>\n",
       "  <tbody>\n",
       "    <tr>\n",
       "      <th>0</th>\n",
       "      <td>1</td>\n",
       "      <td>2010-02-05</td>\n",
       "      <td>42.31</td>\n",
       "      <td>2.572</td>\n",
       "      <td>NaN</td>\n",
       "      <td>NaN</td>\n",
       "      <td>NaN</td>\n",
       "      <td>NaN</td>\n",
       "      <td>NaN</td>\n",
       "      <td>211.096358</td>\n",
       "      <td>...</td>\n",
       "      <td>False</td>\n",
       "      <td>1_2010-02-05</td>\n",
       "      <td>1</td>\n",
       "      <td>1</td>\n",
       "      <td>2010-02-05</td>\n",
       "      <td>24924.50</td>\n",
       "      <td>False</td>\n",
       "      <td>A</td>\n",
       "      <td>151315</td>\n",
       "      <td>1_1_2010-02-05</td>\n",
       "    </tr>\n",
       "    <tr>\n",
       "      <th>1</th>\n",
       "      <td>1</td>\n",
       "      <td>2010-02-05</td>\n",
       "      <td>42.31</td>\n",
       "      <td>2.572</td>\n",
       "      <td>NaN</td>\n",
       "      <td>NaN</td>\n",
       "      <td>NaN</td>\n",
       "      <td>NaN</td>\n",
       "      <td>NaN</td>\n",
       "      <td>211.096358</td>\n",
       "      <td>...</td>\n",
       "      <td>False</td>\n",
       "      <td>1_2010-02-05</td>\n",
       "      <td>1</td>\n",
       "      <td>2</td>\n",
       "      <td>2010-02-05</td>\n",
       "      <td>50605.27</td>\n",
       "      <td>False</td>\n",
       "      <td>A</td>\n",
       "      <td>151315</td>\n",
       "      <td>1_2_2010-02-05</td>\n",
       "    </tr>\n",
       "    <tr>\n",
       "      <th>2</th>\n",
       "      <td>1</td>\n",
       "      <td>2010-02-05</td>\n",
       "      <td>42.31</td>\n",
       "      <td>2.572</td>\n",
       "      <td>NaN</td>\n",
       "      <td>NaN</td>\n",
       "      <td>NaN</td>\n",
       "      <td>NaN</td>\n",
       "      <td>NaN</td>\n",
       "      <td>211.096358</td>\n",
       "      <td>...</td>\n",
       "      <td>False</td>\n",
       "      <td>1_2010-02-05</td>\n",
       "      <td>1</td>\n",
       "      <td>3</td>\n",
       "      <td>2010-02-05</td>\n",
       "      <td>13740.12</td>\n",
       "      <td>False</td>\n",
       "      <td>A</td>\n",
       "      <td>151315</td>\n",
       "      <td>1_3_2010-02-05</td>\n",
       "    </tr>\n",
       "    <tr>\n",
       "      <th>3</th>\n",
       "      <td>1</td>\n",
       "      <td>2010-02-05</td>\n",
       "      <td>42.31</td>\n",
       "      <td>2.572</td>\n",
       "      <td>NaN</td>\n",
       "      <td>NaN</td>\n",
       "      <td>NaN</td>\n",
       "      <td>NaN</td>\n",
       "      <td>NaN</td>\n",
       "      <td>211.096358</td>\n",
       "      <td>...</td>\n",
       "      <td>False</td>\n",
       "      <td>1_2010-02-05</td>\n",
       "      <td>1</td>\n",
       "      <td>4</td>\n",
       "      <td>2010-02-05</td>\n",
       "      <td>39954.04</td>\n",
       "      <td>False</td>\n",
       "      <td>A</td>\n",
       "      <td>151315</td>\n",
       "      <td>1_4_2010-02-05</td>\n",
       "    </tr>\n",
       "    <tr>\n",
       "      <th>4</th>\n",
       "      <td>1</td>\n",
       "      <td>2010-02-05</td>\n",
       "      <td>42.31</td>\n",
       "      <td>2.572</td>\n",
       "      <td>NaN</td>\n",
       "      <td>NaN</td>\n",
       "      <td>NaN</td>\n",
       "      <td>NaN</td>\n",
       "      <td>NaN</td>\n",
       "      <td>211.096358</td>\n",
       "      <td>...</td>\n",
       "      <td>False</td>\n",
       "      <td>1_2010-02-05</td>\n",
       "      <td>1</td>\n",
       "      <td>5</td>\n",
       "      <td>2010-02-05</td>\n",
       "      <td>32229.38</td>\n",
       "      <td>False</td>\n",
       "      <td>A</td>\n",
       "      <td>151315</td>\n",
       "      <td>1_5_2010-02-05</td>\n",
       "    </tr>\n",
       "  </tbody>\n",
       "</table>\n",
       "<p>5 rows × 21 columns</p>\n",
       "</div>"
      ],
      "text/plain": [
       "   Store_x      Date_x  Temperature  Fuel_Price  MarkDown1  MarkDown2  \\\n",
       "0        1  2010-02-05        42.31       2.572        NaN        NaN   \n",
       "1        1  2010-02-05        42.31       2.572        NaN        NaN   \n",
       "2        1  2010-02-05        42.31       2.572        NaN        NaN   \n",
       "3        1  2010-02-05        42.31       2.572        NaN        NaN   \n",
       "4        1  2010-02-05        42.31       2.572        NaN        NaN   \n",
       "\n",
       "   MarkDown3  MarkDown4  MarkDown5         CPI  ...  IsHoliday_x  \\\n",
       "0        NaN        NaN        NaN  211.096358  ...        False   \n",
       "1        NaN        NaN        NaN  211.096358  ...        False   \n",
       "2        NaN        NaN        NaN  211.096358  ...        False   \n",
       "3        NaN        NaN        NaN  211.096358  ...        False   \n",
       "4        NaN        NaN        NaN  211.096358  ...        False   \n",
       "\n",
       "            s_d Store_y  Dept      Date_y Weekly_Sales  IsHoliday_y  Type  \\\n",
       "0  1_2010-02-05       1     1  2010-02-05     24924.50        False     A   \n",
       "1  1_2010-02-05       1     2  2010-02-05     50605.27        False     A   \n",
       "2  1_2010-02-05       1     3  2010-02-05     13740.12        False     A   \n",
       "3  1_2010-02-05       1     4  2010-02-05     39954.04        False     A   \n",
       "4  1_2010-02-05       1     5  2010-02-05     32229.38        False     A   \n",
       "\n",
       "     Size              id  \n",
       "0  151315  1_1_2010-02-05  \n",
       "1  151315  1_2_2010-02-05  \n",
       "2  151315  1_3_2010-02-05  \n",
       "3  151315  1_4_2010-02-05  \n",
       "4  151315  1_5_2010-02-05  \n",
       "\n",
       "[5 rows x 21 columns]"
      ]
     },
     "execution_count": 19,
     "metadata": {},
     "output_type": "execute_result"
    }
   ],
   "source": [
    "df.head()"
   ]
  },
  {
   "cell_type": "code",
   "execution_count": 20,
   "metadata": {},
   "outputs": [],
   "source": [
    "df.drop(['s_d','Store_y','Date_y','IsHoliday_y'],axis=1,inplace=True)"
   ]
  },
  {
   "cell_type": "code",
   "execution_count": 21,
   "metadata": {},
   "outputs": [],
   "source": [
    "df.rename({'Store_x':'Store','Date_x':'Date','IsHoliday_x':'IsHoliday'},axis=1,inplace=True)"
   ]
  },
  {
   "cell_type": "code",
   "execution_count": 22,
   "metadata": {},
   "outputs": [
    {
     "data": {
      "text/html": [
       "<div>\n",
       "<style scoped>\n",
       "    .dataframe tbody tr th:only-of-type {\n",
       "        vertical-align: middle;\n",
       "    }\n",
       "\n",
       "    .dataframe tbody tr th {\n",
       "        vertical-align: top;\n",
       "    }\n",
       "\n",
       "    .dataframe thead th {\n",
       "        text-align: right;\n",
       "    }\n",
       "</style>\n",
       "<table border=\"1\" class=\"dataframe\">\n",
       "  <thead>\n",
       "    <tr style=\"text-align: right;\">\n",
       "      <th></th>\n",
       "      <th>Store</th>\n",
       "      <th>Date</th>\n",
       "      <th>Temperature</th>\n",
       "      <th>Fuel_Price</th>\n",
       "      <th>MarkDown1</th>\n",
       "      <th>MarkDown2</th>\n",
       "      <th>MarkDown3</th>\n",
       "      <th>MarkDown4</th>\n",
       "      <th>MarkDown5</th>\n",
       "      <th>CPI</th>\n",
       "      <th>Unemployment</th>\n",
       "      <th>IsHoliday</th>\n",
       "      <th>Dept</th>\n",
       "      <th>Weekly_Sales</th>\n",
       "      <th>Type</th>\n",
       "      <th>Size</th>\n",
       "      <th>id</th>\n",
       "    </tr>\n",
       "  </thead>\n",
       "  <tbody>\n",
       "    <tr>\n",
       "      <th>0</th>\n",
       "      <td>1</td>\n",
       "      <td>2010-02-05</td>\n",
       "      <td>42.31</td>\n",
       "      <td>2.572</td>\n",
       "      <td>NaN</td>\n",
       "      <td>NaN</td>\n",
       "      <td>NaN</td>\n",
       "      <td>NaN</td>\n",
       "      <td>NaN</td>\n",
       "      <td>211.096358</td>\n",
       "      <td>8.106</td>\n",
       "      <td>False</td>\n",
       "      <td>1</td>\n",
       "      <td>24924.50</td>\n",
       "      <td>A</td>\n",
       "      <td>151315</td>\n",
       "      <td>1_1_2010-02-05</td>\n",
       "    </tr>\n",
       "    <tr>\n",
       "      <th>1</th>\n",
       "      <td>1</td>\n",
       "      <td>2010-02-05</td>\n",
       "      <td>42.31</td>\n",
       "      <td>2.572</td>\n",
       "      <td>NaN</td>\n",
       "      <td>NaN</td>\n",
       "      <td>NaN</td>\n",
       "      <td>NaN</td>\n",
       "      <td>NaN</td>\n",
       "      <td>211.096358</td>\n",
       "      <td>8.106</td>\n",
       "      <td>False</td>\n",
       "      <td>2</td>\n",
       "      <td>50605.27</td>\n",
       "      <td>A</td>\n",
       "      <td>151315</td>\n",
       "      <td>1_2_2010-02-05</td>\n",
       "    </tr>\n",
       "    <tr>\n",
       "      <th>2</th>\n",
       "      <td>1</td>\n",
       "      <td>2010-02-05</td>\n",
       "      <td>42.31</td>\n",
       "      <td>2.572</td>\n",
       "      <td>NaN</td>\n",
       "      <td>NaN</td>\n",
       "      <td>NaN</td>\n",
       "      <td>NaN</td>\n",
       "      <td>NaN</td>\n",
       "      <td>211.096358</td>\n",
       "      <td>8.106</td>\n",
       "      <td>False</td>\n",
       "      <td>3</td>\n",
       "      <td>13740.12</td>\n",
       "      <td>A</td>\n",
       "      <td>151315</td>\n",
       "      <td>1_3_2010-02-05</td>\n",
       "    </tr>\n",
       "    <tr>\n",
       "      <th>3</th>\n",
       "      <td>1</td>\n",
       "      <td>2010-02-05</td>\n",
       "      <td>42.31</td>\n",
       "      <td>2.572</td>\n",
       "      <td>NaN</td>\n",
       "      <td>NaN</td>\n",
       "      <td>NaN</td>\n",
       "      <td>NaN</td>\n",
       "      <td>NaN</td>\n",
       "      <td>211.096358</td>\n",
       "      <td>8.106</td>\n",
       "      <td>False</td>\n",
       "      <td>4</td>\n",
       "      <td>39954.04</td>\n",
       "      <td>A</td>\n",
       "      <td>151315</td>\n",
       "      <td>1_4_2010-02-05</td>\n",
       "    </tr>\n",
       "    <tr>\n",
       "      <th>4</th>\n",
       "      <td>1</td>\n",
       "      <td>2010-02-05</td>\n",
       "      <td>42.31</td>\n",
       "      <td>2.572</td>\n",
       "      <td>NaN</td>\n",
       "      <td>NaN</td>\n",
       "      <td>NaN</td>\n",
       "      <td>NaN</td>\n",
       "      <td>NaN</td>\n",
       "      <td>211.096358</td>\n",
       "      <td>8.106</td>\n",
       "      <td>False</td>\n",
       "      <td>5</td>\n",
       "      <td>32229.38</td>\n",
       "      <td>A</td>\n",
       "      <td>151315</td>\n",
       "      <td>1_5_2010-02-05</td>\n",
       "    </tr>\n",
       "  </tbody>\n",
       "</table>\n",
       "</div>"
      ],
      "text/plain": [
       "   Store        Date  Temperature  Fuel_Price  MarkDown1  MarkDown2  \\\n",
       "0      1  2010-02-05        42.31       2.572        NaN        NaN   \n",
       "1      1  2010-02-05        42.31       2.572        NaN        NaN   \n",
       "2      1  2010-02-05        42.31       2.572        NaN        NaN   \n",
       "3      1  2010-02-05        42.31       2.572        NaN        NaN   \n",
       "4      1  2010-02-05        42.31       2.572        NaN        NaN   \n",
       "\n",
       "   MarkDown3  MarkDown4  MarkDown5         CPI  Unemployment  IsHoliday  Dept  \\\n",
       "0        NaN        NaN        NaN  211.096358         8.106      False     1   \n",
       "1        NaN        NaN        NaN  211.096358         8.106      False     2   \n",
       "2        NaN        NaN        NaN  211.096358         8.106      False     3   \n",
       "3        NaN        NaN        NaN  211.096358         8.106      False     4   \n",
       "4        NaN        NaN        NaN  211.096358         8.106      False     5   \n",
       "\n",
       "   Weekly_Sales Type    Size              id  \n",
       "0      24924.50    A  151315  1_1_2010-02-05  \n",
       "1      50605.27    A  151315  1_2_2010-02-05  \n",
       "2      13740.12    A  151315  1_3_2010-02-05  \n",
       "3      39954.04    A  151315  1_4_2010-02-05  \n",
       "4      32229.38    A  151315  1_5_2010-02-05  "
      ]
     },
     "execution_count": 22,
     "metadata": {},
     "output_type": "execute_result"
    }
   ],
   "source": [
    "df.head()"
   ]
  },
  {
   "cell_type": "code",
   "execution_count": 23,
   "metadata": {},
   "outputs": [],
   "source": [
    "df['Date']=pd.to_datetime(df.Date).copy()"
   ]
  },
  {
   "cell_type": "markdown",
   "metadata": {},
   "source": [
    "### Checking whether holidays are not marked as false as mentioned in the que.."
   ]
  },
  {
   "cell_type": "code",
   "execution_count": 24,
   "metadata": {},
   "outputs": [],
   "source": [
    "holidays =['12-Feb-10', '11-Feb-11', '10-Feb-12', '8-Feb-13','10-Sep-10','9-Sep-11','7-Sep-12','6-Sep-13','26-Nov-10','25-Nov-11','23-Nov-12','29-Nov-13',\n",
    "            '31-Dec-10','30-Dec-11','28-Dec-12','27-Dec-13']"
   ]
  },
  {
   "cell_type": "code",
   "execution_count": 25,
   "metadata": {},
   "outputs": [
    {
     "data": {
      "text/html": [
       "<div>\n",
       "<style scoped>\n",
       "    .dataframe tbody tr th:only-of-type {\n",
       "        vertical-align: middle;\n",
       "    }\n",
       "\n",
       "    .dataframe tbody tr th {\n",
       "        vertical-align: top;\n",
       "    }\n",
       "\n",
       "    .dataframe thead th {\n",
       "        text-align: right;\n",
       "    }\n",
       "</style>\n",
       "<table border=\"1\" class=\"dataframe\">\n",
       "  <thead>\n",
       "    <tr style=\"text-align: right;\">\n",
       "      <th></th>\n",
       "      <th>Store</th>\n",
       "      <th>Date</th>\n",
       "      <th>Temperature</th>\n",
       "      <th>Fuel_Price</th>\n",
       "      <th>MarkDown1</th>\n",
       "      <th>MarkDown2</th>\n",
       "      <th>MarkDown3</th>\n",
       "      <th>MarkDown4</th>\n",
       "      <th>MarkDown5</th>\n",
       "      <th>CPI</th>\n",
       "      <th>Unemployment</th>\n",
       "      <th>IsHoliday</th>\n",
       "      <th>Dept</th>\n",
       "      <th>Weekly_Sales</th>\n",
       "      <th>Type</th>\n",
       "      <th>Size</th>\n",
       "      <th>id</th>\n",
       "    </tr>\n",
       "  </thead>\n",
       "  <tbody>\n",
       "  </tbody>\n",
       "</table>\n",
       "</div>"
      ],
      "text/plain": [
       "Empty DataFrame\n",
       "Columns: [Store, Date, Temperature, Fuel_Price, MarkDown1, MarkDown2, MarkDown3, MarkDown4, MarkDown5, CPI, Unemployment, IsHoliday, Dept, Weekly_Sales, Type, Size, id]\n",
       "Index: []"
      ]
     },
     "execution_count": 25,
     "metadata": {},
     "output_type": "execute_result"
    }
   ],
   "source": [
    "df.loc[(df['Date'].isin(holidays)) & (df['IsHoliday'] == False)]"
   ]
  },
  {
   "cell_type": "code",
   "execution_count": 26,
   "metadata": {},
   "outputs": [],
   "source": [
    "def continuous_var_summary(x):\n",
    "    return pd.Series([x.dtype, x.nunique(), x.count(), x.isnull().sum(), x.sum(), x.mean(),\n",
    "                      x.median(), x.std(), x.var(), x.min(), x.quantile(0.01), x.quantile(0.05),\n",
    "                          x.quantile(0.10),x.quantile(0.25),x.quantile(0.50),x.quantile(0.75), \n",
    "                              x.quantile(0.90),x.quantile(0.95), x.quantile(0.99),x.max()], \n",
    "            index = ['DataType', 'C', 'N', 'NMISS', 'SUM', 'MEAN','MEDIAN', 'STD', 'VAR', 'MIN', \n",
    "                           'P1', 'P5' ,'P10' ,'P25' ,'P50' ,'P75' ,'P90' ,'P95' ,'P99' ,'MAX'])"
   ]
  },
  {
   "cell_type": "code",
   "execution_count": 27,
   "metadata": {},
   "outputs": [
    {
     "data": {
      "text/html": [
       "<div>\n",
       "<style scoped>\n",
       "    .dataframe tbody tr th:only-of-type {\n",
       "        vertical-align: middle;\n",
       "    }\n",
       "\n",
       "    .dataframe tbody tr th {\n",
       "        vertical-align: top;\n",
       "    }\n",
       "\n",
       "    .dataframe thead th {\n",
       "        text-align: right;\n",
       "    }\n",
       "</style>\n",
       "<table border=\"1\" class=\"dataframe\">\n",
       "  <thead>\n",
       "    <tr style=\"text-align: right;\">\n",
       "      <th></th>\n",
       "      <th>DataType</th>\n",
       "      <th>C</th>\n",
       "      <th>N</th>\n",
       "      <th>NMISS</th>\n",
       "      <th>SUM</th>\n",
       "      <th>MEAN</th>\n",
       "      <th>MEDIAN</th>\n",
       "      <th>STD</th>\n",
       "      <th>VAR</th>\n",
       "      <th>MIN</th>\n",
       "      <th>P1</th>\n",
       "      <th>P5</th>\n",
       "      <th>P10</th>\n",
       "      <th>P25</th>\n",
       "      <th>P50</th>\n",
       "      <th>P75</th>\n",
       "      <th>P90</th>\n",
       "      <th>P95</th>\n",
       "      <th>P99</th>\n",
       "      <th>MAX</th>\n",
       "    </tr>\n",
       "  </thead>\n",
       "  <tbody>\n",
       "    <tr>\n",
       "      <th>CPI</th>\n",
       "      <td>float64</td>\n",
       "      <td>2145</td>\n",
       "      <td>421570</td>\n",
       "      <td>0</td>\n",
       "      <td>7.21736e+07</td>\n",
       "      <td>171.202</td>\n",
       "      <td>182.319</td>\n",
       "      <td>39.1593</td>\n",
       "      <td>1533.45</td>\n",
       "      <td>126.064</td>\n",
       "      <td>126.112</td>\n",
       "      <td>126.496</td>\n",
       "      <td>128.824</td>\n",
       "      <td>132.023</td>\n",
       "      <td>182.319</td>\n",
       "      <td>212.417</td>\n",
       "      <td>219.444</td>\n",
       "      <td>221.942</td>\n",
       "      <td>225.474</td>\n",
       "      <td>227.233</td>\n",
       "    </tr>\n",
       "    <tr>\n",
       "      <th>Dept</th>\n",
       "      <td>int64</td>\n",
       "      <td>81</td>\n",
       "      <td>421570</td>\n",
       "      <td>0</td>\n",
       "      <td>18658822</td>\n",
       "      <td>44.2603</td>\n",
       "      <td>37</td>\n",
       "      <td>30.4921</td>\n",
       "      <td>929.765</td>\n",
       "      <td>1</td>\n",
       "      <td>1</td>\n",
       "      <td>4</td>\n",
       "      <td>7</td>\n",
       "      <td>18</td>\n",
       "      <td>37</td>\n",
       "      <td>74</td>\n",
       "      <td>92</td>\n",
       "      <td>95</td>\n",
       "      <td>98</td>\n",
       "      <td>99</td>\n",
       "    </tr>\n",
       "    <tr>\n",
       "      <th>Fuel_Price</th>\n",
       "      <td>float64</td>\n",
       "      <td>892</td>\n",
       "      <td>421570</td>\n",
       "      <td>0</td>\n",
       "      <td>1.41691e+06</td>\n",
       "      <td>3.36103</td>\n",
       "      <td>3.452</td>\n",
       "      <td>0.458515</td>\n",
       "      <td>0.210236</td>\n",
       "      <td>2.472</td>\n",
       "      <td>2.565</td>\n",
       "      <td>2.653</td>\n",
       "      <td>2.72</td>\n",
       "      <td>2.933</td>\n",
       "      <td>3.452</td>\n",
       "      <td>3.738</td>\n",
       "      <td>3.917</td>\n",
       "      <td>4.029</td>\n",
       "      <td>4.202</td>\n",
       "      <td>4.468</td>\n",
       "    </tr>\n",
       "    <tr>\n",
       "      <th>IsHoliday</th>\n",
       "      <td>bool</td>\n",
       "      <td>2</td>\n",
       "      <td>421570</td>\n",
       "      <td>0</td>\n",
       "      <td>29661</td>\n",
       "      <td>0.0703584</td>\n",
       "      <td>0</td>\n",
       "      <td>0.25575</td>\n",
       "      <td>0.0654083</td>\n",
       "      <td>False</td>\n",
       "      <td>0</td>\n",
       "      <td>0</td>\n",
       "      <td>0</td>\n",
       "      <td>0</td>\n",
       "      <td>0</td>\n",
       "      <td>0</td>\n",
       "      <td>0</td>\n",
       "      <td>1</td>\n",
       "      <td>1</td>\n",
       "      <td>True</td>\n",
       "    </tr>\n",
       "    <tr>\n",
       "      <th>MarkDown1</th>\n",
       "      <td>float64</td>\n",
       "      <td>2277</td>\n",
       "      <td>150681</td>\n",
       "      <td>270889</td>\n",
       "      <td>1.0919e+09</td>\n",
       "      <td>7246.42</td>\n",
       "      <td>5347.45</td>\n",
       "      <td>8291.22</td>\n",
       "      <td>6.87444e+07</td>\n",
       "      <td>0.27</td>\n",
       "      <td>17.76</td>\n",
       "      <td>149.19</td>\n",
       "      <td>375.2</td>\n",
       "      <td>2240.27</td>\n",
       "      <td>5347.45</td>\n",
       "      <td>9210.9</td>\n",
       "      <td>15282.5</td>\n",
       "      <td>21801.3</td>\n",
       "      <td>41524</td>\n",
       "      <td>88646.8</td>\n",
       "    </tr>\n",
       "    <tr>\n",
       "      <th>MarkDown2</th>\n",
       "      <td>float64</td>\n",
       "      <td>1499</td>\n",
       "      <td>111248</td>\n",
       "      <td>310322</td>\n",
       "      <td>3.70971e+08</td>\n",
       "      <td>3334.63</td>\n",
       "      <td>192</td>\n",
       "      <td>9475.36</td>\n",
       "      <td>8.97824e+07</td>\n",
       "      <td>-265.76</td>\n",
       "      <td>-0.99</td>\n",
       "      <td>1.95</td>\n",
       "      <td>6.98</td>\n",
       "      <td>41.6</td>\n",
       "      <td>192</td>\n",
       "      <td>1926.94</td>\n",
       "      <td>8549.74</td>\n",
       "      <td>16497.5</td>\n",
       "      <td>50366.6</td>\n",
       "      <td>104520</td>\n",
       "    </tr>\n",
       "    <tr>\n",
       "      <th>MarkDown3</th>\n",
       "      <td>float64</td>\n",
       "      <td>1662</td>\n",
       "      <td>137091</td>\n",
       "      <td>284479</td>\n",
       "      <td>1.97332e+08</td>\n",
       "      <td>1439.42</td>\n",
       "      <td>24.6</td>\n",
       "      <td>9623.08</td>\n",
       "      <td>9.26036e+07</td>\n",
       "      <td>-29.1</td>\n",
       "      <td>0.06</td>\n",
       "      <td>0.65</td>\n",
       "      <td>1.65</td>\n",
       "      <td>5.08</td>\n",
       "      <td>24.6</td>\n",
       "      <td>103.99</td>\n",
       "      <td>400.09</td>\n",
       "      <td>1059.9</td>\n",
       "      <td>63143.3</td>\n",
       "      <td>141631</td>\n",
       "    </tr>\n",
       "    <tr>\n",
       "      <th>MarkDown4</th>\n",
       "      <td>float64</td>\n",
       "      <td>1944</td>\n",
       "      <td>134967</td>\n",
       "      <td>286603</td>\n",
       "      <td>4.56616e+08</td>\n",
       "      <td>3383.17</td>\n",
       "      <td>1481.31</td>\n",
       "      <td>6292.38</td>\n",
       "      <td>3.95941e+07</td>\n",
       "      <td>0.22</td>\n",
       "      <td>3.97</td>\n",
       "      <td>28.76</td>\n",
       "      <td>108.71</td>\n",
       "      <td>504.22</td>\n",
       "      <td>1481.31</td>\n",
       "      <td>3595.04</td>\n",
       "      <td>7871.42</td>\n",
       "      <td>12646</td>\n",
       "      <td>35785.3</td>\n",
       "      <td>67474.9</td>\n",
       "    </tr>\n",
       "    <tr>\n",
       "      <th>MarkDown5</th>\n",
       "      <td>float64</td>\n",
       "      <td>2293</td>\n",
       "      <td>151432</td>\n",
       "      <td>270138</td>\n",
       "      <td>7.00975e+08</td>\n",
       "      <td>4628.98</td>\n",
       "      <td>3359.45</td>\n",
       "      <td>5962.89</td>\n",
       "      <td>3.5556e+07</td>\n",
       "      <td>135.16</td>\n",
       "      <td>351.97</td>\n",
       "      <td>715.52</td>\n",
       "      <td>1070.83</td>\n",
       "      <td>1878.44</td>\n",
       "      <td>3359.45</td>\n",
       "      <td>5563.8</td>\n",
       "      <td>8337.7</td>\n",
       "      <td>11269.2</td>\n",
       "      <td>27754.2</td>\n",
       "      <td>108519</td>\n",
       "    </tr>\n",
       "    <tr>\n",
       "      <th>Size</th>\n",
       "      <td>int64</td>\n",
       "      <td>40</td>\n",
       "      <td>421570</td>\n",
       "      <td>0</td>\n",
       "      <td>57640387438</td>\n",
       "      <td>136728</td>\n",
       "      <td>140167</td>\n",
       "      <td>60980.6</td>\n",
       "      <td>3.71863e+09</td>\n",
       "      <td>34875</td>\n",
       "      <td>34875</td>\n",
       "      <td>39690</td>\n",
       "      <td>39910</td>\n",
       "      <td>93638</td>\n",
       "      <td>140167</td>\n",
       "      <td>202505</td>\n",
       "      <td>204184</td>\n",
       "      <td>206302</td>\n",
       "      <td>219622</td>\n",
       "      <td>219622</td>\n",
       "    </tr>\n",
       "    <tr>\n",
       "      <th>Store</th>\n",
       "      <td>int64</td>\n",
       "      <td>45</td>\n",
       "      <td>421570</td>\n",
       "      <td>0</td>\n",
       "      <td>9359084</td>\n",
       "      <td>22.2005</td>\n",
       "      <td>22</td>\n",
       "      <td>12.7853</td>\n",
       "      <td>163.464</td>\n",
       "      <td>1</td>\n",
       "      <td>1</td>\n",
       "      <td>3</td>\n",
       "      <td>5</td>\n",
       "      <td>11</td>\n",
       "      <td>22</td>\n",
       "      <td>33</td>\n",
       "      <td>40</td>\n",
       "      <td>43</td>\n",
       "      <td>45</td>\n",
       "      <td>45</td>\n",
       "    </tr>\n",
       "    <tr>\n",
       "      <th>Temperature</th>\n",
       "      <td>float64</td>\n",
       "      <td>3528</td>\n",
       "      <td>421570</td>\n",
       "      <td>0</td>\n",
       "      <td>2.53322e+07</td>\n",
       "      <td>60.0901</td>\n",
       "      <td>62.09</td>\n",
       "      <td>18.4479</td>\n",
       "      <td>340.326</td>\n",
       "      <td>-2.06</td>\n",
       "      <td>18.3</td>\n",
       "      <td>27.31</td>\n",
       "      <td>33.98</td>\n",
       "      <td>46.68</td>\n",
       "      <td>62.09</td>\n",
       "      <td>74.28</td>\n",
       "      <td>83.58</td>\n",
       "      <td>87.27</td>\n",
       "      <td>92.81</td>\n",
       "      <td>100.14</td>\n",
       "    </tr>\n",
       "    <tr>\n",
       "      <th>Unemployment</th>\n",
       "      <td>float64</td>\n",
       "      <td>349</td>\n",
       "      <td>421570</td>\n",
       "      <td>0</td>\n",
       "      <td>3.35582e+06</td>\n",
       "      <td>7.96029</td>\n",
       "      <td>7.866</td>\n",
       "      <td>1.8633</td>\n",
       "      <td>3.47187</td>\n",
       "      <td>3.879</td>\n",
       "      <td>4.156</td>\n",
       "      <td>5.326</td>\n",
       "      <td>5.965</td>\n",
       "      <td>6.891</td>\n",
       "      <td>7.866</td>\n",
       "      <td>8.572</td>\n",
       "      <td>9.816</td>\n",
       "      <td>12.187</td>\n",
       "      <td>14.18</td>\n",
       "      <td>14.313</td>\n",
       "    </tr>\n",
       "    <tr>\n",
       "      <th>Weekly_Sales</th>\n",
       "      <td>float64</td>\n",
       "      <td>359464</td>\n",
       "      <td>421570</td>\n",
       "      <td>0</td>\n",
       "      <td>6.73722e+09</td>\n",
       "      <td>15981.3</td>\n",
       "      <td>7612.03</td>\n",
       "      <td>22711.2</td>\n",
       "      <td>5.15798e+08</td>\n",
       "      <td>-4988.94</td>\n",
       "      <td>5</td>\n",
       "      <td>59.9745</td>\n",
       "      <td>291.097</td>\n",
       "      <td>2079.65</td>\n",
       "      <td>7612.03</td>\n",
       "      <td>20205.9</td>\n",
       "      <td>42845.7</td>\n",
       "      <td>61202</td>\n",
       "      <td>106480</td>\n",
       "      <td>693099</td>\n",
       "    </tr>\n",
       "  </tbody>\n",
       "</table>\n",
       "</div>"
      ],
      "text/plain": [
       "             DataType       C       N   NMISS          SUM       MEAN  \\\n",
       "CPI           float64    2145  421570       0  7.21736e+07    171.202   \n",
       "Dept            int64      81  421570       0     18658822    44.2603   \n",
       "Fuel_Price    float64     892  421570       0  1.41691e+06    3.36103   \n",
       "IsHoliday        bool       2  421570       0        29661  0.0703584   \n",
       "MarkDown1     float64    2277  150681  270889   1.0919e+09    7246.42   \n",
       "MarkDown2     float64    1499  111248  310322  3.70971e+08    3334.63   \n",
       "MarkDown3     float64    1662  137091  284479  1.97332e+08    1439.42   \n",
       "MarkDown4     float64    1944  134967  286603  4.56616e+08    3383.17   \n",
       "MarkDown5     float64    2293  151432  270138  7.00975e+08    4628.98   \n",
       "Size            int64      40  421570       0  57640387438     136728   \n",
       "Store           int64      45  421570       0      9359084    22.2005   \n",
       "Temperature   float64    3528  421570       0  2.53322e+07    60.0901   \n",
       "Unemployment  float64     349  421570       0  3.35582e+06    7.96029   \n",
       "Weekly_Sales  float64  359464  421570       0  6.73722e+09    15981.3   \n",
       "\n",
       "               MEDIAN       STD          VAR      MIN       P1       P5  \\\n",
       "CPI           182.319   39.1593      1533.45  126.064  126.112  126.496   \n",
       "Dept               37   30.4921      929.765        1        1        4   \n",
       "Fuel_Price      3.452  0.458515     0.210236    2.472    2.565    2.653   \n",
       "IsHoliday           0   0.25575    0.0654083    False        0        0   \n",
       "MarkDown1     5347.45   8291.22  6.87444e+07     0.27    17.76   149.19   \n",
       "MarkDown2         192   9475.36  8.97824e+07  -265.76    -0.99     1.95   \n",
       "MarkDown3        24.6   9623.08  9.26036e+07    -29.1     0.06     0.65   \n",
       "MarkDown4     1481.31   6292.38  3.95941e+07     0.22     3.97    28.76   \n",
       "MarkDown5     3359.45   5962.89   3.5556e+07   135.16   351.97   715.52   \n",
       "Size           140167   60980.6  3.71863e+09    34875    34875    39690   \n",
       "Store              22   12.7853      163.464        1        1        3   \n",
       "Temperature     62.09   18.4479      340.326    -2.06     18.3    27.31   \n",
       "Unemployment    7.866    1.8633      3.47187    3.879    4.156    5.326   \n",
       "Weekly_Sales  7612.03   22711.2  5.15798e+08 -4988.94        5  59.9745   \n",
       "\n",
       "                  P10      P25      P50      P75      P90      P95      P99  \\\n",
       "CPI           128.824  132.023  182.319  212.417  219.444  221.942  225.474   \n",
       "Dept                7       18       37       74       92       95       98   \n",
       "Fuel_Price       2.72    2.933    3.452    3.738    3.917    4.029    4.202   \n",
       "IsHoliday           0        0        0        0        0        1        1   \n",
       "MarkDown1       375.2  2240.27  5347.45   9210.9  15282.5  21801.3    41524   \n",
       "MarkDown2        6.98     41.6      192  1926.94  8549.74  16497.5  50366.6   \n",
       "MarkDown3        1.65     5.08     24.6   103.99   400.09   1059.9  63143.3   \n",
       "MarkDown4      108.71   504.22  1481.31  3595.04  7871.42    12646  35785.3   \n",
       "MarkDown5     1070.83  1878.44  3359.45   5563.8   8337.7  11269.2  27754.2   \n",
       "Size            39910    93638   140167   202505   204184   206302   219622   \n",
       "Store               5       11       22       33       40       43       45   \n",
       "Temperature     33.98    46.68    62.09    74.28    83.58    87.27    92.81   \n",
       "Unemployment    5.965    6.891    7.866    8.572    9.816   12.187    14.18   \n",
       "Weekly_Sales  291.097  2079.65  7612.03  20205.9  42845.7    61202   106480   \n",
       "\n",
       "                  MAX  \n",
       "CPI           227.233  \n",
       "Dept               99  \n",
       "Fuel_Price      4.468  \n",
       "IsHoliday        True  \n",
       "MarkDown1     88646.8  \n",
       "MarkDown2      104520  \n",
       "MarkDown3      141631  \n",
       "MarkDown4     67474.9  \n",
       "MarkDown5      108519  \n",
       "Size           219622  \n",
       "Store              45  \n",
       "Temperature    100.14  \n",
       "Unemployment   14.313  \n",
       "Weekly_Sales   693099  "
      ]
     },
     "execution_count": 27,
     "metadata": {},
     "output_type": "execute_result"
    }
   ],
   "source": [
    "df[df.columns.difference(['Date','id','Type'])].apply(continuous_var_summary).T"
   ]
  },
  {
   "cell_type": "code",
   "execution_count": 28,
   "metadata": {},
   "outputs": [],
   "source": [
    "cat_var =df.loc[:,['Type','Dept','IsHoliday']]"
   ]
  },
  {
   "cell_type": "code",
   "execution_count": 29,
   "metadata": {},
   "outputs": [],
   "source": [
    "cat_var = cat_var.astype('category').copy()"
   ]
  },
  {
   "cell_type": "code",
   "execution_count": 30,
   "metadata": {},
   "outputs": [],
   "source": [
    "cat_var_d = pd.get_dummies(cat_var,drop_first=True)"
   ]
  },
  {
   "cell_type": "code",
   "execution_count": 31,
   "metadata": {},
   "outputs": [
    {
     "data": {
      "text/plain": [
       "(421570, 83)"
      ]
     },
     "execution_count": 31,
     "metadata": {},
     "output_type": "execute_result"
    }
   ],
   "source": [
    "cat_var_d.shape"
   ]
  },
  {
   "cell_type": "code",
   "execution_count": 32,
   "metadata": {},
   "outputs": [],
   "source": [
    "num_var = df[df.columns.difference(['Type','Dept','IsHoliday','id'])]"
   ]
  },
  {
   "cell_type": "code",
   "execution_count": 33,
   "metadata": {},
   "outputs": [],
   "source": [
    "num_var = num_var.apply(lambda x: x.clip(lower = x.quantile(0.01), \n",
    "                                                         upper = x.quantile(0.99)))"
   ]
  },
  {
   "cell_type": "code",
   "execution_count": 34,
   "metadata": {},
   "outputs": [
    {
     "data": {
      "text/plain": [
       "(421570, 13)"
      ]
     },
     "execution_count": 34,
     "metadata": {},
     "output_type": "execute_result"
    }
   ],
   "source": [
    "num_var.shape"
   ]
  },
  {
   "cell_type": "code",
   "execution_count": 35,
   "metadata": {},
   "outputs": [],
   "source": [
    "df2 = pd.concat([num_var,cat_var_d],axis=1)"
   ]
  },
  {
   "cell_type": "code",
   "execution_count": 36,
   "metadata": {},
   "outputs": [
    {
     "data": {
      "text/html": [
       "<div>\n",
       "<style scoped>\n",
       "    .dataframe tbody tr th:only-of-type {\n",
       "        vertical-align: middle;\n",
       "    }\n",
       "\n",
       "    .dataframe tbody tr th {\n",
       "        vertical-align: top;\n",
       "    }\n",
       "\n",
       "    .dataframe thead th {\n",
       "        text-align: right;\n",
       "    }\n",
       "</style>\n",
       "<table border=\"1\" class=\"dataframe\">\n",
       "  <thead>\n",
       "    <tr style=\"text-align: right;\">\n",
       "      <th></th>\n",
       "      <th>CPI</th>\n",
       "      <th>Date</th>\n",
       "      <th>Fuel_Price</th>\n",
       "      <th>MarkDown1</th>\n",
       "      <th>MarkDown2</th>\n",
       "      <th>MarkDown3</th>\n",
       "      <th>MarkDown4</th>\n",
       "      <th>MarkDown5</th>\n",
       "      <th>Size</th>\n",
       "      <th>Store</th>\n",
       "      <th>...</th>\n",
       "      <th>Dept_91</th>\n",
       "      <th>Dept_92</th>\n",
       "      <th>Dept_93</th>\n",
       "      <th>Dept_94</th>\n",
       "      <th>Dept_95</th>\n",
       "      <th>Dept_96</th>\n",
       "      <th>Dept_97</th>\n",
       "      <th>Dept_98</th>\n",
       "      <th>Dept_99</th>\n",
       "      <th>IsHoliday_True</th>\n",
       "    </tr>\n",
       "  </thead>\n",
       "  <tbody>\n",
       "    <tr>\n",
       "      <th>0</th>\n",
       "      <td>211.096358</td>\n",
       "      <td>2010-02-12</td>\n",
       "      <td>2.572</td>\n",
       "      <td>NaN</td>\n",
       "      <td>NaN</td>\n",
       "      <td>NaN</td>\n",
       "      <td>NaN</td>\n",
       "      <td>NaN</td>\n",
       "      <td>151315</td>\n",
       "      <td>1</td>\n",
       "      <td>...</td>\n",
       "      <td>0</td>\n",
       "      <td>0</td>\n",
       "      <td>0</td>\n",
       "      <td>0</td>\n",
       "      <td>0</td>\n",
       "      <td>0</td>\n",
       "      <td>0</td>\n",
       "      <td>0</td>\n",
       "      <td>0</td>\n",
       "      <td>0</td>\n",
       "    </tr>\n",
       "    <tr>\n",
       "      <th>1</th>\n",
       "      <td>211.096358</td>\n",
       "      <td>2010-02-12</td>\n",
       "      <td>2.572</td>\n",
       "      <td>NaN</td>\n",
       "      <td>NaN</td>\n",
       "      <td>NaN</td>\n",
       "      <td>NaN</td>\n",
       "      <td>NaN</td>\n",
       "      <td>151315</td>\n",
       "      <td>1</td>\n",
       "      <td>...</td>\n",
       "      <td>0</td>\n",
       "      <td>0</td>\n",
       "      <td>0</td>\n",
       "      <td>0</td>\n",
       "      <td>0</td>\n",
       "      <td>0</td>\n",
       "      <td>0</td>\n",
       "      <td>0</td>\n",
       "      <td>0</td>\n",
       "      <td>0</td>\n",
       "    </tr>\n",
       "    <tr>\n",
       "      <th>2</th>\n",
       "      <td>211.096358</td>\n",
       "      <td>2010-02-12</td>\n",
       "      <td>2.572</td>\n",
       "      <td>NaN</td>\n",
       "      <td>NaN</td>\n",
       "      <td>NaN</td>\n",
       "      <td>NaN</td>\n",
       "      <td>NaN</td>\n",
       "      <td>151315</td>\n",
       "      <td>1</td>\n",
       "      <td>...</td>\n",
       "      <td>0</td>\n",
       "      <td>0</td>\n",
       "      <td>0</td>\n",
       "      <td>0</td>\n",
       "      <td>0</td>\n",
       "      <td>0</td>\n",
       "      <td>0</td>\n",
       "      <td>0</td>\n",
       "      <td>0</td>\n",
       "      <td>0</td>\n",
       "    </tr>\n",
       "    <tr>\n",
       "      <th>3</th>\n",
       "      <td>211.096358</td>\n",
       "      <td>2010-02-12</td>\n",
       "      <td>2.572</td>\n",
       "      <td>NaN</td>\n",
       "      <td>NaN</td>\n",
       "      <td>NaN</td>\n",
       "      <td>NaN</td>\n",
       "      <td>NaN</td>\n",
       "      <td>151315</td>\n",
       "      <td>1</td>\n",
       "      <td>...</td>\n",
       "      <td>0</td>\n",
       "      <td>0</td>\n",
       "      <td>0</td>\n",
       "      <td>0</td>\n",
       "      <td>0</td>\n",
       "      <td>0</td>\n",
       "      <td>0</td>\n",
       "      <td>0</td>\n",
       "      <td>0</td>\n",
       "      <td>0</td>\n",
       "    </tr>\n",
       "    <tr>\n",
       "      <th>4</th>\n",
       "      <td>211.096358</td>\n",
       "      <td>2010-02-12</td>\n",
       "      <td>2.572</td>\n",
       "      <td>NaN</td>\n",
       "      <td>NaN</td>\n",
       "      <td>NaN</td>\n",
       "      <td>NaN</td>\n",
       "      <td>NaN</td>\n",
       "      <td>151315</td>\n",
       "      <td>1</td>\n",
       "      <td>...</td>\n",
       "      <td>0</td>\n",
       "      <td>0</td>\n",
       "      <td>0</td>\n",
       "      <td>0</td>\n",
       "      <td>0</td>\n",
       "      <td>0</td>\n",
       "      <td>0</td>\n",
       "      <td>0</td>\n",
       "      <td>0</td>\n",
       "      <td>0</td>\n",
       "    </tr>\n",
       "  </tbody>\n",
       "</table>\n",
       "<p>5 rows × 96 columns</p>\n",
       "</div>"
      ],
      "text/plain": [
       "          CPI       Date  Fuel_Price  MarkDown1  MarkDown2  MarkDown3  \\\n",
       "0  211.096358 2010-02-12       2.572        NaN        NaN        NaN   \n",
       "1  211.096358 2010-02-12       2.572        NaN        NaN        NaN   \n",
       "2  211.096358 2010-02-12       2.572        NaN        NaN        NaN   \n",
       "3  211.096358 2010-02-12       2.572        NaN        NaN        NaN   \n",
       "4  211.096358 2010-02-12       2.572        NaN        NaN        NaN   \n",
       "\n",
       "   MarkDown4  MarkDown5    Size  Store  ...  Dept_91  Dept_92  Dept_93  \\\n",
       "0        NaN        NaN  151315      1  ...        0        0        0   \n",
       "1        NaN        NaN  151315      1  ...        0        0        0   \n",
       "2        NaN        NaN  151315      1  ...        0        0        0   \n",
       "3        NaN        NaN  151315      1  ...        0        0        0   \n",
       "4        NaN        NaN  151315      1  ...        0        0        0   \n",
       "\n",
       "   Dept_94  Dept_95  Dept_96  Dept_97  Dept_98  Dept_99  IsHoliday_True  \n",
       "0        0        0        0        0        0        0               0  \n",
       "1        0        0        0        0        0        0               0  \n",
       "2        0        0        0        0        0        0               0  \n",
       "3        0        0        0        0        0        0               0  \n",
       "4        0        0        0        0        0        0               0  \n",
       "\n",
       "[5 rows x 96 columns]"
      ]
     },
     "execution_count": 36,
     "metadata": {},
     "output_type": "execute_result"
    }
   ],
   "source": [
    "df2.head()"
   ]
  },
  {
   "cell_type": "code",
   "execution_count": 37,
   "metadata": {},
   "outputs": [],
   "source": [
    "df2.dropna(inplace=True)"
   ]
  },
  {
   "cell_type": "code",
   "execution_count": 38,
   "metadata": {},
   "outputs": [
    {
     "data": {
      "text/plain": [
       "(97056, 96)"
      ]
     },
     "execution_count": 38,
     "metadata": {},
     "output_type": "execute_result"
    }
   ],
   "source": [
    "df2.shape"
   ]
  },
  {
   "cell_type": "code",
   "execution_count": 39,
   "metadata": {},
   "outputs": [
    {
     "data": {
      "text/html": [
       "<div>\n",
       "<style scoped>\n",
       "    .dataframe tbody tr th:only-of-type {\n",
       "        vertical-align: middle;\n",
       "    }\n",
       "\n",
       "    .dataframe tbody tr th {\n",
       "        vertical-align: top;\n",
       "    }\n",
       "\n",
       "    .dataframe thead th {\n",
       "        text-align: right;\n",
       "    }\n",
       "</style>\n",
       "<table border=\"1\" class=\"dataframe\">\n",
       "  <thead>\n",
       "    <tr style=\"text-align: right;\">\n",
       "      <th></th>\n",
       "      <th>CPI</th>\n",
       "      <th>Date</th>\n",
       "      <th>Fuel_Price</th>\n",
       "      <th>MarkDown1</th>\n",
       "      <th>MarkDown2</th>\n",
       "      <th>MarkDown3</th>\n",
       "      <th>MarkDown4</th>\n",
       "      <th>MarkDown5</th>\n",
       "      <th>Size</th>\n",
       "      <th>Store</th>\n",
       "      <th>...</th>\n",
       "      <th>Dept_91</th>\n",
       "      <th>Dept_92</th>\n",
       "      <th>Dept_93</th>\n",
       "      <th>Dept_94</th>\n",
       "      <th>Dept_95</th>\n",
       "      <th>Dept_96</th>\n",
       "      <th>Dept_97</th>\n",
       "      <th>Dept_98</th>\n",
       "      <th>Dept_99</th>\n",
       "      <th>IsHoliday_True</th>\n",
       "    </tr>\n",
       "  </thead>\n",
       "  <tbody>\n",
       "    <tr>\n",
       "      <th>6587</th>\n",
       "      <td>217.998085</td>\n",
       "      <td>2011-11-11</td>\n",
       "      <td>3.297</td>\n",
       "      <td>10382.90</td>\n",
       "      <td>6115.67</td>\n",
       "      <td>215.07</td>\n",
       "      <td>2406.62</td>\n",
       "      <td>6551.42</td>\n",
       "      <td>151315</td>\n",
       "      <td>1</td>\n",
       "      <td>...</td>\n",
       "      <td>0</td>\n",
       "      <td>0</td>\n",
       "      <td>0</td>\n",
       "      <td>0</td>\n",
       "      <td>0</td>\n",
       "      <td>0</td>\n",
       "      <td>0</td>\n",
       "      <td>0</td>\n",
       "      <td>0</td>\n",
       "      <td>0</td>\n",
       "    </tr>\n",
       "    <tr>\n",
       "      <th>6588</th>\n",
       "      <td>217.998085</td>\n",
       "      <td>2011-11-11</td>\n",
       "      <td>3.297</td>\n",
       "      <td>10382.90</td>\n",
       "      <td>6115.67</td>\n",
       "      <td>215.07</td>\n",
       "      <td>2406.62</td>\n",
       "      <td>6551.42</td>\n",
       "      <td>151315</td>\n",
       "      <td>1</td>\n",
       "      <td>...</td>\n",
       "      <td>0</td>\n",
       "      <td>0</td>\n",
       "      <td>0</td>\n",
       "      <td>0</td>\n",
       "      <td>0</td>\n",
       "      <td>0</td>\n",
       "      <td>0</td>\n",
       "      <td>0</td>\n",
       "      <td>0</td>\n",
       "      <td>0</td>\n",
       "    </tr>\n",
       "    <tr>\n",
       "      <th>6589</th>\n",
       "      <td>217.998085</td>\n",
       "      <td>2011-11-11</td>\n",
       "      <td>3.297</td>\n",
       "      <td>10382.90</td>\n",
       "      <td>6115.67</td>\n",
       "      <td>215.07</td>\n",
       "      <td>2406.62</td>\n",
       "      <td>6551.42</td>\n",
       "      <td>151315</td>\n",
       "      <td>1</td>\n",
       "      <td>...</td>\n",
       "      <td>0</td>\n",
       "      <td>0</td>\n",
       "      <td>0</td>\n",
       "      <td>0</td>\n",
       "      <td>0</td>\n",
       "      <td>0</td>\n",
       "      <td>0</td>\n",
       "      <td>0</td>\n",
       "      <td>0</td>\n",
       "      <td>0</td>\n",
       "    </tr>\n",
       "    <tr>\n",
       "      <th>6590</th>\n",
       "      <td>217.998085</td>\n",
       "      <td>2011-11-11</td>\n",
       "      <td>3.297</td>\n",
       "      <td>10382.90</td>\n",
       "      <td>6115.67</td>\n",
       "      <td>215.07</td>\n",
       "      <td>2406.62</td>\n",
       "      <td>6551.42</td>\n",
       "      <td>151315</td>\n",
       "      <td>1</td>\n",
       "      <td>...</td>\n",
       "      <td>0</td>\n",
       "      <td>0</td>\n",
       "      <td>0</td>\n",
       "      <td>0</td>\n",
       "      <td>0</td>\n",
       "      <td>0</td>\n",
       "      <td>0</td>\n",
       "      <td>0</td>\n",
       "      <td>0</td>\n",
       "      <td>0</td>\n",
       "    </tr>\n",
       "    <tr>\n",
       "      <th>6591</th>\n",
       "      <td>217.998085</td>\n",
       "      <td>2011-11-11</td>\n",
       "      <td>3.297</td>\n",
       "      <td>10382.90</td>\n",
       "      <td>6115.67</td>\n",
       "      <td>215.07</td>\n",
       "      <td>2406.62</td>\n",
       "      <td>6551.42</td>\n",
       "      <td>151315</td>\n",
       "      <td>1</td>\n",
       "      <td>...</td>\n",
       "      <td>0</td>\n",
       "      <td>0</td>\n",
       "      <td>0</td>\n",
       "      <td>0</td>\n",
       "      <td>0</td>\n",
       "      <td>0</td>\n",
       "      <td>0</td>\n",
       "      <td>0</td>\n",
       "      <td>0</td>\n",
       "      <td>0</td>\n",
       "    </tr>\n",
       "    <tr>\n",
       "      <th>...</th>\n",
       "      <td>...</td>\n",
       "      <td>...</td>\n",
       "      <td>...</td>\n",
       "      <td>...</td>\n",
       "      <td>...</td>\n",
       "      <td>...</td>\n",
       "      <td>...</td>\n",
       "      <td>...</td>\n",
       "      <td>...</td>\n",
       "      <td>...</td>\n",
       "      <td>...</td>\n",
       "      <td>...</td>\n",
       "      <td>...</td>\n",
       "      <td>...</td>\n",
       "      <td>...</td>\n",
       "      <td>...</td>\n",
       "      <td>...</td>\n",
       "      <td>...</td>\n",
       "      <td>...</td>\n",
       "      <td>...</td>\n",
       "      <td>...</td>\n",
       "    </tr>\n",
       "    <tr>\n",
       "      <th>421565</th>\n",
       "      <td>192.308899</td>\n",
       "      <td>2012-10-19</td>\n",
       "      <td>3.882</td>\n",
       "      <td>4018.91</td>\n",
       "      <td>58.08</td>\n",
       "      <td>100.00</td>\n",
       "      <td>211.94</td>\n",
       "      <td>858.33</td>\n",
       "      <td>118221</td>\n",
       "      <td>45</td>\n",
       "      <td>...</td>\n",
       "      <td>0</td>\n",
       "      <td>0</td>\n",
       "      <td>1</td>\n",
       "      <td>0</td>\n",
       "      <td>0</td>\n",
       "      <td>0</td>\n",
       "      <td>0</td>\n",
       "      <td>0</td>\n",
       "      <td>0</td>\n",
       "      <td>0</td>\n",
       "    </tr>\n",
       "    <tr>\n",
       "      <th>421566</th>\n",
       "      <td>192.308899</td>\n",
       "      <td>2012-10-19</td>\n",
       "      <td>3.882</td>\n",
       "      <td>4018.91</td>\n",
       "      <td>58.08</td>\n",
       "      <td>100.00</td>\n",
       "      <td>211.94</td>\n",
       "      <td>858.33</td>\n",
       "      <td>118221</td>\n",
       "      <td>45</td>\n",
       "      <td>...</td>\n",
       "      <td>0</td>\n",
       "      <td>0</td>\n",
       "      <td>0</td>\n",
       "      <td>1</td>\n",
       "      <td>0</td>\n",
       "      <td>0</td>\n",
       "      <td>0</td>\n",
       "      <td>0</td>\n",
       "      <td>0</td>\n",
       "      <td>0</td>\n",
       "    </tr>\n",
       "    <tr>\n",
       "      <th>421567</th>\n",
       "      <td>192.308899</td>\n",
       "      <td>2012-10-19</td>\n",
       "      <td>3.882</td>\n",
       "      <td>4018.91</td>\n",
       "      <td>58.08</td>\n",
       "      <td>100.00</td>\n",
       "      <td>211.94</td>\n",
       "      <td>858.33</td>\n",
       "      <td>118221</td>\n",
       "      <td>45</td>\n",
       "      <td>...</td>\n",
       "      <td>0</td>\n",
       "      <td>0</td>\n",
       "      <td>0</td>\n",
       "      <td>0</td>\n",
       "      <td>1</td>\n",
       "      <td>0</td>\n",
       "      <td>0</td>\n",
       "      <td>0</td>\n",
       "      <td>0</td>\n",
       "      <td>0</td>\n",
       "    </tr>\n",
       "    <tr>\n",
       "      <th>421568</th>\n",
       "      <td>192.308899</td>\n",
       "      <td>2012-10-19</td>\n",
       "      <td>3.882</td>\n",
       "      <td>4018.91</td>\n",
       "      <td>58.08</td>\n",
       "      <td>100.00</td>\n",
       "      <td>211.94</td>\n",
       "      <td>858.33</td>\n",
       "      <td>118221</td>\n",
       "      <td>45</td>\n",
       "      <td>...</td>\n",
       "      <td>0</td>\n",
       "      <td>0</td>\n",
       "      <td>0</td>\n",
       "      <td>0</td>\n",
       "      <td>0</td>\n",
       "      <td>0</td>\n",
       "      <td>1</td>\n",
       "      <td>0</td>\n",
       "      <td>0</td>\n",
       "      <td>0</td>\n",
       "    </tr>\n",
       "    <tr>\n",
       "      <th>421569</th>\n",
       "      <td>192.308899</td>\n",
       "      <td>2012-10-19</td>\n",
       "      <td>3.882</td>\n",
       "      <td>4018.91</td>\n",
       "      <td>58.08</td>\n",
       "      <td>100.00</td>\n",
       "      <td>211.94</td>\n",
       "      <td>858.33</td>\n",
       "      <td>118221</td>\n",
       "      <td>45</td>\n",
       "      <td>...</td>\n",
       "      <td>0</td>\n",
       "      <td>0</td>\n",
       "      <td>0</td>\n",
       "      <td>0</td>\n",
       "      <td>0</td>\n",
       "      <td>0</td>\n",
       "      <td>0</td>\n",
       "      <td>1</td>\n",
       "      <td>0</td>\n",
       "      <td>0</td>\n",
       "    </tr>\n",
       "  </tbody>\n",
       "</table>\n",
       "<p>97056 rows × 96 columns</p>\n",
       "</div>"
      ],
      "text/plain": [
       "               CPI       Date  Fuel_Price  MarkDown1  MarkDown2  MarkDown3  \\\n",
       "6587    217.998085 2011-11-11       3.297   10382.90    6115.67     215.07   \n",
       "6588    217.998085 2011-11-11       3.297   10382.90    6115.67     215.07   \n",
       "6589    217.998085 2011-11-11       3.297   10382.90    6115.67     215.07   \n",
       "6590    217.998085 2011-11-11       3.297   10382.90    6115.67     215.07   \n",
       "6591    217.998085 2011-11-11       3.297   10382.90    6115.67     215.07   \n",
       "...            ...        ...         ...        ...        ...        ...   \n",
       "421565  192.308899 2012-10-19       3.882    4018.91      58.08     100.00   \n",
       "421566  192.308899 2012-10-19       3.882    4018.91      58.08     100.00   \n",
       "421567  192.308899 2012-10-19       3.882    4018.91      58.08     100.00   \n",
       "421568  192.308899 2012-10-19       3.882    4018.91      58.08     100.00   \n",
       "421569  192.308899 2012-10-19       3.882    4018.91      58.08     100.00   \n",
       "\n",
       "        MarkDown4  MarkDown5    Size  Store  ...  Dept_91  Dept_92  Dept_93  \\\n",
       "6587      2406.62    6551.42  151315      1  ...        0        0        0   \n",
       "6588      2406.62    6551.42  151315      1  ...        0        0        0   \n",
       "6589      2406.62    6551.42  151315      1  ...        0        0        0   \n",
       "6590      2406.62    6551.42  151315      1  ...        0        0        0   \n",
       "6591      2406.62    6551.42  151315      1  ...        0        0        0   \n",
       "...           ...        ...     ...    ...  ...      ...      ...      ...   \n",
       "421565     211.94     858.33  118221     45  ...        0        0        1   \n",
       "421566     211.94     858.33  118221     45  ...        0        0        0   \n",
       "421567     211.94     858.33  118221     45  ...        0        0        0   \n",
       "421568     211.94     858.33  118221     45  ...        0        0        0   \n",
       "421569     211.94     858.33  118221     45  ...        0        0        0   \n",
       "\n",
       "        Dept_94  Dept_95  Dept_96  Dept_97  Dept_98  Dept_99  IsHoliday_True  \n",
       "6587          0        0        0        0        0        0               0  \n",
       "6588          0        0        0        0        0        0               0  \n",
       "6589          0        0        0        0        0        0               0  \n",
       "6590          0        0        0        0        0        0               0  \n",
       "6591          0        0        0        0        0        0               0  \n",
       "...         ...      ...      ...      ...      ...      ...             ...  \n",
       "421565        0        0        0        0        0        0               0  \n",
       "421566        1        0        0        0        0        0               0  \n",
       "421567        0        1        0        0        0        0               0  \n",
       "421568        0        0        0        1        0        0               0  \n",
       "421569        0        0        0        0        1        0               0  \n",
       "\n",
       "[97056 rows x 96 columns]"
      ]
     },
     "execution_count": 39,
     "metadata": {},
     "output_type": "execute_result"
    }
   ],
   "source": [
    "df2"
   ]
  },
  {
   "cell_type": "code",
   "execution_count": 40,
   "metadata": {},
   "outputs": [
    {
     "data": {
      "text/plain": [
       "False"
      ]
     },
     "execution_count": 40,
     "metadata": {},
     "output_type": "execute_result"
    }
   ],
   "source": [
    "df2['Weekly_Sales'].isna().any()"
   ]
  },
  {
   "cell_type": "code",
   "execution_count": 43,
   "metadata": {},
   "outputs": [],
   "source": [
    "import datetime as dt"
   ]
  },
  {
   "cell_type": "code",
   "execution_count": 44,
   "metadata": {},
   "outputs": [],
   "source": [
    "df2['Date'] = df2['Date'].map(dt.datetime.toordinal)"
   ]
  },
  {
   "cell_type": "code",
   "execution_count": 45,
   "metadata": {},
   "outputs": [],
   "source": [
    "sc = StandardScaler()\n",
    "scaled_df=sc.fit_transform(df2[df2.columns.difference(['Weekly_Sales'])])"
   ]
  },
  {
   "cell_type": "code",
   "execution_count": 46,
   "metadata": {},
   "outputs": [],
   "source": [
    "scaled = pd.DataFrame(scaled_df)\n",
    "scaled.columns = df2[df2.columns.difference(['Weekly_Sales'])].columns"
   ]
  },
  {
   "cell_type": "code",
   "execution_count": 47,
   "metadata": {},
   "outputs": [
    {
     "data": {
      "text/html": [
       "<div>\n",
       "<style scoped>\n",
       "    .dataframe tbody tr th:only-of-type {\n",
       "        vertical-align: middle;\n",
       "    }\n",
       "\n",
       "    .dataframe tbody tr th {\n",
       "        vertical-align: top;\n",
       "    }\n",
       "\n",
       "    .dataframe thead th {\n",
       "        text-align: right;\n",
       "    }\n",
       "</style>\n",
       "<table border=\"1\" class=\"dataframe\">\n",
       "  <thead>\n",
       "    <tr style=\"text-align: right;\">\n",
       "      <th></th>\n",
       "      <th>CPI</th>\n",
       "      <th>Date</th>\n",
       "      <th>Dept_10</th>\n",
       "      <th>Dept_11</th>\n",
       "      <th>Dept_12</th>\n",
       "      <th>Dept_13</th>\n",
       "      <th>Dept_14</th>\n",
       "      <th>Dept_16</th>\n",
       "      <th>Dept_17</th>\n",
       "      <th>Dept_18</th>\n",
       "      <th>...</th>\n",
       "      <th>MarkDown2</th>\n",
       "      <th>MarkDown3</th>\n",
       "      <th>MarkDown4</th>\n",
       "      <th>MarkDown5</th>\n",
       "      <th>Size</th>\n",
       "      <th>Store</th>\n",
       "      <th>Temperature</th>\n",
       "      <th>Type_B</th>\n",
       "      <th>Type_C</th>\n",
       "      <th>Unemployment</th>\n",
       "    </tr>\n",
       "  </thead>\n",
       "  <tbody>\n",
       "    <tr>\n",
       "      <th>0</th>\n",
       "      <td>1.090918</td>\n",
       "      <td>-1.555761</td>\n",
       "      <td>-0.120759</td>\n",
       "      <td>-0.120759</td>\n",
       "      <td>-0.120759</td>\n",
       "      <td>-0.120759</td>\n",
       "      <td>-0.120759</td>\n",
       "      <td>-0.120759</td>\n",
       "      <td>-0.120759</td>\n",
       "      <td>-0.111414</td>\n",
       "      <td>...</td>\n",
       "      <td>0.309168</td>\n",
       "      <td>-0.152347</td>\n",
       "      <td>-0.23501</td>\n",
       "      <td>0.329867</td>\n",
       "      <td>-0.07645</td>\n",
       "      <td>-1.598238</td>\n",
       "      <td>0.09617</td>\n",
       "      <td>-0.810317</td>\n",
       "      <td>-0.09538</td>\n",
       "      <td>0.26397</td>\n",
       "    </tr>\n",
       "    <tr>\n",
       "      <th>1</th>\n",
       "      <td>1.090918</td>\n",
       "      <td>-1.555761</td>\n",
       "      <td>-0.120759</td>\n",
       "      <td>-0.120759</td>\n",
       "      <td>-0.120759</td>\n",
       "      <td>-0.120759</td>\n",
       "      <td>-0.120759</td>\n",
       "      <td>-0.120759</td>\n",
       "      <td>-0.120759</td>\n",
       "      <td>-0.111414</td>\n",
       "      <td>...</td>\n",
       "      <td>0.309168</td>\n",
       "      <td>-0.152347</td>\n",
       "      <td>-0.23501</td>\n",
       "      <td>0.329867</td>\n",
       "      <td>-0.07645</td>\n",
       "      <td>-1.598238</td>\n",
       "      <td>0.09617</td>\n",
       "      <td>-0.810317</td>\n",
       "      <td>-0.09538</td>\n",
       "      <td>0.26397</td>\n",
       "    </tr>\n",
       "    <tr>\n",
       "      <th>2</th>\n",
       "      <td>1.090918</td>\n",
       "      <td>-1.555761</td>\n",
       "      <td>-0.120759</td>\n",
       "      <td>-0.120759</td>\n",
       "      <td>-0.120759</td>\n",
       "      <td>-0.120759</td>\n",
       "      <td>-0.120759</td>\n",
       "      <td>-0.120759</td>\n",
       "      <td>-0.120759</td>\n",
       "      <td>-0.111414</td>\n",
       "      <td>...</td>\n",
       "      <td>0.309168</td>\n",
       "      <td>-0.152347</td>\n",
       "      <td>-0.23501</td>\n",
       "      <td>0.329867</td>\n",
       "      <td>-0.07645</td>\n",
       "      <td>-1.598238</td>\n",
       "      <td>0.09617</td>\n",
       "      <td>-0.810317</td>\n",
       "      <td>-0.09538</td>\n",
       "      <td>0.26397</td>\n",
       "    </tr>\n",
       "    <tr>\n",
       "      <th>3</th>\n",
       "      <td>1.090918</td>\n",
       "      <td>-1.555761</td>\n",
       "      <td>-0.120759</td>\n",
       "      <td>-0.120759</td>\n",
       "      <td>-0.120759</td>\n",
       "      <td>-0.120759</td>\n",
       "      <td>-0.120759</td>\n",
       "      <td>-0.120759</td>\n",
       "      <td>-0.120759</td>\n",
       "      <td>-0.111414</td>\n",
       "      <td>...</td>\n",
       "      <td>0.309168</td>\n",
       "      <td>-0.152347</td>\n",
       "      <td>-0.23501</td>\n",
       "      <td>0.329867</td>\n",
       "      <td>-0.07645</td>\n",
       "      <td>-1.598238</td>\n",
       "      <td>0.09617</td>\n",
       "      <td>-0.810317</td>\n",
       "      <td>-0.09538</td>\n",
       "      <td>0.26397</td>\n",
       "    </tr>\n",
       "    <tr>\n",
       "      <th>4</th>\n",
       "      <td>1.090918</td>\n",
       "      <td>-1.555761</td>\n",
       "      <td>-0.120759</td>\n",
       "      <td>-0.120759</td>\n",
       "      <td>-0.120759</td>\n",
       "      <td>-0.120759</td>\n",
       "      <td>-0.120759</td>\n",
       "      <td>-0.120759</td>\n",
       "      <td>-0.120759</td>\n",
       "      <td>-0.111414</td>\n",
       "      <td>...</td>\n",
       "      <td>0.309168</td>\n",
       "      <td>-0.152347</td>\n",
       "      <td>-0.23501</td>\n",
       "      <td>0.329867</td>\n",
       "      <td>-0.07645</td>\n",
       "      <td>-1.598238</td>\n",
       "      <td>0.09617</td>\n",
       "      <td>-0.810317</td>\n",
       "      <td>-0.09538</td>\n",
       "      <td>0.26397</td>\n",
       "    </tr>\n",
       "  </tbody>\n",
       "</table>\n",
       "<p>5 rows × 95 columns</p>\n",
       "</div>"
      ],
      "text/plain": [
       "        CPI      Date   Dept_10   Dept_11   Dept_12   Dept_13   Dept_14  \\\n",
       "0  1.090918 -1.555761 -0.120759 -0.120759 -0.120759 -0.120759 -0.120759   \n",
       "1  1.090918 -1.555761 -0.120759 -0.120759 -0.120759 -0.120759 -0.120759   \n",
       "2  1.090918 -1.555761 -0.120759 -0.120759 -0.120759 -0.120759 -0.120759   \n",
       "3  1.090918 -1.555761 -0.120759 -0.120759 -0.120759 -0.120759 -0.120759   \n",
       "4  1.090918 -1.555761 -0.120759 -0.120759 -0.120759 -0.120759 -0.120759   \n",
       "\n",
       "    Dept_16   Dept_17   Dept_18  ...  MarkDown2  MarkDown3  MarkDown4  \\\n",
       "0 -0.120759 -0.120759 -0.111414  ...   0.309168  -0.152347   -0.23501   \n",
       "1 -0.120759 -0.120759 -0.111414  ...   0.309168  -0.152347   -0.23501   \n",
       "2 -0.120759 -0.120759 -0.111414  ...   0.309168  -0.152347   -0.23501   \n",
       "3 -0.120759 -0.120759 -0.111414  ...   0.309168  -0.152347   -0.23501   \n",
       "4 -0.120759 -0.120759 -0.111414  ...   0.309168  -0.152347   -0.23501   \n",
       "\n",
       "   MarkDown5     Size     Store  Temperature    Type_B   Type_C  Unemployment  \n",
       "0   0.329867 -0.07645 -1.598238      0.09617 -0.810317 -0.09538       0.26397  \n",
       "1   0.329867 -0.07645 -1.598238      0.09617 -0.810317 -0.09538       0.26397  \n",
       "2   0.329867 -0.07645 -1.598238      0.09617 -0.810317 -0.09538       0.26397  \n",
       "3   0.329867 -0.07645 -1.598238      0.09617 -0.810317 -0.09538       0.26397  \n",
       "4   0.329867 -0.07645 -1.598238      0.09617 -0.810317 -0.09538       0.26397  \n",
       "\n",
       "[5 rows x 95 columns]"
      ]
     },
     "execution_count": 47,
     "metadata": {},
     "output_type": "execute_result"
    }
   ],
   "source": [
    "scaled.head()"
   ]
  },
  {
   "cell_type": "code",
   "execution_count": 48,
   "metadata": {},
   "outputs": [
    {
     "data": {
      "text/plain": [
       "(97056, 95)"
      ]
     },
     "execution_count": 48,
     "metadata": {},
     "output_type": "execute_result"
    }
   ],
   "source": [
    "scaled.shape"
   ]
  },
  {
   "cell_type": "code",
   "execution_count": 50,
   "metadata": {},
   "outputs": [
    {
     "data": {
      "text/plain": [
       "Index(['CPI', 'Date', 'Dept_10', 'Dept_11', 'Dept_12', 'Dept_13', 'Dept_14',\n",
       "       'Dept_16', 'Dept_17', 'Dept_18', 'Dept_19', 'Dept_2', 'Dept_20',\n",
       "       'Dept_21', 'Dept_22', 'Dept_23', 'Dept_24', 'Dept_25', 'Dept_26',\n",
       "       'Dept_27', 'Dept_28', 'Dept_29', 'Dept_3', 'Dept_30', 'Dept_31',\n",
       "       'Dept_32', 'Dept_33', 'Dept_34', 'Dept_35', 'Dept_36', 'Dept_37',\n",
       "       'Dept_38', 'Dept_39', 'Dept_4', 'Dept_40', 'Dept_41', 'Dept_42',\n",
       "       'Dept_43', 'Dept_44', 'Dept_45', 'Dept_46', 'Dept_47', 'Dept_48',\n",
       "       'Dept_49', 'Dept_5', 'Dept_50', 'Dept_51', 'Dept_52', 'Dept_54',\n",
       "       'Dept_55', 'Dept_56', 'Dept_58', 'Dept_59', 'Dept_6', 'Dept_60',\n",
       "       'Dept_65', 'Dept_67', 'Dept_7', 'Dept_71', 'Dept_72', 'Dept_74',\n",
       "       'Dept_77', 'Dept_78', 'Dept_79', 'Dept_8', 'Dept_80', 'Dept_81',\n",
       "       'Dept_82', 'Dept_83', 'Dept_85', 'Dept_87', 'Dept_9', 'Dept_90',\n",
       "       'Dept_91', 'Dept_92', 'Dept_93', 'Dept_94', 'Dept_95', 'Dept_96',\n",
       "       'Dept_97', 'Dept_98', 'Dept_99', 'Fuel_Price', 'IsHoliday_True',\n",
       "       'MarkDown1', 'MarkDown2', 'MarkDown3', 'MarkDown4', 'MarkDown5', 'Size',\n",
       "       'Store', 'Temperature', 'Type_B', 'Type_C', 'Unemployment'],\n",
       "      dtype='object')"
      ]
     },
     "execution_count": 50,
     "metadata": {},
     "output_type": "execute_result"
    }
   ],
   "source": [
    "scaled.columns"
   ]
  },
  {
   "cell_type": "code",
   "execution_count": 51,
   "metadata": {},
   "outputs": [],
   "source": [
    "scaled['sales'] = df2['Weekly_Sales'].values"
   ]
  },
  {
   "cell_type": "markdown",
   "metadata": {},
   "source": [
    "## Assumption Check"
   ]
  },
  {
   "cell_type": "code",
   "execution_count": 52,
   "metadata": {},
   "outputs": [
    {
     "data": {
      "text/plain": [
       "<matplotlib.axes._subplots.AxesSubplot at 0x203adb9d910>"
      ]
     },
     "execution_count": 52,
     "metadata": {},
     "output_type": "execute_result"
    },
    {
     "data": {
      "image/png": "[encoded data removed]",
      "text/plain": [
       "<Figure size 432x288 with 1 Axes>"
      ]
     },
     "metadata": {
      "needs_background": "light"
     },
     "output_type": "display_data"
    }
   ],
   "source": [
    "sns.distplot(scaled.sales)"
   ]
  },
  {
   "cell_type": "code",
   "execution_count": 53,
   "metadata": {},
   "outputs": [
    {
     "data": {
      "text/plain": [
       "2.0591186383409847"
      ]
     },
     "execution_count": 53,
     "metadata": {},
     "output_type": "execute_result"
    }
   ],
   "source": [
    "scaled.sales.skew()"
   ]
  },
  {
   "cell_type": "code",
   "execution_count": 54,
   "metadata": {},
   "outputs": [
    {
     "data": {
      "text/plain": [
       "<matplotlib.axes._subplots.AxesSubplot at 0x203908b5670>"
      ]
     },
     "execution_count": 54,
     "metadata": {},
     "output_type": "execute_result"
    },
    {
     "data": {
      "image/png": "[encoded data removed]",
      "text/plain": [
       "<Figure size 432x288 with 1 Axes>"
      ]
     },
     "metadata": {
      "needs_background": "light"
     },
     "output_type": "display_data"
    }
   ],
   "source": [
    "sns.distplot(np.log(scaled['sales'] +1))"
   ]
  },
  {
   "cell_type": "code",
   "execution_count": 55,
   "metadata": {},
   "outputs": [
    {
     "data": {
      "text/plain": [
       "-1.2733242314966478"
      ]
     },
     "execution_count": 55,
     "metadata": {},
     "output_type": "execute_result"
    }
   ],
   "source": [
    "np.log(scaled.sales +1).skew()"
   ]
  },
  {
   "cell_type": "code",
   "execution_count": 56,
   "metadata": {},
   "outputs": [],
   "source": [
    "scaled['ln_sales'] = np.log(scaled['sales'] +1)"
   ]
  },
  {
   "cell_type": "code",
   "execution_count": 57,
   "metadata": {},
   "outputs": [],
   "source": [
    "train,test = train_test_split(scaled,test_size=0.3,random_state=123)"
   ]
  },
  {
   "cell_type": "code",
   "execution_count": 58,
   "metadata": {},
   "outputs": [
    {
     "data": {
      "text/plain": [
       "(67939, 97)"
      ]
     },
     "execution_count": 58,
     "metadata": {},
     "output_type": "execute_result"
    }
   ],
   "source": [
    "train.shape"
   ]
  },
  {
   "cell_type": "code",
   "execution_count": 59,
   "metadata": {},
   "outputs": [
    {
     "data": {
      "text/plain": [
       "(29117, 97)"
      ]
     },
     "execution_count": 59,
     "metadata": {},
     "output_type": "execute_result"
    }
   ],
   "source": [
    "test.shape"
   ]
  },
  {
   "cell_type": "code",
   "execution_count": 60,
   "metadata": {},
   "outputs": [
    {
     "data": {
      "text/plain": [
       "Index(['CPI', 'Date', 'Dept_10', 'Dept_11', 'Dept_12', 'Dept_13', 'Dept_14',\n",
       "       'Dept_16', 'Dept_17', 'Dept_18', 'Dept_19', 'Dept_2', 'Dept_20',\n",
       "       'Dept_21', 'Dept_22', 'Dept_23', 'Dept_24', 'Dept_25', 'Dept_26',\n",
       "       'Dept_27', 'Dept_28', 'Dept_29', 'Dept_3', 'Dept_30', 'Dept_31',\n",
       "       'Dept_32', 'Dept_33', 'Dept_34', 'Dept_35', 'Dept_36', 'Dept_37',\n",
       "       'Dept_38', 'Dept_39', 'Dept_4', 'Dept_40', 'Dept_41', 'Dept_42',\n",
       "       'Dept_43', 'Dept_44', 'Dept_45', 'Dept_46', 'Dept_47', 'Dept_48',\n",
       "       'Dept_49', 'Dept_5', 'Dept_50', 'Dept_51', 'Dept_52', 'Dept_54',\n",
       "       'Dept_55', 'Dept_56', 'Dept_58', 'Dept_59', 'Dept_6', 'Dept_60',\n",
       "       'Dept_65', 'Dept_67', 'Dept_7', 'Dept_71', 'Dept_72', 'Dept_74',\n",
       "       'Dept_77', 'Dept_78', 'Dept_79', 'Dept_8', 'Dept_80', 'Dept_81',\n",
       "       'Dept_82', 'Dept_83', 'Dept_85', 'Dept_87', 'Dept_9', 'Dept_90',\n",
       "       'Dept_91', 'Dept_92', 'Dept_93', 'Dept_94', 'Dept_95', 'Dept_96',\n",
       "       'Dept_97', 'Dept_98', 'Dept_99', 'Fuel_Price', 'IsHoliday_True',\n",
       "       'MarkDown1', 'MarkDown2', 'MarkDown3', 'MarkDown4', 'MarkDown5', 'Size',\n",
       "       'Store', 'Temperature', 'Type_B', 'Type_C', 'Unemployment'],\n",
       "      dtype='object')"
      ]
     },
     "execution_count": 60,
     "metadata": {},
     "output_type": "execute_result"
    }
   ],
   "source": [
    "features = scaled.columns.difference(['sales','ln_sales'])\n",
    "features"
   ]
  },
  {
   "cell_type": "code",
   "execution_count": 61,
   "metadata": {},
   "outputs": [],
   "source": [
    "model_param ='ln_sales ~ ' + (' + ').join(features)"
   ]
  },
  {
   "cell_type": "code",
   "execution_count": 62,
   "metadata": {},
   "outputs": [
    {
     "data": {
      "text/plain": [
       "'ln_sales ~ CPI + Date + Dept_10 + Dept_11 + Dept_12 + Dept_13 + Dept_14 + Dept_16 + Dept_17 + Dept_18 + Dept_19 + Dept_2 + Dept_20 + Dept_21 + Dept_22 + Dept_23 + Dept_24 + Dept_25 + Dept_26 + Dept_27 + Dept_28 + Dept_29 + Dept_3 + Dept_30 + Dept_31 + Dept_32 + Dept_33 + Dept_34 + Dept_35 + Dept_36 + Dept_37 + Dept_38 + Dept_39 + Dept_4 + Dept_40 + Dept_41 + Dept_42 + Dept_43 + Dept_44 + Dept_45 + Dept_46 + Dept_47 + Dept_48 + Dept_49 + Dept_5 + Dept_50 + Dept_51 + Dept_52 + Dept_54 + Dept_55 + Dept_56 + Dept_58 + Dept_59 + Dept_6 + Dept_60 + Dept_65 + Dept_67 + Dept_7 + Dept_71 + Dept_72 + Dept_74 + Dept_77 + Dept_78 + Dept_79 + Dept_8 + Dept_80 + Dept_81 + Dept_82 + Dept_83 + Dept_85 + Dept_87 + Dept_9 + Dept_90 + Dept_91 + Dept_92 + Dept_93 + Dept_94 + Dept_95 + Dept_96 + Dept_97 + Dept_98 + Dept_99 + Fuel_Price + IsHoliday_True + MarkDown1 + MarkDown2 + MarkDown3 + MarkDown4 + MarkDown5 + Size + Store + Temperature + Type_B + Type_C + Unemployment'"
      ]
     },
     "execution_count": 62,
     "metadata": {},
     "output_type": "execute_result"
    }
   ],
   "source": [
    "model_param"
   ]
  },
  {
   "cell_type": "code",
   "execution_count": 63,
   "metadata": {},
   "outputs": [],
   "source": [
    "f_val,p_val = f_regression(scaled[features],scaled['ln_sales'])"
   ]
  },
  {
   "cell_type": "code",
   "execution_count": 64,
   "metadata": {},
   "outputs": [],
   "source": [
    "f_reg = pd.DataFrame({'f_val':f_val,'p_val':p_val})"
   ]
  },
  {
   "cell_type": "code",
   "execution_count": 65,
   "metadata": {},
   "outputs": [],
   "source": [
    "f_reg['cols'] = scaled.columns.difference(['sales','ln_sales'])"
   ]
  },
  {
   "cell_type": "code",
   "execution_count": 66,
   "metadata": {},
   "outputs": [
    {
     "data": {
      "text/html": [
       "<div>\n",
       "<style scoped>\n",
       "    .dataframe tbody tr th:only-of-type {\n",
       "        vertical-align: middle;\n",
       "    }\n",
       "\n",
       "    .dataframe tbody tr th {\n",
       "        vertical-align: top;\n",
       "    }\n",
       "\n",
       "    .dataframe thead th {\n",
       "        text-align: right;\n",
       "    }\n",
       "</style>\n",
       "<table border=\"1\" class=\"dataframe\">\n",
       "  <thead>\n",
       "    <tr style=\"text-align: right;\">\n",
       "      <th></th>\n",
       "      <th>f_val</th>\n",
       "      <th>p_val</th>\n",
       "      <th>cols</th>\n",
       "    </tr>\n",
       "  </thead>\n",
       "  <tbody>\n",
       "    <tr>\n",
       "      <th>0</th>\n",
       "      <td>30.996940</td>\n",
       "      <td>2.591166e-08</td>\n",
       "      <td>CPI</td>\n",
       "    </tr>\n",
       "    <tr>\n",
       "      <th>1</th>\n",
       "      <td>27.884215</td>\n",
       "      <td>1.290727e-07</td>\n",
       "      <td>Date</td>\n",
       "    </tr>\n",
       "    <tr>\n",
       "      <th>2</th>\n",
       "      <td>523.312735</td>\n",
       "      <td>1.630225e-115</td>\n",
       "      <td>Dept_10</td>\n",
       "    </tr>\n",
       "    <tr>\n",
       "      <th>3</th>\n",
       "      <td>332.146991</td>\n",
       "      <td>4.355624e-74</td>\n",
       "      <td>Dept_11</td>\n",
       "    </tr>\n",
       "    <tr>\n",
       "      <th>4</th>\n",
       "      <td>73.038665</td>\n",
       "      <td>1.289410e-17</td>\n",
       "      <td>Dept_12</td>\n",
       "    </tr>\n",
       "  </tbody>\n",
       "</table>\n",
       "</div>"
      ],
      "text/plain": [
       "        f_val          p_val     cols\n",
       "0   30.996940   2.591166e-08      CPI\n",
       "1   27.884215   1.290727e-07     Date\n",
       "2  523.312735  1.630225e-115  Dept_10\n",
       "3  332.146991   4.355624e-74  Dept_11\n",
       "4   73.038665   1.289410e-17  Dept_12"
      ]
     },
     "execution_count": 66,
     "metadata": {},
     "output_type": "execute_result"
    }
   ],
   "source": [
    "f_reg.head()"
   ]
  },
  {
   "cell_type": "code",
   "execution_count": 67,
   "metadata": {},
   "outputs": [
    {
     "data": {
      "text/plain": [
       "(95, 3)"
      ]
     },
     "execution_count": 67,
     "metadata": {},
     "output_type": "execute_result"
    }
   ],
   "source": [
    "f_reg.shape"
   ]
  },
  {
   "cell_type": "code",
   "execution_count": 68,
   "metadata": {},
   "outputs": [],
   "source": [
    "imp_var = f_reg.loc[f_reg['p_val'] <0.05,'cols'].to_list()"
   ]
  },
  {
   "cell_type": "code",
   "execution_count": 69,
   "metadata": {},
   "outputs": [
    {
     "data": {
      "text/plain": [
       "90"
      ]
     },
     "execution_count": 69,
     "metadata": {},
     "output_type": "execute_result"
    }
   ],
   "source": [
    "len(imp_var)"
   ]
  },
  {
   "cell_type": "code",
   "execution_count": 70,
   "metadata": {},
   "outputs": [
    {
     "data": {
      "text/plain": [
       "'ln_sales ~ CPI + Date + Dept_10 + Dept_11 + Dept_12 + Dept_13 + Dept_14 + Dept_16 + Dept_17 + Dept_18 + Dept_19 + Dept_2 + Dept_20 + Dept_21 + Dept_22 + Dept_23 + Dept_24 + Dept_25 + Dept_27 + Dept_28 + Dept_29 + Dept_3 + Dept_30 + Dept_31 + Dept_33 + Dept_34 + Dept_35 + Dept_36 + Dept_37 + Dept_38 + Dept_39 + Dept_4 + Dept_40 + Dept_41 + Dept_42 + Dept_43 + Dept_44 + Dept_45 + Dept_46 + Dept_47 + Dept_48 + Dept_49 + Dept_5 + Dept_50 + Dept_51 + Dept_52 + Dept_54 + Dept_55 + Dept_56 + Dept_58 + Dept_59 + Dept_6 + Dept_60 + Dept_65 + Dept_67 + Dept_7 + Dept_71 + Dept_72 + Dept_74 + Dept_77 + Dept_78 + Dept_79 + Dept_8 + Dept_80 + Dept_81 + Dept_82 + Dept_83 + Dept_85 + Dept_87 + Dept_9 + Dept_90 + Dept_91 + Dept_92 + Dept_93 + Dept_94 + Dept_95 + Dept_97 + Dept_98 + Dept_99 + MarkDown1 + MarkDown2 + MarkDown3 + MarkDown4 + MarkDown5 + Size + Store + Temperature + Type_B + Type_C + Unemployment'"
      ]
     },
     "execution_count": 70,
     "metadata": {},
     "output_type": "execute_result"
    }
   ],
   "source": [
    "model_param ='ln_sales ~ ' + (' + ').join(imp_var)\n",
    "model_param"
   ]
  },
  {
   "cell_type": "code",
   "execution_count": 71,
   "metadata": {},
   "outputs": [
    {
     "data": {
      "text/html": [
       "<div>\n",
       "<style scoped>\n",
       "    .dataframe tbody tr th:only-of-type {\n",
       "        vertical-align: middle;\n",
       "    }\n",
       "\n",
       "    .dataframe tbody tr th {\n",
       "        vertical-align: top;\n",
       "    }\n",
       "\n",
       "    .dataframe thead th {\n",
       "        text-align: right;\n",
       "    }\n",
       "</style>\n",
       "<table border=\"1\" class=\"dataframe\">\n",
       "  <thead>\n",
       "    <tr style=\"text-align: right;\">\n",
       "      <th></th>\n",
       "      <th>index</th>\n",
       "      <th>Features</th>\n",
       "      <th>vif_factor</th>\n",
       "    </tr>\n",
       "  </thead>\n",
       "  <tbody>\n",
       "    <tr>\n",
       "      <th>0</th>\n",
       "      <td>85</td>\n",
       "      <td>Size</td>\n",
       "      <td>4.458807</td>\n",
       "    </tr>\n",
       "    <tr>\n",
       "      <th>1</th>\n",
       "      <td>88</td>\n",
       "      <td>Type_B</td>\n",
       "      <td>4.062232</td>\n",
       "    </tr>\n",
       "    <tr>\n",
       "      <th>2</th>\n",
       "      <td>80</td>\n",
       "      <td>MarkDown1</td>\n",
       "      <td>3.037388</td>\n",
       "    </tr>\n",
       "    <tr>\n",
       "      <th>3</th>\n",
       "      <td>83</td>\n",
       "      <td>MarkDown4</td>\n",
       "      <td>2.922981</td>\n",
       "    </tr>\n",
       "    <tr>\n",
       "      <th>4</th>\n",
       "      <td>2</td>\n",
       "      <td>Date</td>\n",
       "      <td>2.892693</td>\n",
       "    </tr>\n",
       "    <tr>\n",
       "      <th>...</th>\n",
       "      <td>...</td>\n",
       "      <td>...</td>\n",
       "      <td>...</td>\n",
       "    </tr>\n",
       "    <tr>\n",
       "      <th>86</th>\n",
       "      <td>54</td>\n",
       "      <td>Dept_65</td>\n",
       "      <td>1.009781</td>\n",
       "    </tr>\n",
       "    <tr>\n",
       "      <th>87</th>\n",
       "      <td>61</td>\n",
       "      <td>Dept_78</td>\n",
       "      <td>1.007385</td>\n",
       "    </tr>\n",
       "    <tr>\n",
       "      <th>88</th>\n",
       "      <td>36</td>\n",
       "      <td>Dept_43</td>\n",
       "      <td>1.001093</td>\n",
       "    </tr>\n",
       "    <tr>\n",
       "      <th>89</th>\n",
       "      <td>31</td>\n",
       "      <td>Dept_39</td>\n",
       "      <td>1.000863</td>\n",
       "    </tr>\n",
       "    <tr>\n",
       "      <th>90</th>\n",
       "      <td>0</td>\n",
       "      <td>Intercept</td>\n",
       "      <td>1.000000</td>\n",
       "    </tr>\n",
       "  </tbody>\n",
       "</table>\n",
       "<p>91 rows × 3 columns</p>\n",
       "</div>"
      ],
      "text/plain": [
       "    index   Features  vif_factor\n",
       "0      85       Size    4.458807\n",
       "1      88     Type_B    4.062232\n",
       "2      80  MarkDown1    3.037388\n",
       "3      83  MarkDown4    2.922981\n",
       "4       2       Date    2.892693\n",
       "..    ...        ...         ...\n",
       "86     54    Dept_65    1.009781\n",
       "87     61    Dept_78    1.007385\n",
       "88     36    Dept_43    1.001093\n",
       "89     31    Dept_39    1.000863\n",
       "90      0  Intercept    1.000000\n",
       "\n",
       "[91 rows x 3 columns]"
      ]
     },
     "execution_count": 71,
     "metadata": {},
     "output_type": "execute_result"
    }
   ],
   "source": [
    "from statsmodels.stats.outliers_influence import variance_inflation_factor\n",
    "from patsy import dmatrices\n",
    "\n",
    "y, X = dmatrices(model_param, scaled, return_type = 'dataframe')\n",
    "vif = pd.DataFrame()\n",
    "vif['Features'] = X.columns\n",
    "vif['vif_factor'] = [variance_inflation_factor(X.values, i) for i in range(X.shape[1])]\n",
    "vif.sort_values(by=['vif_factor'],ascending=False).reset_index()"
   ]
  },
  {
   "cell_type": "code",
   "execution_count": 72,
   "metadata": {},
   "outputs": [],
   "source": [
    "trainx,testx,trainy,testy= train_test_split(scaled[imp_var],scaled['ln_sales'],test_size=0.3,random_state=123)"
   ]
  },
  {
   "cell_type": "code",
   "execution_count": 73,
   "metadata": {},
   "outputs": [
    {
     "name": "stderr",
     "output_type": "stream",
     "text": [
      "C:\\Users\\Lenovo\\anaconda3\\lib\\site-packages\\sklearn\\utils\\validation.py:68: FutureWarning: Pass n_features_to_select=30 as keyword args. From version 0.25 passing these as positional arguments will result in an error\n",
      "  warnings.warn(\"Pass {} as keyword args. From version 0.25 \"\n"
     ]
    },
    {
     "data": {
      "text/plain": [
       "RFE(estimator=LinearRegression(), n_features_to_select=30)"
      ]
     },
     "execution_count": 73,
     "metadata": {},
     "output_type": "execute_result"
    }
   ],
   "source": [
    "rfe=RFE(LinearRegression(),30)\n",
    "rfe.fit(trainx,trainy)"
   ]
  },
  {
   "cell_type": "code",
   "execution_count": 74,
   "metadata": {},
   "outputs": [
    {
     "data": {
      "text/plain": [
       "array([34, 32, 30, 39, 13,  6, 38, 61, 51,  1,  1,  1, 19, 18, 52, 26, 20,\n",
       "       60,  1,  1, 17, 48,  8,  1, 21, 46,  1,  1,  9,  1, 44, 23,  1,  1,\n",
       "       22, 37, 14,  1, 27,  1,  2,  1, 29, 12,  1,  1,  1, 59,  1,  1,  1,\n",
       "       10,  1, 47, 55, 25, 16,  1, 42,  4,  5, 28,  7, 11, 43, 35,  1,  1,\n",
       "       40, 31,  3, 24,  1, 49, 54,  1, 50,  1,  1, 56, 53, 41, 57, 45,  1,\n",
       "       15, 58,  1, 33, 36])"
      ]
     },
     "execution_count": 74,
     "metadata": {},
     "output_type": "execute_result"
    }
   ],
   "source": [
    "rfe.ranking_"
   ]
  },
  {
   "cell_type": "code",
   "execution_count": 163,
   "metadata": {},
   "outputs": [
    {
     "data": {
      "text/plain": [
       "Index(['CPI', 'Date', 'Dept_10', 'Dept_11', 'Dept_12', 'Dept_13', 'Dept_14',\n",
       "       'Dept_16', 'Dept_17', 'Dept_18', 'Dept_19', 'Dept_2', 'Dept_20',\n",
       "       'Dept_21', 'Dept_22', 'Dept_23', 'Dept_24', 'Dept_25', 'Dept_27',\n",
       "       'Dept_28', 'Dept_29', 'Dept_3', 'Dept_30', 'Dept_31', 'Dept_33',\n",
       "       'Dept_34', 'Dept_35', 'Dept_36', 'Dept_37', 'Dept_38', 'Dept_39',\n",
       "       'Dept_4', 'Dept_40', 'Dept_41', 'Dept_42', 'Dept_43', 'Dept_44',\n",
       "       'Dept_45', 'Dept_46', 'Dept_47', 'Dept_48', 'Dept_49', 'Dept_5',\n",
       "       'Dept_50', 'Dept_51', 'Dept_52', 'Dept_54', 'Dept_55', 'Dept_56',\n",
       "       'Dept_58', 'Dept_59', 'Dept_6', 'Dept_60', 'Dept_65', 'Dept_67',\n",
       "       'Dept_7', 'Dept_71', 'Dept_72', 'Dept_74', 'Dept_77', 'Dept_78',\n",
       "       'Dept_79', 'Dept_8', 'Dept_80', 'Dept_81', 'Dept_82', 'Dept_83',\n",
       "       'Dept_85', 'Dept_87', 'Dept_9', 'Dept_90', 'Dept_91', 'Dept_92',\n",
       "       'Dept_93', 'Dept_94', 'Dept_95', 'Dept_97', 'Dept_98', 'Dept_99',\n",
       "       'MarkDown1', 'MarkDown2', 'MarkDown3', 'MarkDown4', 'MarkDown5', 'Size',\n",
       "       'Store', 'Temperature', 'Type_B', 'Type_C', 'Unemployment'],\n",
       "      dtype='object')"
      ]
     },
     "execution_count": 163,
     "metadata": {},
     "output_type": "execute_result"
    }
   ],
   "source": [
    "trainx.columns"
   ]
  },
  {
   "cell_type": "code",
   "execution_count": 75,
   "metadata": {},
   "outputs": [
    {
     "data": {
      "text/plain": [
       "0.6143932762774751"
      ]
     },
     "execution_count": 75,
     "metadata": {},
     "output_type": "execute_result"
    }
   ],
   "source": [
    "rfe.score(trainx,trainy)"
   ]
  },
  {
   "cell_type": "code",
   "execution_count": 76,
   "metadata": {},
   "outputs": [],
   "source": [
    "var_df = pd.DataFrame({'cols':trainx.columns,'rank':pd.Series(rfe.ranking_)})"
   ]
  },
  {
   "cell_type": "code",
   "execution_count": 167,
   "metadata": {},
   "outputs": [],
   "source": [
    "var= var_df.loc[var_df['rank'] == 1,'cols'].to_list()"
   ]
  },
  {
   "cell_type": "code",
   "execution_count": 168,
   "metadata": {},
   "outputs": [],
   "source": [
    "var.append('Date')"
   ]
  },
  {
   "cell_type": "code",
   "execution_count": 170,
   "metadata": {},
   "outputs": [],
   "source": [
    "model_param = 'ln_sales ~ ' + ' + '.join(var)"
   ]
  },
  {
   "cell_type": "code",
   "execution_count": 171,
   "metadata": {},
   "outputs": [],
   "source": [
    "ln = smf.ols(model_param,train).fit()"
   ]
  },
  {
   "cell_type": "code",
   "execution_count": 172,
   "metadata": {},
   "outputs": [
    {
     "data": {
      "text/html": [
       "<table class=\"simpletable\">\n",
       "<caption>OLS Regression Results</caption>\n",
       "<tr>\n",
       "  <th>Dep. Variable:</th>        <td>ln_sales</td>     <th>  R-squared:         </th>  <td>   0.615</td>  \n",
       "</tr>\n",
       "<tr>\n",
       "  <th>Model:</th>                   <td>OLS</td>       <th>  Adj. R-squared:    </th>  <td>   0.615</td>  \n",
       "</tr>\n",
       "<tr>\n",
       "  <th>Method:</th>             <td>Least Squares</td>  <th>  F-statistic:       </th>  <td>   3502.</td>  \n",
       "</tr>\n",
       "<tr>\n",
       "  <th>Date:</th>             <td>Thu, 26 Nov 2020</td> <th>  Prob (F-statistic):</th>   <td>  0.00</td>   \n",
       "</tr>\n",
       "<tr>\n",
       "  <th>Time:</th>                 <td>13:26:35</td>     <th>  Log-Likelihood:    </th> <td>-1.0590e+05</td>\n",
       "</tr>\n",
       "<tr>\n",
       "  <th>No. Observations:</th>      <td> 67939</td>      <th>  AIC:               </th>  <td>2.119e+05</td> \n",
       "</tr>\n",
       "<tr>\n",
       "  <th>Df Residuals:</th>          <td> 67907</td>      <th>  BIC:               </th>  <td>2.122e+05</td> \n",
       "</tr>\n",
       "<tr>\n",
       "  <th>Df Model:</th>              <td>    31</td>      <th>                     </th>      <td> </td>     \n",
       "</tr>\n",
       "<tr>\n",
       "  <th>Covariance Type:</th>      <td>nonrobust</td>    <th>                     </th>      <td> </td>     \n",
       "</tr>\n",
       "</table>\n",
       "<table class=\"simpletable\">\n",
       "<tr>\n",
       "      <td></td>         <th>coef</th>     <th>std err</th>      <th>t</th>      <th>P>|t|</th>  <th>[0.025</th>    <th>0.975]</th>  \n",
       "</tr>\n",
       "<tr>\n",
       "  <th>Intercept</th> <td>    8.7568</td> <td>    0.004</td> <td> 1984.017</td> <td> 0.000</td> <td>    8.748</td> <td>    8.765</td>\n",
       "</tr>\n",
       "<tr>\n",
       "  <th>Dept_18</th>   <td>   -0.2284</td> <td>    0.004</td> <td>  -51.774</td> <td> 0.000</td> <td>   -0.237</td> <td>   -0.220</td>\n",
       "</tr>\n",
       "<tr>\n",
       "  <th>Dept_19</th>   <td>   -0.2631</td> <td>    0.004</td> <td>  -58.501</td> <td> 0.000</td> <td>   -0.272</td> <td>   -0.254</td>\n",
       "</tr>\n",
       "<tr>\n",
       "  <th>Dept_2</th>    <td>    0.1813</td> <td>    0.004</td> <td>   40.538</td> <td> 0.000</td> <td>    0.173</td> <td>    0.190</td>\n",
       "</tr>\n",
       "<tr>\n",
       "  <th>Dept_27</th>   <td>   -0.2274</td> <td>    0.004</td> <td>  -51.290</td> <td> 0.000</td> <td>   -0.236</td> <td>   -0.219</td>\n",
       "</tr>\n",
       "<tr>\n",
       "  <th>Dept_28</th>   <td>   -0.3488</td> <td>    0.004</td> <td>  -78.002</td> <td> 0.000</td> <td>   -0.358</td> <td>   -0.340</td>\n",
       "</tr>\n",
       "<tr>\n",
       "  <th>Dept_31</th>   <td>   -0.1847</td> <td>    0.004</td> <td>  -41.448</td> <td> 0.000</td> <td>   -0.193</td> <td>   -0.176</td>\n",
       "</tr>\n",
       "<tr>\n",
       "  <th>Dept_35</th>   <td>   -0.1762</td> <td>    0.004</td> <td>  -40.110</td> <td> 0.000</td> <td>   -0.185</td> <td>   -0.168</td>\n",
       "</tr>\n",
       "<tr>\n",
       "  <th>Dept_36</th>   <td>   -0.2434</td> <td>    0.004</td> <td>  -55.324</td> <td> 0.000</td> <td>   -0.252</td> <td>   -0.235</td>\n",
       "</tr>\n",
       "<tr>\n",
       "  <th>Dept_38</th>   <td>    0.2156</td> <td>    0.004</td> <td>   48.046</td> <td> 0.000</td> <td>    0.207</td> <td>    0.224</td>\n",
       "</tr>\n",
       "<tr>\n",
       "  <th>Dept_40</th>   <td>    0.1895</td> <td>    0.004</td> <td>   42.872</td> <td> 0.000</td> <td>    0.181</td> <td>    0.198</td>\n",
       "</tr>\n",
       "<tr>\n",
       "  <th>Dept_41</th>   <td>   -0.2520</td> <td>    0.004</td> <td>  -57.376</td> <td> 0.000</td> <td>   -0.261</td> <td>   -0.243</td>\n",
       "</tr>\n",
       "<tr>\n",
       "  <th>Dept_45</th>   <td>   -0.3719</td> <td>    0.004</td> <td>  -86.361</td> <td> 0.000</td> <td>   -0.380</td> <td>   -0.363</td>\n",
       "</tr>\n",
       "<tr>\n",
       "  <th>Dept_47</th>   <td>   -0.2634</td> <td>    0.004</td> <td>  -59.660</td> <td> 0.000</td> <td>   -0.272</td> <td>   -0.255</td>\n",
       "</tr>\n",
       "<tr>\n",
       "  <th>Dept_49</th>   <td>   -0.1949</td> <td>    0.004</td> <td>  -44.292</td> <td> 0.000</td> <td>   -0.204</td> <td>   -0.186</td>\n",
       "</tr>\n",
       "<tr>\n",
       "  <th>Dept_51</th>   <td>   -0.1856</td> <td>    0.004</td> <td>  -42.089</td> <td> 0.000</td> <td>   -0.194</td> <td>   -0.177</td>\n",
       "</tr>\n",
       "<tr>\n",
       "  <th>Dept_52</th>   <td>   -0.2034</td> <td>    0.005</td> <td>  -45.188</td> <td> 0.000</td> <td>   -0.212</td> <td>   -0.195</td>\n",
       "</tr>\n",
       "<tr>\n",
       "  <th>Dept_54</th>   <td>   -0.6232</td> <td>    0.004</td> <td> -142.767</td> <td> 0.000</td> <td>   -0.632</td> <td>   -0.615</td>\n",
       "</tr>\n",
       "<tr>\n",
       "  <th>Dept_56</th>   <td>   -0.2237</td> <td>    0.004</td> <td>  -50.998</td> <td> 0.000</td> <td>   -0.232</td> <td>   -0.215</td>\n",
       "</tr>\n",
       "<tr>\n",
       "  <th>Dept_58</th>   <td>   -0.1683</td> <td>    0.004</td> <td>  -38.048</td> <td> 0.000</td> <td>   -0.177</td> <td>   -0.160</td>\n",
       "</tr>\n",
       "<tr>\n",
       "  <th>Dept_59</th>   <td>   -0.4206</td> <td>    0.004</td> <td>  -95.446</td> <td> 0.000</td> <td>   -0.429</td> <td>   -0.412</td>\n",
       "</tr>\n",
       "<tr>\n",
       "  <th>Dept_60</th>   <td>   -0.4408</td> <td>    0.004</td> <td>  -98.674</td> <td> 0.000</td> <td>   -0.450</td> <td>   -0.432</td>\n",
       "</tr>\n",
       "<tr>\n",
       "  <th>Dept_72</th>   <td>    0.1796</td> <td>    0.004</td> <td>   40.097</td> <td> 0.000</td> <td>    0.171</td> <td>    0.188</td>\n",
       "</tr>\n",
       "<tr>\n",
       "  <th>Dept_83</th>   <td>   -0.1859</td> <td>    0.004</td> <td>  -41.578</td> <td> 0.000</td> <td>   -0.195</td> <td>   -0.177</td>\n",
       "</tr>\n",
       "<tr>\n",
       "  <th>Dept_85</th>   <td>   -0.1911</td> <td>    0.004</td> <td>  -43.710</td> <td> 0.000</td> <td>   -0.200</td> <td>   -0.182</td>\n",
       "</tr>\n",
       "<tr>\n",
       "  <th>Dept_92</th>   <td>    0.2187</td> <td>    0.004</td> <td>   49.745</td> <td> 0.000</td> <td>    0.210</td> <td>    0.227</td>\n",
       "</tr>\n",
       "<tr>\n",
       "  <th>Dept_95</th>   <td>    0.2213</td> <td>    0.004</td> <td>   50.365</td> <td> 0.000</td> <td>    0.213</td> <td>    0.230</td>\n",
       "</tr>\n",
       "<tr>\n",
       "  <th>Dept_98</th>   <td>   -0.1732</td> <td>    0.004</td> <td>  -39.293</td> <td> 0.000</td> <td>   -0.182</td> <td>   -0.165</td>\n",
       "</tr>\n",
       "<tr>\n",
       "  <th>Dept_99</th>   <td>   -0.3752</td> <td>    0.004</td> <td>  -85.256</td> <td> 0.000</td> <td>   -0.384</td> <td>   -0.367</td>\n",
       "</tr>\n",
       "<tr>\n",
       "  <th>Size</th>      <td>    0.5858</td> <td>    0.008</td> <td>   76.311</td> <td> 0.000</td> <td>    0.571</td> <td>    0.601</td>\n",
       "</tr>\n",
       "<tr>\n",
       "  <th>Type_B</th>    <td>    0.1778</td> <td>    0.008</td> <td>   23.197</td> <td> 0.000</td> <td>    0.163</td> <td>    0.193</td>\n",
       "</tr>\n",
       "<tr>\n",
       "  <th>Date</th>      <td>   -0.0525</td> <td>    0.004</td> <td>  -11.877</td> <td> 0.000</td> <td>   -0.061</td> <td>   -0.044</td>\n",
       "</tr>\n",
       "</table>\n",
       "<table class=\"simpletable\">\n",
       "<tr>\n",
       "  <th>Omnibus:</th>       <td>23342.538</td> <th>  Durbin-Watson:     </th>  <td>   1.992</td> \n",
       "</tr>\n",
       "<tr>\n",
       "  <th>Prob(Omnibus):</th>  <td> 0.000</td>   <th>  Jarque-Bera (JB):  </th> <td>147979.167</td>\n",
       "</tr>\n",
       "<tr>\n",
       "  <th>Skew:</th>           <td>-1.511</td>   <th>  Prob(JB):          </th>  <td>    0.00</td> \n",
       "</tr>\n",
       "<tr>\n",
       "  <th>Kurtosis:</th>       <td> 9.569</td>   <th>  Cond. No.          </th>  <td>    3.16</td> \n",
       "</tr>\n",
       "</table><br/><br/>Warnings:<br/>[1] Standard Errors assume that the covariance matrix of the errors is correctly specified."
      ],
      "text/plain": [
       "<class 'statsmodels.iolib.summary.Summary'>\n",
       "\"\"\"\n",
       "                            OLS Regression Results                            \n",
       "==============================================================================\n",
       "Dep. Variable:               ln_sales   R-squared:                       0.615\n",
       "Model:                            OLS   Adj. R-squared:                  0.615\n",
       "Method:                 Least Squares   F-statistic:                     3502.\n",
       "Date:                Thu, 26 Nov 2020   Prob (F-statistic):               0.00\n",
       "Time:                        13:26:35   Log-Likelihood:            -1.0590e+05\n",
       "No. Observations:               67939   AIC:                         2.119e+05\n",
       "Df Residuals:                   67907   BIC:                         2.122e+05\n",
       "Df Model:                          31                                         \n",
       "Covariance Type:            nonrobust                                         \n",
       "==============================================================================\n",
       "                 coef    std err          t      P>|t|      [0.025      0.975]\n",
       "------------------------------------------------------------------------------\n",
       "Intercept      8.7568      0.004   1984.017      0.000       8.748       8.765\n",
       "Dept_18       -0.2284      0.004    -51.774      0.000      -0.237      -0.220\n",
       "Dept_19       -0.2631      0.004    -58.501      0.000      -0.272      -0.254\n",
       "Dept_2         0.1813      0.004     40.538      0.000       0.173       0.190\n",
       "Dept_27       -0.2274      0.004    -51.290      0.000      -0.236      -0.219\n",
       "Dept_28       -0.3488      0.004    -78.002      0.000      -0.358      -0.340\n",
       "Dept_31       -0.1847      0.004    -41.448      0.000      -0.193      -0.176\n",
       "Dept_35       -0.1762      0.004    -40.110      0.000      -0.185      -0.168\n",
       "Dept_36       -0.2434      0.004    -55.324      0.000      -0.252      -0.235\n",
       "Dept_38        0.2156      0.004     48.046      0.000       0.207       0.224\n",
       "Dept_40        0.1895      0.004     42.872      0.000       0.181       0.198\n",
       "Dept_41       -0.2520      0.004    -57.376      0.000      -0.261      -0.243\n",
       "Dept_45       -0.3719      0.004    -86.361      0.000      -0.380      -0.363\n",
       "Dept_47       -0.2634      0.004    -59.660      0.000      -0.272      -0.255\n",
       "Dept_49       -0.1949      0.004    -44.292      0.000      -0.204      -0.186\n",
       "Dept_51       -0.1856      0.004    -42.089      0.000      -0.194      -0.177\n",
       "Dept_52       -0.2034      0.005    -45.188      0.000      -0.212      -0.195\n",
       "Dept_54       -0.6232      0.004   -142.767      0.000      -0.632      -0.615\n",
       "Dept_56       -0.2237      0.004    -50.998      0.000      -0.232      -0.215\n",
       "Dept_58       -0.1683      0.004    -38.048      0.000      -0.177      -0.160\n",
       "Dept_59       -0.4206      0.004    -95.446      0.000      -0.429      -0.412\n",
       "Dept_60       -0.4408      0.004    -98.674      0.000      -0.450      -0.432\n",
       "Dept_72        0.1796      0.004     40.097      0.000       0.171       0.188\n",
       "Dept_83       -0.1859      0.004    -41.578      0.000      -0.195      -0.177\n",
       "Dept_85       -0.1911      0.004    -43.710      0.000      -0.200      -0.182\n",
       "Dept_92        0.2187      0.004     49.745      0.000       0.210       0.227\n",
       "Dept_95        0.2213      0.004     50.365      0.000       0.213       0.230\n",
       "Dept_98       -0.1732      0.004    -39.293      0.000      -0.182      -0.165\n",
       "Dept_99       -0.3752      0.004    -85.256      0.000      -0.384      -0.367\n",
       "Size           0.5858      0.008     76.311      0.000       0.571       0.601\n",
       "Type_B         0.1778      0.008     23.197      0.000       0.163       0.193\n",
       "Date          -0.0525      0.004    -11.877      0.000      -0.061      -0.044\n",
       "==============================================================================\n",
       "Omnibus:                    23342.538   Durbin-Watson:                   1.992\n",
       "Prob(Omnibus):                  0.000   Jarque-Bera (JB):           147979.167\n",
       "Skew:                          -1.511   Prob(JB):                         0.00\n",
       "Kurtosis:                       9.569   Cond. No.                         3.16\n",
       "==============================================================================\n",
       "\n",
       "Warnings:\n",
       "[1] Standard Errors assume that the covariance matrix of the errors is correctly specified.\n",
       "\"\"\""
      ]
     },
     "execution_count": 172,
     "metadata": {},
     "output_type": "execute_result"
    }
   ],
   "source": [
    "ln.summary()"
   ]
  },
  {
   "cell_type": "code",
   "execution_count": 173,
   "metadata": {},
   "outputs": [],
   "source": [
    "train_pred = pd.DataFrame({'actual': np.exp(trainy),'predicted': np.exp(ln.predict(trainx))})"
   ]
  },
  {
   "cell_type": "code",
   "execution_count": 174,
   "metadata": {},
   "outputs": [
    {
     "data": {
      "text/html": [
       "<div>\n",
       "<style scoped>\n",
       "    .dataframe tbody tr th:only-of-type {\n",
       "        vertical-align: middle;\n",
       "    }\n",
       "\n",
       "    .dataframe tbody tr th {\n",
       "        vertical-align: top;\n",
       "    }\n",
       "\n",
       "    .dataframe thead th {\n",
       "        text-align: right;\n",
       "    }\n",
       "</style>\n",
       "<table border=\"1\" class=\"dataframe\">\n",
       "  <thead>\n",
       "    <tr style=\"text-align: right;\">\n",
       "      <th></th>\n",
       "      <th>actual</th>\n",
       "      <th>predicted</th>\n",
       "    </tr>\n",
       "  </thead>\n",
       "  <tbody>\n",
       "    <tr>\n",
       "      <th>4033</th>\n",
       "      <td>1551.00</td>\n",
       "      <td>84.470430</td>\n",
       "    </tr>\n",
       "    <tr>\n",
       "      <th>42496</th>\n",
       "      <td>58.92</td>\n",
       "      <td>28.158895</td>\n",
       "    </tr>\n",
       "    <tr>\n",
       "      <th>66944</th>\n",
       "      <td>78410.28</td>\n",
       "      <td>75968.485346</td>\n",
       "    </tr>\n",
       "    <tr>\n",
       "      <th>46068</th>\n",
       "      <td>9103.52</td>\n",
       "      <td>15785.252195</td>\n",
       "    </tr>\n",
       "    <tr>\n",
       "      <th>63868</th>\n",
       "      <td>8688.47</td>\n",
       "      <td>8657.368256</td>\n",
       "    </tr>\n",
       "    <tr>\n",
       "      <th>...</th>\n",
       "      <td>...</td>\n",
       "      <td>...</td>\n",
       "    </tr>\n",
       "    <tr>\n",
       "      <th>63206</th>\n",
       "      <td>26077.11</td>\n",
       "      <td>8944.868241</td>\n",
       "    </tr>\n",
       "    <tr>\n",
       "      <th>61404</th>\n",
       "      <td>10452.89</td>\n",
       "      <td>10119.831281</td>\n",
       "    </tr>\n",
       "    <tr>\n",
       "      <th>17730</th>\n",
       "      <td>734.88</td>\n",
       "      <td>901.147349</td>\n",
       "    </tr>\n",
       "    <tr>\n",
       "      <th>28030</th>\n",
       "      <td>13476.56</td>\n",
       "      <td>8021.468523</td>\n",
       "    </tr>\n",
       "    <tr>\n",
       "      <th>15725</th>\n",
       "      <td>14517.40</td>\n",
       "      <td>5210.075164</td>\n",
       "    </tr>\n",
       "  </tbody>\n",
       "</table>\n",
       "<p>67939 rows × 2 columns</p>\n",
       "</div>"
      ],
      "text/plain": [
       "         actual     predicted\n",
       "4033    1551.00     84.470430\n",
       "42496     58.92     28.158895\n",
       "66944  78410.28  75968.485346\n",
       "46068   9103.52  15785.252195\n",
       "63868   8688.47   8657.368256\n",
       "...         ...           ...\n",
       "63206  26077.11   8944.868241\n",
       "61404  10452.89  10119.831281\n",
       "17730    734.88    901.147349\n",
       "28030  13476.56   8021.468523\n",
       "15725  14517.40   5210.075164\n",
       "\n",
       "[67939 rows x 2 columns]"
      ]
     },
     "execution_count": 174,
     "metadata": {},
     "output_type": "execute_result"
    }
   ],
   "source": [
    "train_pred"
   ]
  },
  {
   "cell_type": "code",
   "execution_count": 175,
   "metadata": {},
   "outputs": [],
   "source": [
    "test_pred = pd.DataFrame({'actual': np.exp(testy),'predicted': np.exp(ln.predict(testx))})"
   ]
  },
  {
   "cell_type": "code",
   "execution_count": 176,
   "metadata": {},
   "outputs": [
    {
     "data": {
      "text/html": [
       "<div>\n",
       "<style scoped>\n",
       "    .dataframe tbody tr th:only-of-type {\n",
       "        vertical-align: middle;\n",
       "    }\n",
       "\n",
       "    .dataframe tbody tr th {\n",
       "        vertical-align: top;\n",
       "    }\n",
       "\n",
       "    .dataframe thead th {\n",
       "        text-align: right;\n",
       "    }\n",
       "</style>\n",
       "<table border=\"1\" class=\"dataframe\">\n",
       "  <thead>\n",
       "    <tr style=\"text-align: right;\">\n",
       "      <th></th>\n",
       "      <th>actual</th>\n",
       "      <th>predicted</th>\n",
       "    </tr>\n",
       "  </thead>\n",
       "  <tbody>\n",
       "    <tr>\n",
       "      <th>52105</th>\n",
       "      <td>22794.38</td>\n",
       "      <td>10882.289431</td>\n",
       "    </tr>\n",
       "    <tr>\n",
       "      <th>48797</th>\n",
       "      <td>2689.08</td>\n",
       "      <td>2411.779022</td>\n",
       "    </tr>\n",
       "    <tr>\n",
       "      <th>25509</th>\n",
       "      <td>18.64</td>\n",
       "      <td>50.619950</td>\n",
       "    </tr>\n",
       "    <tr>\n",
       "      <th>96163</th>\n",
       "      <td>207.42</td>\n",
       "      <td>218.639649</td>\n",
       "    </tr>\n",
       "    <tr>\n",
       "      <th>87678</th>\n",
       "      <td>27192.55</td>\n",
       "      <td>11801.612989</td>\n",
       "    </tr>\n",
       "    <tr>\n",
       "      <th>...</th>\n",
       "      <td>...</td>\n",
       "      <td>...</td>\n",
       "    </tr>\n",
       "    <tr>\n",
       "      <th>57094</th>\n",
       "      <td>3426.99</td>\n",
       "      <td>1011.758423</td>\n",
       "    </tr>\n",
       "    <tr>\n",
       "      <th>51717</th>\n",
       "      <td>16903.99</td>\n",
       "      <td>11081.601432</td>\n",
       "    </tr>\n",
       "    <tr>\n",
       "      <th>13330</th>\n",
       "      <td>33482.18</td>\n",
       "      <td>15834.517786</td>\n",
       "    </tr>\n",
       "    <tr>\n",
       "      <th>82405</th>\n",
       "      <td>26165.72</td>\n",
       "      <td>9089.568038</td>\n",
       "    </tr>\n",
       "    <tr>\n",
       "      <th>14785</th>\n",
       "      <td>67808.24</td>\n",
       "      <td>71044.440401</td>\n",
       "    </tr>\n",
       "  </tbody>\n",
       "</table>\n",
       "<p>29117 rows × 2 columns</p>\n",
       "</div>"
      ],
      "text/plain": [
       "         actual     predicted\n",
       "52105  22794.38  10882.289431\n",
       "48797   2689.08   2411.779022\n",
       "25509     18.64     50.619950\n",
       "96163    207.42    218.639649\n",
       "87678  27192.55  11801.612989\n",
       "...         ...           ...\n",
       "57094   3426.99   1011.758423\n",
       "51717  16903.99  11081.601432\n",
       "13330  33482.18  15834.517786\n",
       "82405  26165.72   9089.568038\n",
       "14785  67808.24  71044.440401\n",
       "\n",
       "[29117 rows x 2 columns]"
      ]
     },
     "execution_count": 176,
     "metadata": {},
     "output_type": "execute_result"
    }
   ],
   "source": [
    "test_pred"
   ]
  },
  {
   "cell_type": "code",
   "execution_count": 177,
   "metadata": {},
   "outputs": [
    {
     "name": "stdout",
     "output_type": "stream",
     "text": [
      "MAE of training data:  9242.90684546956  |  MAE of testing data:  9228.042682145697\n"
     ]
    }
   ],
   "source": [
    "# a) accuracy metrics (a. MAE: Mean Absolute Error)\n",
    "MAE_train = mean_absolute_error(train_pred.actual, train_pred.predicted)\n",
    "MAE_test = mean_absolute_error(test_pred.actual, test_pred.predicted)\n",
    "\n",
    "# print the values of MAE for train and test\n",
    "print('MAE of training data: ', MAE_train,  ' | ', 'MAE of testing data: ', MAE_test)"
   ]
  },
  {
   "cell_type": "code",
   "execution_count": 178,
   "metadata": {},
   "outputs": [
    {
     "name": "stdout",
     "output_type": "stream",
     "text": [
      "MSE of training data:  251394926.78091758  |  MSE of testing data:  247887906.05387682\n",
      "RMSE of training data:  15855.438397626147  |  RMSE of testing data:  15744.456359426222\n"
     ]
    }
   ],
   "source": [
    "MSE_train = mean_squared_error(train_pred.actual, train_pred.predicted)\n",
    "MSE_test = mean_squared_error(test_pred.actual, test_pred.predicted)\n",
    "\n",
    "# print the values of MSE for train and test\n",
    "print('MSE of training data: ', MSE_train,  ' | ', 'MSE of testing data: ', MSE_test)\n",
    "\n",
    "# print the values of RMSE for train and test\n",
    "print('RMSE of training data: ', np.sqrt(MSE_train),  ' | ', 'RMSE of testing data: ', np.sqrt(MSE_test))"
   ]
  },
  {
   "cell_type": "code",
   "execution_count": 179,
   "metadata": {},
   "outputs": [
    {
     "name": "stdout",
     "output_type": "stream",
     "text": [
      "Corr of training data:  (0.7285300912968237, 0.0)  |  Corr of testing data:  (0.7324867220735567, 0.0)\n"
     ]
    }
   ],
   "source": [
    "# Step 6: \n",
    "# d.1) Corelation between actual and predicted\n",
    "Corr_train = stats.pearsonr(train_pred.actual, train_pred.predicted)\n",
    "Corr_test = stats.pearsonr(test_pred.actual, test_pred.predicted)\n",
    "\n",
    "# print the values of Corelation for train and test\n",
    "print('Corr of training data: ', Corr_train,  ' | ', 'Corr of testing data: ', Corr_test)"
   ]
  },
  {
   "cell_type": "code",
   "execution_count": 180,
   "metadata": {},
   "outputs": [],
   "source": [
    "# Step 6: \n",
    "# e) accuracy metrics (d. Decile Analysis: for validation of models - Business validation)\n",
    "\n",
    "# create the 10 groups in the data\n",
    "train_pred.loc[:, 'Deciles'] = pd.qcut( train_pred['predicted'], 10, labels = False )\n",
    "test_pred.loc[:, 'Deciles'] = pd.qcut( test_pred['predicted'], 10, labels = False )\n",
    "\n",
    "# Decile Analysis for train data\n",
    "Predicted_avg_train = train_pred.groupby('Deciles')[['actual','predicted']].mean().reset_index().sort_index(ascending = False)\n",
    "Predicted_avg_test = test_pred.groupby('Deciles')[['actual','predicted']].mean().reset_index().sort_index(ascending = False)\n",
    "\n"
   ]
  },
  {
   "cell_type": "code",
   "execution_count": 181,
   "metadata": {},
   "outputs": [
    {
     "data": {
      "text/html": [
       "<div>\n",
       "<style scoped>\n",
       "    .dataframe tbody tr th:only-of-type {\n",
       "        vertical-align: middle;\n",
       "    }\n",
       "\n",
       "    .dataframe tbody tr th {\n",
       "        vertical-align: top;\n",
       "    }\n",
       "\n",
       "    .dataframe thead th {\n",
       "        text-align: right;\n",
       "    }\n",
       "</style>\n",
       "<table border=\"1\" class=\"dataframe\">\n",
       "  <thead>\n",
       "    <tr style=\"text-align: right;\">\n",
       "      <th></th>\n",
       "      <th>Deciles</th>\n",
       "      <th>actual</th>\n",
       "      <th>predicted</th>\n",
       "    </tr>\n",
       "  </thead>\n",
       "  <tbody>\n",
       "    <tr>\n",
       "      <th>9</th>\n",
       "      <td>9</td>\n",
       "      <td>56796.721137</td>\n",
       "      <td>54692.334302</td>\n",
       "    </tr>\n",
       "    <tr>\n",
       "      <th>8</th>\n",
       "      <td>8</td>\n",
       "      <td>23092.397983</td>\n",
       "      <td>16349.410296</td>\n",
       "    </tr>\n",
       "    <tr>\n",
       "      <th>7</th>\n",
       "      <td>7</td>\n",
       "      <td>22335.401516</td>\n",
       "      <td>15180.480807</td>\n",
       "    </tr>\n",
       "    <tr>\n",
       "      <th>6</th>\n",
       "      <td>6</td>\n",
       "      <td>19621.822974</td>\n",
       "      <td>13220.720188</td>\n",
       "    </tr>\n",
       "    <tr>\n",
       "      <th>5</th>\n",
       "      <td>5</td>\n",
       "      <td>14590.052993</td>\n",
       "      <td>9279.063976</td>\n",
       "    </tr>\n",
       "    <tr>\n",
       "      <th>4</th>\n",
       "      <td>4</td>\n",
       "      <td>14788.714403</td>\n",
       "      <td>8428.122573</td>\n",
       "    </tr>\n",
       "    <tr>\n",
       "      <th>3</th>\n",
       "      <td>3</td>\n",
       "      <td>12626.563791</td>\n",
       "      <td>6663.163544</td>\n",
       "    </tr>\n",
       "    <tr>\n",
       "      <th>2</th>\n",
       "      <td>2</td>\n",
       "      <td>5644.612704</td>\n",
       "      <td>3194.323854</td>\n",
       "    </tr>\n",
       "    <tr>\n",
       "      <th>1</th>\n",
       "      <td>1</td>\n",
       "      <td>3437.210805</td>\n",
       "      <td>1677.324454</td>\n",
       "    </tr>\n",
       "    <tr>\n",
       "      <th>0</th>\n",
       "      <td>0</td>\n",
       "      <td>920.304157</td>\n",
       "      <td>439.104200</td>\n",
       "    </tr>\n",
       "  </tbody>\n",
       "</table>\n",
       "</div>"
      ],
      "text/plain": [
       "   Deciles        actual     predicted\n",
       "9        9  56796.721137  54692.334302\n",
       "8        8  23092.397983  16349.410296\n",
       "7        7  22335.401516  15180.480807\n",
       "6        6  19621.822974  13220.720188\n",
       "5        5  14590.052993   9279.063976\n",
       "4        4  14788.714403   8428.122573\n",
       "3        3  12626.563791   6663.163544\n",
       "2        2   5644.612704   3194.323854\n",
       "1        1   3437.210805   1677.324454\n",
       "0        0    920.304157    439.104200"
      ]
     },
     "execution_count": 181,
     "metadata": {},
     "output_type": "execute_result"
    }
   ],
   "source": [
    "Predicted_avg_train"
   ]
  },
  {
   "cell_type": "code",
   "execution_count": 182,
   "metadata": {},
   "outputs": [
    {
     "data": {
      "text/html": [
       "<div>\n",
       "<style scoped>\n",
       "    .dataframe tbody tr th:only-of-type {\n",
       "        vertical-align: middle;\n",
       "    }\n",
       "\n",
       "    .dataframe tbody tr th {\n",
       "        vertical-align: top;\n",
       "    }\n",
       "\n",
       "    .dataframe thead th {\n",
       "        text-align: right;\n",
       "    }\n",
       "</style>\n",
       "<table border=\"1\" class=\"dataframe\">\n",
       "  <thead>\n",
       "    <tr style=\"text-align: right;\">\n",
       "      <th></th>\n",
       "      <th>Deciles</th>\n",
       "      <th>actual</th>\n",
       "      <th>predicted</th>\n",
       "    </tr>\n",
       "  </thead>\n",
       "  <tbody>\n",
       "    <tr>\n",
       "      <th>9</th>\n",
       "      <td>9</td>\n",
       "      <td>57682.771580</td>\n",
       "      <td>55361.548460</td>\n",
       "    </tr>\n",
       "    <tr>\n",
       "      <th>8</th>\n",
       "      <td>8</td>\n",
       "      <td>23664.080072</td>\n",
       "      <td>16418.108555</td>\n",
       "    </tr>\n",
       "    <tr>\n",
       "      <th>7</th>\n",
       "      <td>7</td>\n",
       "      <td>21647.300457</td>\n",
       "      <td>15188.869685</td>\n",
       "    </tr>\n",
       "    <tr>\n",
       "      <th>6</th>\n",
       "      <td>6</td>\n",
       "      <td>19716.489627</td>\n",
       "      <td>13171.871608</td>\n",
       "    </tr>\n",
       "    <tr>\n",
       "      <th>5</th>\n",
       "      <td>5</td>\n",
       "      <td>14409.367732</td>\n",
       "      <td>9261.620909</td>\n",
       "    </tr>\n",
       "    <tr>\n",
       "      <th>4</th>\n",
       "      <td>4</td>\n",
       "      <td>14544.035071</td>\n",
       "      <td>8418.779021</td>\n",
       "    </tr>\n",
       "    <tr>\n",
       "      <th>3</th>\n",
       "      <td>3</td>\n",
       "      <td>12399.026607</td>\n",
       "      <td>6690.645507</td>\n",
       "    </tr>\n",
       "    <tr>\n",
       "      <th>2</th>\n",
       "      <td>2</td>\n",
       "      <td>5605.455839</td>\n",
       "      <td>3231.921076</td>\n",
       "    </tr>\n",
       "    <tr>\n",
       "      <th>1</th>\n",
       "      <td>1</td>\n",
       "      <td>3531.963532</td>\n",
       "      <td>1694.917375</td>\n",
       "    </tr>\n",
       "    <tr>\n",
       "      <th>0</th>\n",
       "      <td>0</td>\n",
       "      <td>929.523139</td>\n",
       "      <td>452.649247</td>\n",
       "    </tr>\n",
       "  </tbody>\n",
       "</table>\n",
       "</div>"
      ],
      "text/plain": [
       "   Deciles        actual     predicted\n",
       "9        9  57682.771580  55361.548460\n",
       "8        8  23664.080072  16418.108555\n",
       "7        7  21647.300457  15188.869685\n",
       "6        6  19716.489627  13171.871608\n",
       "5        5  14409.367732   9261.620909\n",
       "4        4  14544.035071   8418.779021\n",
       "3        3  12399.026607   6690.645507\n",
       "2        2   5605.455839   3231.921076\n",
       "1        1   3531.963532   1694.917375\n",
       "0        0    929.523139    452.649247"
      ]
     },
     "execution_count": 182,
     "metadata": {},
     "output_type": "execute_result"
    }
   ],
   "source": [
    "Predicted_avg_test"
   ]
  },
  {
   "cell_type": "code",
   "execution_count": 183,
   "metadata": {},
   "outputs": [
    {
     "data": {
      "image/png": "[encoded data removed]",
      "text/plain": [
       "<Figure size 432x288 with 1 Axes>"
      ]
     },
     "metadata": {
      "needs_background": "light"
     },
     "output_type": "display_data"
    }
   ],
   "source": [
    "sns.distplot(ln.resid)\n",
    "plt.show()"
   ]
  },
  {
   "cell_type": "code",
   "execution_count": 184,
   "metadata": {},
   "outputs": [
    {
     "data": {
      "text/plain": [
       "-1.5105759727355397"
      ]
     },
     "execution_count": 184,
     "metadata": {},
     "output_type": "execute_result"
    }
   ],
   "source": [
    "ln.resid.skew()"
   ]
  },
  {
   "cell_type": "code",
   "execution_count": 185,
   "metadata": {},
   "outputs": [
    {
     "data": {
      "image/png": "[encoded data removed]",
      "text/plain": [
       "<Figure size 432x288 with 1 Axes>"
      ]
     },
     "metadata": {
      "needs_background": "light"
     },
     "output_type": "display_data"
    }
   ],
   "source": [
    "# assumption: homoscedasticity of residuals/errors\n",
    "sns.scatterplot(ln.resid, np.log(train_pred.actual + 1))\n",
    "plt.show()"
   ]
  },
  {
   "cell_type": "code",
   "execution_count": 186,
   "metadata": {},
   "outputs": [
    {
     "name": "stdout",
     "output_type": "stream",
     "text": [
      "(0.6195047187285354, 0.0)\n"
     ]
    }
   ],
   "source": [
    "# assumption: residuals/errors of the model should not be correlated with dependant (Y) variable\n",
    "print(stats.stats.pearsonr(ln.resid, np.log(train_pred.actual + 1)))"
   ]
  },
  {
   "cell_type": "code",
   "execution_count": 230,
   "metadata": {},
   "outputs": [
    {
     "data": {
      "text/plain": [
       "'ln_sales ~ Dept_18 + Dept_19 + Dept_2 + Dept_27 + Dept_28 + Dept_31 + Dept_35 + Dept_36 + Dept_38 + Dept_40 + Dept_41 + Dept_45 + Dept_47 + Dept_49 + Dept_51 + Dept_52 + Dept_54 + Dept_56 + Dept_58 + Dept_59 + Dept_60 + Dept_72 + Dept_83 + Dept_85 + Dept_92 + Dept_95 + Dept_98 + Dept_99 + Size + Type_B + Date'"
      ]
     },
     "execution_count": 230,
     "metadata": {},
     "output_type": "execute_result"
    }
   ],
   "source": [
    "model_param"
   ]
  },
  {
   "cell_type": "code",
   "execution_count": 231,
   "metadata": {},
   "outputs": [],
   "source": [
    "## Key factors are :Dept_18 + Dept_19 + Dept_2 + Dept_27 + Dept_28 + Dept_31 + Dept_35 + Dept_36 + Dept_38 + Dept_40 +\n",
    "## Dept_41 + Dept_45 + Dept_47 + Dept_49 + Dept_51 + Dept_52 + Dept_54 + Dept_56 + Dept_58 + Dept_59 + Dept_60 + Dept_72 + \n",
    "## Dept_83 + Dept_85 + Dept_92 + Dept_95 + Dept_98 + Dept_99 + Size + Type_B + Date'"
   ]
  },
  {
   "cell_type": "code",
   "execution_count": 187,
   "metadata": {},
   "outputs": [
    {
     "data": {
      "text/html": [
       "<div>\n",
       "<style scoped>\n",
       "    .dataframe tbody tr th:only-of-type {\n",
       "        vertical-align: middle;\n",
       "    }\n",
       "\n",
       "    .dataframe tbody tr th {\n",
       "        vertical-align: top;\n",
       "    }\n",
       "\n",
       "    .dataframe thead th {\n",
       "        text-align: right;\n",
       "    }\n",
       "</style>\n",
       "<table border=\"1\" class=\"dataframe\">\n",
       "  <thead>\n",
       "    <tr style=\"text-align: right;\">\n",
       "      <th></th>\n",
       "      <th>Store</th>\n",
       "      <th>Dept</th>\n",
       "      <th>Date</th>\n",
       "      <th>IsHoliday</th>\n",
       "    </tr>\n",
       "  </thead>\n",
       "  <tbody>\n",
       "    <tr>\n",
       "      <th>0</th>\n",
       "      <td>1</td>\n",
       "      <td>1</td>\n",
       "      <td>2012-11-02</td>\n",
       "      <td>False</td>\n",
       "    </tr>\n",
       "    <tr>\n",
       "      <th>1</th>\n",
       "      <td>1</td>\n",
       "      <td>1</td>\n",
       "      <td>2012-11-09</td>\n",
       "      <td>False</td>\n",
       "    </tr>\n",
       "    <tr>\n",
       "      <th>2</th>\n",
       "      <td>1</td>\n",
       "      <td>1</td>\n",
       "      <td>2012-11-16</td>\n",
       "      <td>False</td>\n",
       "    </tr>\n",
       "    <tr>\n",
       "      <th>3</th>\n",
       "      <td>1</td>\n",
       "      <td>1</td>\n",
       "      <td>2012-11-23</td>\n",
       "      <td>True</td>\n",
       "    </tr>\n",
       "    <tr>\n",
       "      <th>4</th>\n",
       "      <td>1</td>\n",
       "      <td>1</td>\n",
       "      <td>2012-11-30</td>\n",
       "      <td>False</td>\n",
       "    </tr>\n",
       "  </tbody>\n",
       "</table>\n",
       "</div>"
      ],
      "text/plain": [
       "   Store  Dept        Date  IsHoliday\n",
       "0      1     1  2012-11-02      False\n",
       "1      1     1  2012-11-09      False\n",
       "2      1     1  2012-11-16      False\n",
       "3      1     1  2012-11-23       True\n",
       "4      1     1  2012-11-30      False"
      ]
     },
     "execution_count": 187,
     "metadata": {},
     "output_type": "execute_result"
    }
   ],
   "source": [
    "test = pd.read_csv('C:/Users/Lenovo/Downloads/CaseStudy/2. Walmart Store Sales Forecasting/data/test.csv')\n",
    "test.head()"
   ]
  },
  {
   "cell_type": "code",
   "execution_count": 188,
   "metadata": {},
   "outputs": [
    {
     "data": {
      "text/html": [
       "<div>\n",
       "<style scoped>\n",
       "    .dataframe tbody tr th:only-of-type {\n",
       "        vertical-align: middle;\n",
       "    }\n",
       "\n",
       "    .dataframe tbody tr th {\n",
       "        vertical-align: top;\n",
       "    }\n",
       "\n",
       "    .dataframe thead th {\n",
       "        text-align: right;\n",
       "    }\n",
       "</style>\n",
       "<table border=\"1\" class=\"dataframe\">\n",
       "  <thead>\n",
       "    <tr style=\"text-align: right;\">\n",
       "      <th></th>\n",
       "      <th>Store</th>\n",
       "      <th>Type</th>\n",
       "      <th>Size</th>\n",
       "    </tr>\n",
       "  </thead>\n",
       "  <tbody>\n",
       "    <tr>\n",
       "      <th>0</th>\n",
       "      <td>1</td>\n",
       "      <td>A</td>\n",
       "      <td>151315</td>\n",
       "    </tr>\n",
       "    <tr>\n",
       "      <th>1</th>\n",
       "      <td>2</td>\n",
       "      <td>A</td>\n",
       "      <td>202307</td>\n",
       "    </tr>\n",
       "    <tr>\n",
       "      <th>2</th>\n",
       "      <td>3</td>\n",
       "      <td>B</td>\n",
       "      <td>37392</td>\n",
       "    </tr>\n",
       "    <tr>\n",
       "      <th>3</th>\n",
       "      <td>4</td>\n",
       "      <td>A</td>\n",
       "      <td>205863</td>\n",
       "    </tr>\n",
       "    <tr>\n",
       "      <th>4</th>\n",
       "      <td>5</td>\n",
       "      <td>B</td>\n",
       "      <td>34875</td>\n",
       "    </tr>\n",
       "  </tbody>\n",
       "</table>\n",
       "</div>"
      ],
      "text/plain": [
       "   Store Type    Size\n",
       "0      1    A  151315\n",
       "1      2    A  202307\n",
       "2      3    B   37392\n",
       "3      4    A  205863\n",
       "4      5    B   34875"
      ]
     },
     "execution_count": 188,
     "metadata": {},
     "output_type": "execute_result"
    }
   ],
   "source": [
    "stores = pd.read_csv('C:/Users/Lenovo/Downloads/CaseStudy/2. Walmart Store Sales Forecasting/data/stores.csv')\n",
    "stores.head()"
   ]
  },
  {
   "cell_type": "code",
   "execution_count": 189,
   "metadata": {},
   "outputs": [
    {
     "data": {
      "text/html": [
       "<div>\n",
       "<style scoped>\n",
       "    .dataframe tbody tr th:only-of-type {\n",
       "        vertical-align: middle;\n",
       "    }\n",
       "\n",
       "    .dataframe tbody tr th {\n",
       "        vertical-align: top;\n",
       "    }\n",
       "\n",
       "    .dataframe thead th {\n",
       "        text-align: right;\n",
       "    }\n",
       "</style>\n",
       "<table border=\"1\" class=\"dataframe\">\n",
       "  <thead>\n",
       "    <tr style=\"text-align: right;\">\n",
       "      <th></th>\n",
       "      <th>Store</th>\n",
       "      <th>Dept</th>\n",
       "      <th>Date</th>\n",
       "      <th>IsHoliday</th>\n",
       "      <th>Type</th>\n",
       "      <th>Size</th>\n",
       "    </tr>\n",
       "  </thead>\n",
       "  <tbody>\n",
       "    <tr>\n",
       "      <th>0</th>\n",
       "      <td>1</td>\n",
       "      <td>1</td>\n",
       "      <td>2012-11-02</td>\n",
       "      <td>False</td>\n",
       "      <td>A</td>\n",
       "      <td>151315</td>\n",
       "    </tr>\n",
       "    <tr>\n",
       "      <th>1</th>\n",
       "      <td>1</td>\n",
       "      <td>1</td>\n",
       "      <td>2012-11-09</td>\n",
       "      <td>False</td>\n",
       "      <td>A</td>\n",
       "      <td>151315</td>\n",
       "    </tr>\n",
       "    <tr>\n",
       "      <th>2</th>\n",
       "      <td>1</td>\n",
       "      <td>1</td>\n",
       "      <td>2012-11-16</td>\n",
       "      <td>False</td>\n",
       "      <td>A</td>\n",
       "      <td>151315</td>\n",
       "    </tr>\n",
       "    <tr>\n",
       "      <th>3</th>\n",
       "      <td>1</td>\n",
       "      <td>1</td>\n",
       "      <td>2012-11-23</td>\n",
       "      <td>True</td>\n",
       "      <td>A</td>\n",
       "      <td>151315</td>\n",
       "    </tr>\n",
       "    <tr>\n",
       "      <th>4</th>\n",
       "      <td>1</td>\n",
       "      <td>1</td>\n",
       "      <td>2012-11-30</td>\n",
       "      <td>False</td>\n",
       "      <td>A</td>\n",
       "      <td>151315</td>\n",
       "    </tr>\n",
       "  </tbody>\n",
       "</table>\n",
       "</div>"
      ],
      "text/plain": [
       "   Store  Dept        Date  IsHoliday Type    Size\n",
       "0      1     1  2012-11-02      False    A  151315\n",
       "1      1     1  2012-11-09      False    A  151315\n",
       "2      1     1  2012-11-16      False    A  151315\n",
       "3      1     1  2012-11-23       True    A  151315\n",
       "4      1     1  2012-11-30      False    A  151315"
      ]
     },
     "execution_count": 189,
     "metadata": {},
     "output_type": "execute_result"
    }
   ],
   "source": [
    "test_stores = pd.merge(left=test,right = stores,left_on ='Store',right_on ='Store')\n",
    "test_stores.head()"
   ]
  },
  {
   "cell_type": "code",
   "execution_count": 190,
   "metadata": {},
   "outputs": [
    {
     "data": {
      "text/plain": [
       "(115064, 6)"
      ]
     },
     "execution_count": 190,
     "metadata": {},
     "output_type": "execute_result"
    }
   ],
   "source": [
    "test_stores.shape"
   ]
  },
  {
   "cell_type": "code",
   "execution_count": 222,
   "metadata": {},
   "outputs": [],
   "source": [
    "Id = pd.DataFrame(columns=['id'])"
   ]
  },
  {
   "cell_type": "code",
   "execution_count": 224,
   "metadata": {},
   "outputs": [],
   "source": [
    "Id['id'] = test_stores['Store'].astype('str') +'_' + test_stores['Dept'].astype('str') + \"_\" + test_stores['Date'].astype('str')"
   ]
  },
  {
   "cell_type": "code",
   "execution_count": 225,
   "metadata": {},
   "outputs": [
    {
     "data": {
      "text/plain": [
       "0           1_1_2012-11-02\n",
       "1           1_1_2012-11-09\n",
       "2           1_1_2012-11-16\n",
       "3           1_1_2012-11-23\n",
       "4           1_1_2012-11-30\n",
       "                ...       \n",
       "115059    45_98_2013-06-28\n",
       "115060    45_98_2013-07-05\n",
       "115061    45_98_2013-07-12\n",
       "115062    45_98_2013-07-19\n",
       "115063    45_98_2013-07-26\n",
       "Name: id, Length: 115064, dtype: object"
      ]
     },
     "execution_count": 225,
     "metadata": {},
     "output_type": "execute_result"
    }
   ],
   "source": [
    "Id['id'] "
   ]
  },
  {
   "cell_type": "code",
   "execution_count": 192,
   "metadata": {},
   "outputs": [],
   "source": [
    "test_stores['Date']=pd.to_datetime(test_stores['Date'])"
   ]
  },
  {
   "cell_type": "code",
   "execution_count": 193,
   "metadata": {},
   "outputs": [
    {
     "name": "stdout",
     "output_type": "stream",
     "text": [
      "<class 'pandas.core.frame.DataFrame'>\n",
      "Int64Index: 115064 entries, 0 to 115063\n",
      "Data columns (total 6 columns):\n",
      " #   Column     Non-Null Count   Dtype         \n",
      "---  ------     --------------   -----         \n",
      " 0   Store      115064 non-null  int64         \n",
      " 1   Dept       115064 non-null  int64         \n",
      " 2   Date       115064 non-null  datetime64[ns]\n",
      " 3   IsHoliday  115064 non-null  bool          \n",
      " 4   Type       115064 non-null  object        \n",
      " 5   Size       115064 non-null  int64         \n",
      "dtypes: bool(1), datetime64[ns](1), int64(3), object(1)\n",
      "memory usage: 5.4+ MB\n"
     ]
    }
   ],
   "source": [
    "test_stores.info()"
   ]
  },
  {
   "cell_type": "code",
   "execution_count": 194,
   "metadata": {},
   "outputs": [
    {
     "data": {
      "text/html": [
       "<div>\n",
       "<style scoped>\n",
       "    .dataframe tbody tr th:only-of-type {\n",
       "        vertical-align: middle;\n",
       "    }\n",
       "\n",
       "    .dataframe tbody tr th {\n",
       "        vertical-align: top;\n",
       "    }\n",
       "\n",
       "    .dataframe thead th {\n",
       "        text-align: right;\n",
       "    }\n",
       "</style>\n",
       "<table border=\"1\" class=\"dataframe\">\n",
       "  <thead>\n",
       "    <tr style=\"text-align: right;\">\n",
       "      <th></th>\n",
       "      <th>Store</th>\n",
       "      <th>Dept</th>\n",
       "      <th>Date</th>\n",
       "      <th>IsHoliday</th>\n",
       "      <th>Type</th>\n",
       "      <th>Size</th>\n",
       "    </tr>\n",
       "  </thead>\n",
       "  <tbody>\n",
       "  </tbody>\n",
       "</table>\n",
       "</div>"
      ],
      "text/plain": [
       "Empty DataFrame\n",
       "Columns: [Store, Dept, Date, IsHoliday, Type, Size]\n",
       "Index: []"
      ]
     },
     "execution_count": 194,
     "metadata": {},
     "output_type": "execute_result"
    }
   ],
   "source": [
    "test_stores.loc[(test_stores['Date'].isin(holidays)) & (test_stores['IsHoliday'] == False)]"
   ]
  },
  {
   "cell_type": "code",
   "execution_count": 195,
   "metadata": {},
   "outputs": [],
   "source": [
    "cat_vars = test_stores.loc[:,['Dept','IsHoliday','Type']]"
   ]
  },
  {
   "cell_type": "code",
   "execution_count": 196,
   "metadata": {},
   "outputs": [],
   "source": [
    "cat_vars=cat_vars.astype('category')"
   ]
  },
  {
   "cell_type": "code",
   "execution_count": 197,
   "metadata": {},
   "outputs": [],
   "source": [
    "cat_var_d = pd.get_dummies(cat_vars,drop_first=True)"
   ]
  },
  {
   "cell_type": "code",
   "execution_count": 198,
   "metadata": {},
   "outputs": [],
   "source": [
    "num_var = test_stores[test_stores.columns.difference(['Dept','IsHoliday','Type'])]"
   ]
  },
  {
   "cell_type": "code",
   "execution_count": 199,
   "metadata": {},
   "outputs": [],
   "source": [
    "df_test = pd.concat([num_var,cat_var_d],axis=1)"
   ]
  },
  {
   "cell_type": "code",
   "execution_count": 200,
   "metadata": {},
   "outputs": [],
   "source": [
    "df_test['Date'] = df_test['Date'].map(dt.datetime.toordinal)"
   ]
  },
  {
   "cell_type": "code",
   "execution_count": 201,
   "metadata": {},
   "outputs": [
    {
     "data": {
      "text/plain": [
       "(97056, 96)"
      ]
     },
     "execution_count": 201,
     "metadata": {},
     "output_type": "execute_result"
    }
   ],
   "source": [
    "df2.shape"
   ]
  },
  {
   "cell_type": "code",
   "execution_count": 202,
   "metadata": {},
   "outputs": [
    {
     "data": {
      "text/plain": [
       "(115064, 86)"
      ]
     },
     "execution_count": 202,
     "metadata": {},
     "output_type": "execute_result"
    }
   ],
   "source": [
    "df_test.shape"
   ]
  },
  {
   "cell_type": "code",
   "execution_count": 203,
   "metadata": {},
   "outputs": [
    {
     "data": {
      "text/plain": [
       "Index(['CPI', 'Fuel_Price', 'MarkDown1', 'MarkDown2', 'MarkDown3', 'MarkDown4',\n",
       "       'MarkDown5', 'Temperature', 'Unemployment', 'Weekly_Sales'],\n",
       "      dtype='object')"
      ]
     },
     "execution_count": 203,
     "metadata": {},
     "output_type": "execute_result"
    }
   ],
   "source": [
    "df2.columns.difference(df_test.columns)"
   ]
  },
  {
   "cell_type": "code",
   "execution_count": 204,
   "metadata": {},
   "outputs": [],
   "source": [
    "scaled_test = sc.transform(df_test)"
   ]
  },
  {
   "cell_type": "code",
   "execution_count": 205,
   "metadata": {},
   "outputs": [],
   "source": [
    "scaled_test=pd.DataFrame(scaled_test)"
   ]
  },
  {
   "cell_type": "code",
   "execution_count": 206,
   "metadata": {},
   "outputs": [],
   "source": [
    "scaled_test.columns = df_test.columns"
   ]
  },
  {
   "cell_type": "code",
   "execution_count": 286,
   "metadata": {},
   "outputs": [
    {
     "data": {
      "text/html": [
       "<div>\n",
       "<style scoped>\n",
       "    .dataframe tbody tr th:only-of-type {\n",
       "        vertical-align: middle;\n",
       "    }\n",
       "\n",
       "    .dataframe tbody tr th {\n",
       "        vertical-align: top;\n",
       "    }\n",
       "\n",
       "    .dataframe thead th {\n",
       "        text-align: right;\n",
       "    }\n",
       "</style>\n",
       "<table border=\"1\" class=\"dataframe\">\n",
       "  <thead>\n",
       "    <tr style=\"text-align: right;\">\n",
       "      <th></th>\n",
       "      <th>Dept_18</th>\n",
       "      <th>Dept_19</th>\n",
       "      <th>Dept_2</th>\n",
       "      <th>Dept_27</th>\n",
       "      <th>Dept_28</th>\n",
       "      <th>Dept_31</th>\n",
       "      <th>Dept_35</th>\n",
       "      <th>Dept_36</th>\n",
       "      <th>Dept_38</th>\n",
       "      <th>Dept_40</th>\n",
       "      <th>...</th>\n",
       "      <th>Dept_72</th>\n",
       "      <th>Dept_83</th>\n",
       "      <th>Dept_85</th>\n",
       "      <th>Dept_92</th>\n",
       "      <th>Dept_95</th>\n",
       "      <th>Dept_98</th>\n",
       "      <th>Dept_99</th>\n",
       "      <th>Size</th>\n",
       "      <th>Type_B</th>\n",
       "      <th>Date</th>\n",
       "    </tr>\n",
       "  </thead>\n",
       "  <tbody>\n",
       "    <tr>\n",
       "      <th>0</th>\n",
       "      <td>-0.111414</td>\n",
       "      <td>-0.107019</td>\n",
       "      <td>-0.120759</td>\n",
       "      <td>-0.120275</td>\n",
       "      <td>-0.120583</td>\n",
       "      <td>-0.120495</td>\n",
       "      <td>-0.119878</td>\n",
       "      <td>-0.119834</td>\n",
       "      <td>-0.120759</td>\n",
       "      <td>-0.120759</td>\n",
       "      <td>...</td>\n",
       "      <td>-0.120583</td>\n",
       "      <td>-0.117106</td>\n",
       "      <td>-0.120627</td>\n",
       "      <td>-0.120759</td>\n",
       "      <td>-0.120759</td>\n",
       "      <td>-0.117692</td>\n",
       "      <td>-0.072249</td>\n",
       "      <td>-0.07645</td>\n",
       "      <td>-0.810317</td>\n",
       "      <td>-1.555761</td>\n",
       "    </tr>\n",
       "    <tr>\n",
       "      <th>1</th>\n",
       "      <td>-0.111414</td>\n",
       "      <td>-0.107019</td>\n",
       "      <td>8.280954</td>\n",
       "      <td>-0.120275</td>\n",
       "      <td>-0.120583</td>\n",
       "      <td>-0.120495</td>\n",
       "      <td>-0.119878</td>\n",
       "      <td>-0.119834</td>\n",
       "      <td>-0.120759</td>\n",
       "      <td>-0.120759</td>\n",
       "      <td>...</td>\n",
       "      <td>-0.120583</td>\n",
       "      <td>-0.117106</td>\n",
       "      <td>-0.120627</td>\n",
       "      <td>-0.120759</td>\n",
       "      <td>-0.120759</td>\n",
       "      <td>-0.117692</td>\n",
       "      <td>-0.072249</td>\n",
       "      <td>-0.07645</td>\n",
       "      <td>-0.810317</td>\n",
       "      <td>-1.555761</td>\n",
       "    </tr>\n",
       "    <tr>\n",
       "      <th>2</th>\n",
       "      <td>-0.111414</td>\n",
       "      <td>-0.107019</td>\n",
       "      <td>-0.120759</td>\n",
       "      <td>-0.120275</td>\n",
       "      <td>-0.120583</td>\n",
       "      <td>-0.120495</td>\n",
       "      <td>-0.119878</td>\n",
       "      <td>-0.119834</td>\n",
       "      <td>-0.120759</td>\n",
       "      <td>-0.120759</td>\n",
       "      <td>...</td>\n",
       "      <td>-0.120583</td>\n",
       "      <td>-0.117106</td>\n",
       "      <td>-0.120627</td>\n",
       "      <td>-0.120759</td>\n",
       "      <td>-0.120759</td>\n",
       "      <td>-0.117692</td>\n",
       "      <td>-0.072249</td>\n",
       "      <td>-0.07645</td>\n",
       "      <td>-0.810317</td>\n",
       "      <td>-1.555761</td>\n",
       "    </tr>\n",
       "    <tr>\n",
       "      <th>3</th>\n",
       "      <td>-0.111414</td>\n",
       "      <td>-0.107019</td>\n",
       "      <td>-0.120759</td>\n",
       "      <td>-0.120275</td>\n",
       "      <td>-0.120583</td>\n",
       "      <td>-0.120495</td>\n",
       "      <td>-0.119878</td>\n",
       "      <td>-0.119834</td>\n",
       "      <td>-0.120759</td>\n",
       "      <td>-0.120759</td>\n",
       "      <td>...</td>\n",
       "      <td>-0.120583</td>\n",
       "      <td>-0.117106</td>\n",
       "      <td>-0.120627</td>\n",
       "      <td>-0.120759</td>\n",
       "      <td>-0.120759</td>\n",
       "      <td>-0.117692</td>\n",
       "      <td>-0.072249</td>\n",
       "      <td>-0.07645</td>\n",
       "      <td>-0.810317</td>\n",
       "      <td>-1.555761</td>\n",
       "    </tr>\n",
       "    <tr>\n",
       "      <th>4</th>\n",
       "      <td>-0.111414</td>\n",
       "      <td>-0.107019</td>\n",
       "      <td>-0.120759</td>\n",
       "      <td>-0.120275</td>\n",
       "      <td>-0.120583</td>\n",
       "      <td>-0.120495</td>\n",
       "      <td>-0.119878</td>\n",
       "      <td>-0.119834</td>\n",
       "      <td>-0.120759</td>\n",
       "      <td>-0.120759</td>\n",
       "      <td>...</td>\n",
       "      <td>-0.120583</td>\n",
       "      <td>-0.117106</td>\n",
       "      <td>-0.120627</td>\n",
       "      <td>-0.120759</td>\n",
       "      <td>-0.120759</td>\n",
       "      <td>-0.117692</td>\n",
       "      <td>-0.072249</td>\n",
       "      <td>-0.07645</td>\n",
       "      <td>-0.810317</td>\n",
       "      <td>-1.555761</td>\n",
       "    </tr>\n",
       "  </tbody>\n",
       "</table>\n",
       "<p>5 rows × 31 columns</p>\n",
       "</div>"
      ],
      "text/plain": [
       "    Dept_18   Dept_19    Dept_2   Dept_27   Dept_28   Dept_31   Dept_35  \\\n",
       "0 -0.111414 -0.107019 -0.120759 -0.120275 -0.120583 -0.120495 -0.119878   \n",
       "1 -0.111414 -0.107019  8.280954 -0.120275 -0.120583 -0.120495 -0.119878   \n",
       "2 -0.111414 -0.107019 -0.120759 -0.120275 -0.120583 -0.120495 -0.119878   \n",
       "3 -0.111414 -0.107019 -0.120759 -0.120275 -0.120583 -0.120495 -0.119878   \n",
       "4 -0.111414 -0.107019 -0.120759 -0.120275 -0.120583 -0.120495 -0.119878   \n",
       "\n",
       "    Dept_36   Dept_38   Dept_40  ...   Dept_72   Dept_83   Dept_85   Dept_92  \\\n",
       "0 -0.119834 -0.120759 -0.120759  ... -0.120583 -0.117106 -0.120627 -0.120759   \n",
       "1 -0.119834 -0.120759 -0.120759  ... -0.120583 -0.117106 -0.120627 -0.120759   \n",
       "2 -0.119834 -0.120759 -0.120759  ... -0.120583 -0.117106 -0.120627 -0.120759   \n",
       "3 -0.119834 -0.120759 -0.120759  ... -0.120583 -0.117106 -0.120627 -0.120759   \n",
       "4 -0.119834 -0.120759 -0.120759  ... -0.120583 -0.117106 -0.120627 -0.120759   \n",
       "\n",
       "    Dept_95   Dept_98   Dept_99     Size    Type_B      Date  \n",
       "0 -0.120759 -0.117692 -0.072249 -0.07645 -0.810317 -1.555761  \n",
       "1 -0.120759 -0.117692 -0.072249 -0.07645 -0.810317 -1.555761  \n",
       "2 -0.120759 -0.117692 -0.072249 -0.07645 -0.810317 -1.555761  \n",
       "3 -0.120759 -0.117692 -0.072249 -0.07645 -0.810317 -1.555761  \n",
       "4 -0.120759 -0.117692 -0.072249 -0.07645 -0.810317 -1.555761  \n",
       "\n",
       "[5 rows x 31 columns]"
      ]
     },
     "execution_count": 286,
     "metadata": {},
     "output_type": "execute_result"
    }
   ],
   "source": [
    "scaled[var].head()"
   ]
  },
  {
   "cell_type": "code",
   "execution_count": 287,
   "metadata": {},
   "outputs": [
    {
     "data": {
      "text/html": [
       "<div>\n",
       "<style scoped>\n",
       "    .dataframe tbody tr th:only-of-type {\n",
       "        vertical-align: middle;\n",
       "    }\n",
       "\n",
       "    .dataframe tbody tr th {\n",
       "        vertical-align: top;\n",
       "    }\n",
       "\n",
       "    .dataframe thead th {\n",
       "        text-align: right;\n",
       "    }\n",
       "</style>\n",
       "<table border=\"1\" class=\"dataframe\">\n",
       "  <thead>\n",
       "    <tr style=\"text-align: right;\">\n",
       "      <th></th>\n",
       "      <th>Dept_18</th>\n",
       "      <th>Dept_19</th>\n",
       "      <th>Dept_2</th>\n",
       "      <th>Dept_27</th>\n",
       "      <th>Dept_28</th>\n",
       "      <th>Dept_31</th>\n",
       "      <th>Dept_35</th>\n",
       "      <th>Dept_36</th>\n",
       "      <th>Dept_38</th>\n",
       "      <th>Dept_40</th>\n",
       "      <th>...</th>\n",
       "      <th>Dept_72</th>\n",
       "      <th>Dept_83</th>\n",
       "      <th>Dept_85</th>\n",
       "      <th>Dept_92</th>\n",
       "      <th>Dept_95</th>\n",
       "      <th>Dept_98</th>\n",
       "      <th>Dept_99</th>\n",
       "      <th>Size</th>\n",
       "      <th>Type_B</th>\n",
       "      <th>Date</th>\n",
       "    </tr>\n",
       "  </thead>\n",
       "  <tbody>\n",
       "    <tr>\n",
       "      <th>0</th>\n",
       "      <td>-0.113011</td>\n",
       "      <td>-0.103004</td>\n",
       "      <td>-0.124453</td>\n",
       "      <td>-0.116509</td>\n",
       "      <td>-0.121209</td>\n",
       "      <td>-0.122018</td>\n",
       "      <td>-0.112655</td>\n",
       "      <td>-0.112655</td>\n",
       "      <td>-0.124453</td>\n",
       "      <td>-0.124453</td>\n",
       "      <td>...</td>\n",
       "      <td>-0.120171</td>\n",
       "      <td>-0.120171</td>\n",
       "      <td>-0.119873</td>\n",
       "      <td>-0.124453</td>\n",
       "      <td>-0.124453</td>\n",
       "      <td>-0.119948</td>\n",
       "      <td>-0.073185</td>\n",
       "      <td>0.242483</td>\n",
       "      <td>-0.794124</td>\n",
       "      <td>-1.683055</td>\n",
       "    </tr>\n",
       "    <tr>\n",
       "      <th>1</th>\n",
       "      <td>-0.113011</td>\n",
       "      <td>-0.103004</td>\n",
       "      <td>-0.124453</td>\n",
       "      <td>-0.116509</td>\n",
       "      <td>-0.121209</td>\n",
       "      <td>-0.122018</td>\n",
       "      <td>-0.112655</td>\n",
       "      <td>-0.112655</td>\n",
       "      <td>-0.124453</td>\n",
       "      <td>-0.124453</td>\n",
       "      <td>...</td>\n",
       "      <td>-0.120171</td>\n",
       "      <td>-0.120171</td>\n",
       "      <td>-0.119873</td>\n",
       "      <td>-0.124453</td>\n",
       "      <td>-0.124453</td>\n",
       "      <td>-0.119948</td>\n",
       "      <td>-0.073185</td>\n",
       "      <td>0.242483</td>\n",
       "      <td>-0.794124</td>\n",
       "      <td>-1.594213</td>\n",
       "    </tr>\n",
       "    <tr>\n",
       "      <th>2</th>\n",
       "      <td>-0.113011</td>\n",
       "      <td>-0.103004</td>\n",
       "      <td>-0.124453</td>\n",
       "      <td>-0.116509</td>\n",
       "      <td>-0.121209</td>\n",
       "      <td>-0.122018</td>\n",
       "      <td>-0.112655</td>\n",
       "      <td>-0.112655</td>\n",
       "      <td>-0.124453</td>\n",
       "      <td>-0.124453</td>\n",
       "      <td>...</td>\n",
       "      <td>-0.120171</td>\n",
       "      <td>-0.120171</td>\n",
       "      <td>-0.119873</td>\n",
       "      <td>-0.124453</td>\n",
       "      <td>-0.124453</td>\n",
       "      <td>-0.119948</td>\n",
       "      <td>-0.073185</td>\n",
       "      <td>0.242483</td>\n",
       "      <td>-0.794124</td>\n",
       "      <td>-1.505372</td>\n",
       "    </tr>\n",
       "    <tr>\n",
       "      <th>3</th>\n",
       "      <td>-0.113011</td>\n",
       "      <td>-0.103004</td>\n",
       "      <td>-0.124453</td>\n",
       "      <td>-0.116509</td>\n",
       "      <td>-0.121209</td>\n",
       "      <td>-0.122018</td>\n",
       "      <td>-0.112655</td>\n",
       "      <td>-0.112655</td>\n",
       "      <td>-0.124453</td>\n",
       "      <td>-0.124453</td>\n",
       "      <td>...</td>\n",
       "      <td>-0.120171</td>\n",
       "      <td>-0.120171</td>\n",
       "      <td>-0.119873</td>\n",
       "      <td>-0.124453</td>\n",
       "      <td>-0.124453</td>\n",
       "      <td>-0.119948</td>\n",
       "      <td>-0.073185</td>\n",
       "      <td>0.242483</td>\n",
       "      <td>-0.794124</td>\n",
       "      <td>-1.416530</td>\n",
       "    </tr>\n",
       "    <tr>\n",
       "      <th>4</th>\n",
       "      <td>-0.113011</td>\n",
       "      <td>-0.103004</td>\n",
       "      <td>-0.124453</td>\n",
       "      <td>-0.116509</td>\n",
       "      <td>-0.121209</td>\n",
       "      <td>-0.122018</td>\n",
       "      <td>-0.112655</td>\n",
       "      <td>-0.112655</td>\n",
       "      <td>-0.124453</td>\n",
       "      <td>-0.124453</td>\n",
       "      <td>...</td>\n",
       "      <td>-0.120171</td>\n",
       "      <td>-0.120171</td>\n",
       "      <td>-0.119873</td>\n",
       "      <td>-0.124453</td>\n",
       "      <td>-0.124453</td>\n",
       "      <td>-0.119948</td>\n",
       "      <td>-0.073185</td>\n",
       "      <td>0.242483</td>\n",
       "      <td>-0.794124</td>\n",
       "      <td>-1.327688</td>\n",
       "    </tr>\n",
       "  </tbody>\n",
       "</table>\n",
       "<p>5 rows × 31 columns</p>\n",
       "</div>"
      ],
      "text/plain": [
       "    Dept_18   Dept_19    Dept_2   Dept_27   Dept_28   Dept_31   Dept_35  \\\n",
       "0 -0.113011 -0.103004 -0.124453 -0.116509 -0.121209 -0.122018 -0.112655   \n",
       "1 -0.113011 -0.103004 -0.124453 -0.116509 -0.121209 -0.122018 -0.112655   \n",
       "2 -0.113011 -0.103004 -0.124453 -0.116509 -0.121209 -0.122018 -0.112655   \n",
       "3 -0.113011 -0.103004 -0.124453 -0.116509 -0.121209 -0.122018 -0.112655   \n",
       "4 -0.113011 -0.103004 -0.124453 -0.116509 -0.121209 -0.122018 -0.112655   \n",
       "\n",
       "    Dept_36   Dept_38   Dept_40  ...   Dept_72   Dept_83   Dept_85   Dept_92  \\\n",
       "0 -0.112655 -0.124453 -0.124453  ... -0.120171 -0.120171 -0.119873 -0.124453   \n",
       "1 -0.112655 -0.124453 -0.124453  ... -0.120171 -0.120171 -0.119873 -0.124453   \n",
       "2 -0.112655 -0.124453 -0.124453  ... -0.120171 -0.120171 -0.119873 -0.124453   \n",
       "3 -0.112655 -0.124453 -0.124453  ... -0.120171 -0.120171 -0.119873 -0.124453   \n",
       "4 -0.112655 -0.124453 -0.124453  ... -0.120171 -0.120171 -0.119873 -0.124453   \n",
       "\n",
       "    Dept_95   Dept_98   Dept_99      Size    Type_B      Date  \n",
       "0 -0.124453 -0.119948 -0.073185  0.242483 -0.794124 -1.683055  \n",
       "1 -0.124453 -0.119948 -0.073185  0.242483 -0.794124 -1.594213  \n",
       "2 -0.124453 -0.119948 -0.073185  0.242483 -0.794124 -1.505372  \n",
       "3 -0.124453 -0.119948 -0.073185  0.242483 -0.794124 -1.416530  \n",
       "4 -0.124453 -0.119948 -0.073185  0.242483 -0.794124 -1.327688  \n",
       "\n",
       "[5 rows x 31 columns]"
      ]
     },
     "execution_count": 287,
     "metadata": {},
     "output_type": "execute_result"
    }
   ],
   "source": [
    "scaled_test[var].head()"
   ]
  },
  {
   "cell_type": "code",
   "execution_count": 226,
   "metadata": {},
   "outputs": [],
   "source": [
    "test_final = pd.DataFrame({'Id':Id.id,'predicted': np.exp(ln.predict(scaled_test[var]))})"
   ]
  },
  {
   "cell_type": "code",
   "execution_count": 228,
   "metadata": {},
   "outputs": [
    {
     "data": {
      "text/html": [
       "<div>\n",
       "<style scoped>\n",
       "    .dataframe tbody tr th:only-of-type {\n",
       "        vertical-align: middle;\n",
       "    }\n",
       "\n",
       "    .dataframe tbody tr th {\n",
       "        vertical-align: top;\n",
       "    }\n",
       "\n",
       "    .dataframe thead th {\n",
       "        text-align: right;\n",
       "    }\n",
       "</style>\n",
       "<table border=\"1\" class=\"dataframe\">\n",
       "  <thead>\n",
       "    <tr style=\"text-align: right;\">\n",
       "      <th></th>\n",
       "      <th>Id</th>\n",
       "      <th>predicted</th>\n",
       "    </tr>\n",
       "  </thead>\n",
       "  <tbody>\n",
       "    <tr>\n",
       "      <th>0</th>\n",
       "      <td>1_1_2012-11-02</td>\n",
       "      <td>10803.937868</td>\n",
       "    </tr>\n",
       "    <tr>\n",
       "      <th>1</th>\n",
       "      <td>1_1_2012-11-09</td>\n",
       "      <td>10753.710533</td>\n",
       "    </tr>\n",
       "    <tr>\n",
       "      <th>2</th>\n",
       "      <td>1_1_2012-11-16</td>\n",
       "      <td>10703.716704</td>\n",
       "    </tr>\n",
       "    <tr>\n",
       "      <th>3</th>\n",
       "      <td>1_1_2012-11-23</td>\n",
       "      <td>10653.955295</td>\n",
       "    </tr>\n",
       "    <tr>\n",
       "      <th>4</th>\n",
       "      <td>1_1_2012-11-30</td>\n",
       "      <td>10604.425227</td>\n",
       "    </tr>\n",
       "  </tbody>\n",
       "</table>\n",
       "</div>"
      ],
      "text/plain": [
       "               Id     predicted\n",
       "0  1_1_2012-11-02  10803.937868\n",
       "1  1_1_2012-11-09  10753.710533\n",
       "2  1_1_2012-11-16  10703.716704\n",
       "3  1_1_2012-11-23  10653.955295\n",
       "4  1_1_2012-11-30  10604.425227"
      ]
     },
     "execution_count": 228,
     "metadata": {},
     "output_type": "execute_result"
    }
   ],
   "source": [
    "test_final.head()"
   ]
  },
  {
   "cell_type": "markdown",
   "metadata": {},
   "source": [
    "# Random Forest"
   ]
  },
  {
   "cell_type": "code",
   "execution_count": 250,
   "metadata": {},
   "outputs": [
    {
     "data": {
      "text/plain": [
       "(97056, 97)"
      ]
     },
     "execution_count": 250,
     "metadata": {},
     "output_type": "execute_result"
    }
   ],
   "source": [
    "scaled.shape\n"
   ]
  },
  {
   "cell_type": "code",
   "execution_count": 255,
   "metadata": {},
   "outputs": [],
   "source": [
    "trainx,testx,trainy,testy = train_test_split(scaled[var],scaled['sales'],test_size=0.3,random_state=123)"
   ]
  },
  {
   "cell_type": "code",
   "execution_count": null,
   "metadata": {},
   "outputs": [],
   "source": [
    "RandomForestRegressor()"
   ]
  },
  {
   "cell_type": "code",
   "execution_count": 241,
   "metadata": {},
   "outputs": [],
   "source": [
    "param_grid ={'n_estimators':[100,200,300,400,500]}"
   ]
  },
  {
   "cell_type": "code",
   "execution_count": 256,
   "metadata": {},
   "outputs": [],
   "source": [
    "gs=GridSearchCV(RandomForestRegressor(),param_grid,cv=5,n_jobs=-1)"
   ]
  },
  {
   "cell_type": "code",
   "execution_count": 257,
   "metadata": {},
   "outputs": [
    {
     "data": {
      "text/plain": [
       "GridSearchCV(cv=5, estimator=RandomForestRegressor(), n_jobs=-1,\n",
       "             param_grid={'n_estimators': [100, 200, 300, 400, 500]})"
      ]
     },
     "execution_count": 257,
     "metadata": {},
     "output_type": "execute_result"
    }
   ],
   "source": [
    "gs.fit(trainx,trainy)"
   ]
  },
  {
   "cell_type": "code",
   "execution_count": 258,
   "metadata": {},
   "outputs": [
    {
     "data": {
      "text/plain": [
       "{'n_estimators': 400}"
      ]
     },
     "execution_count": 258,
     "metadata": {},
     "output_type": "execute_result"
    }
   ],
   "source": [
    "gs.best_params_"
   ]
  },
  {
   "cell_type": "code",
   "execution_count": 259,
   "metadata": {},
   "outputs": [
    {
     "data": {
      "text/plain": [
       "0.6384459807143076"
      ]
     },
     "execution_count": 259,
     "metadata": {},
     "output_type": "execute_result"
    }
   ],
   "source": [
    "gs.best_score_"
   ]
  },
  {
   "cell_type": "code",
   "execution_count": 261,
   "metadata": {},
   "outputs": [
    {
     "data": {
      "text/plain": [
       "RandomForestRegressor(n_estimators=400, random_state=123)"
      ]
     },
     "execution_count": 261,
     "metadata": {},
     "output_type": "execute_result"
    }
   ],
   "source": [
    "rf=RandomForestRegressor(n_estimators =400,random_state=123)\n",
    "rf.fit(trainx,trainy)"
   ]
  },
  {
   "cell_type": "code",
   "execution_count": 265,
   "metadata": {},
   "outputs": [],
   "source": [
    "train_pred = pd.DataFrame({'actual': trainy,'predicted': rf.predict(trainx)})"
   ]
  },
  {
   "cell_type": "code",
   "execution_count": 269,
   "metadata": {},
   "outputs": [
    {
     "data": {
      "text/html": [
       "<div>\n",
       "<style scoped>\n",
       "    .dataframe tbody tr th:only-of-type {\n",
       "        vertical-align: middle;\n",
       "    }\n",
       "\n",
       "    .dataframe tbody tr th {\n",
       "        vertical-align: top;\n",
       "    }\n",
       "\n",
       "    .dataframe thead th {\n",
       "        text-align: right;\n",
       "    }\n",
       "</style>\n",
       "<table border=\"1\" class=\"dataframe\">\n",
       "  <thead>\n",
       "    <tr style=\"text-align: right;\">\n",
       "      <th></th>\n",
       "      <th>actual</th>\n",
       "      <th>predicted</th>\n",
       "    </tr>\n",
       "  </thead>\n",
       "  <tbody>\n",
       "    <tr>\n",
       "      <th>4033</th>\n",
       "      <td>1550.00</td>\n",
       "      <td>1276.162550</td>\n",
       "    </tr>\n",
       "    <tr>\n",
       "      <th>42496</th>\n",
       "      <td>57.92</td>\n",
       "      <td>420.786502</td>\n",
       "    </tr>\n",
       "    <tr>\n",
       "      <th>66944</th>\n",
       "      <td>78409.28</td>\n",
       "      <td>79596.430800</td>\n",
       "    </tr>\n",
       "    <tr>\n",
       "      <th>46068</th>\n",
       "      <td>9102.52</td>\n",
       "      <td>16113.838902</td>\n",
       "    </tr>\n",
       "    <tr>\n",
       "      <th>63868</th>\n",
       "      <td>8687.47</td>\n",
       "      <td>8960.324885</td>\n",
       "    </tr>\n",
       "  </tbody>\n",
       "</table>\n",
       "</div>"
      ],
      "text/plain": [
       "         actual     predicted\n",
       "4033    1550.00   1276.162550\n",
       "42496     57.92    420.786502\n",
       "66944  78409.28  79596.430800\n",
       "46068   9102.52  16113.838902\n",
       "63868   8687.47   8960.324885"
      ]
     },
     "execution_count": 269,
     "metadata": {},
     "output_type": "execute_result"
    }
   ],
   "source": [
    "train_pred.head()"
   ]
  },
  {
   "cell_type": "code",
   "execution_count": 267,
   "metadata": {},
   "outputs": [],
   "source": [
    "test_pred = pd.DataFrame({'actual': testy,'predicted': rf.predict(testx)})"
   ]
  },
  {
   "cell_type": "code",
   "execution_count": 270,
   "metadata": {},
   "outputs": [
    {
     "data": {
      "text/html": [
       "<div>\n",
       "<style scoped>\n",
       "    .dataframe tbody tr th:only-of-type {\n",
       "        vertical-align: middle;\n",
       "    }\n",
       "\n",
       "    .dataframe tbody tr th {\n",
       "        vertical-align: top;\n",
       "    }\n",
       "\n",
       "    .dataframe thead th {\n",
       "        text-align: right;\n",
       "    }\n",
       "</style>\n",
       "<table border=\"1\" class=\"dataframe\">\n",
       "  <thead>\n",
       "    <tr style=\"text-align: right;\">\n",
       "      <th></th>\n",
       "      <th>actual</th>\n",
       "      <th>predicted</th>\n",
       "    </tr>\n",
       "  </thead>\n",
       "  <tbody>\n",
       "    <tr>\n",
       "      <th>52105</th>\n",
       "      <td>22793.38</td>\n",
       "      <td>11485.216819</td>\n",
       "    </tr>\n",
       "    <tr>\n",
       "      <th>48797</th>\n",
       "      <td>2688.08</td>\n",
       "      <td>2073.423017</td>\n",
       "    </tr>\n",
       "    <tr>\n",
       "      <th>25509</th>\n",
       "      <td>17.64</td>\n",
       "      <td>88.311600</td>\n",
       "    </tr>\n",
       "    <tr>\n",
       "      <th>96163</th>\n",
       "      <td>206.42</td>\n",
       "      <td>163.744350</td>\n",
       "    </tr>\n",
       "    <tr>\n",
       "      <th>87678</th>\n",
       "      <td>27191.55</td>\n",
       "      <td>21961.963793</td>\n",
       "    </tr>\n",
       "  </tbody>\n",
       "</table>\n",
       "</div>"
      ],
      "text/plain": [
       "         actual     predicted\n",
       "52105  22793.38  11485.216819\n",
       "48797   2688.08   2073.423017\n",
       "25509     17.64     88.311600\n",
       "96163    206.42    163.744350\n",
       "87678  27191.55  21961.963793"
      ]
     },
     "execution_count": 270,
     "metadata": {},
     "output_type": "execute_result"
    }
   ],
   "source": [
    "test_pred.head()"
   ]
  },
  {
   "cell_type": "code",
   "execution_count": 271,
   "metadata": {},
   "outputs": [
    {
     "name": "stdout",
     "output_type": "stream",
     "text": [
      "MAE of training data:  7535.80527812246  |  MAE of testing data:  8065.772124283246\n"
     ]
    }
   ],
   "source": [
    "MAE_train = mean_absolute_error(train_pred.actual, train_pred.predicted)\n",
    "MAE_test = mean_absolute_error(test_pred.actual, test_pred.predicted)\n",
    "\n",
    "# print the values of MAE for train and test\n",
    "print('MAE of training data: ', MAE_train,  ' | ', 'MAE of testing data: ', MAE_test)"
   ]
  },
  {
   "cell_type": "code",
   "execution_count": 272,
   "metadata": {},
   "outputs": [
    {
     "name": "stdout",
     "output_type": "stream",
     "text": [
      "MSE of training data:  160637744.0800345  |  MSE of testing data:  171302972.8885681\n",
      "RMSE of training data:  12674.294618637934  |  RMSE of testing data:  13088.276161839194\n"
     ]
    }
   ],
   "source": [
    "MSE_train = mean_squared_error(train_pred.actual, train_pred.predicted)\n",
    "MSE_test = mean_squared_error(test_pred.actual, test_pred.predicted)\n",
    "\n",
    "# print the values of MSE for train and test\n",
    "print('MSE of training data: ', MSE_train,  ' | ', 'MSE of testing data: ', MSE_test)\n",
    "\n",
    "# print the values of RMSE for train and test\n",
    "print('RMSE of training data: ', np.sqrt(MSE_train),  ' | ', 'RMSE of testing data: ', np.sqrt(MSE_test))"
   ]
  },
  {
   "cell_type": "code",
   "execution_count": 273,
   "metadata": {},
   "outputs": [],
   "source": [
    "# Step 6: \n",
    "# e) accuracy metrics (d. Decile Analysis: for validation of models - Business validation)\n",
    "\n",
    "# create the 10 groups in the data\n",
    "train_pred.loc[:, 'Deciles'] = pd.qcut( train_pred['predicted'], 10, labels = False )\n",
    "test_pred.loc[:, 'Deciles'] = pd.qcut( test_pred['predicted'], 10, labels = False )\n",
    "\n",
    "# Decile Analysis for train data\n",
    "Predicted_avg_train = train_pred.groupby('Deciles')[['actual','predicted']].mean().reset_index().sort_index(ascending = False)\n",
    "Predicted_avg_test = test_pred.groupby('Deciles')[['actual','predicted']].mean().reset_index().sort_index(ascending = False)"
   ]
  },
  {
   "cell_type": "code",
   "execution_count": 274,
   "metadata": {},
   "outputs": [
    {
     "data": {
      "text/html": [
       "<div>\n",
       "<style scoped>\n",
       "    .dataframe tbody tr th:only-of-type {\n",
       "        vertical-align: middle;\n",
       "    }\n",
       "\n",
       "    .dataframe tbody tr th {\n",
       "        vertical-align: top;\n",
       "    }\n",
       "\n",
       "    .dataframe thead th {\n",
       "        text-align: right;\n",
       "    }\n",
       "</style>\n",
       "<table border=\"1\" class=\"dataframe\">\n",
       "  <thead>\n",
       "    <tr style=\"text-align: right;\">\n",
       "      <th></th>\n",
       "      <th>Deciles</th>\n",
       "      <th>actual</th>\n",
       "      <th>predicted</th>\n",
       "    </tr>\n",
       "  </thead>\n",
       "  <tbody>\n",
       "    <tr>\n",
       "      <th>9</th>\n",
       "      <td>9</td>\n",
       "      <td>59615.224736</td>\n",
       "      <td>59568.318663</td>\n",
       "    </tr>\n",
       "    <tr>\n",
       "      <th>8</th>\n",
       "      <td>8</td>\n",
       "      <td>27302.969911</td>\n",
       "      <td>27311.160502</td>\n",
       "    </tr>\n",
       "    <tr>\n",
       "      <th>7</th>\n",
       "      <td>7</td>\n",
       "      <td>22688.863801</td>\n",
       "      <td>22680.735754</td>\n",
       "    </tr>\n",
       "    <tr>\n",
       "      <th>6</th>\n",
       "      <td>6</td>\n",
       "      <td>19044.183331</td>\n",
       "      <td>19033.927102</td>\n",
       "    </tr>\n",
       "    <tr>\n",
       "      <th>5</th>\n",
       "      <td>5</td>\n",
       "      <td>15498.805215</td>\n",
       "      <td>15503.551404</td>\n",
       "    </tr>\n",
       "    <tr>\n",
       "      <th>4</th>\n",
       "      <td>4</td>\n",
       "      <td>12620.266346</td>\n",
       "      <td>12631.588962</td>\n",
       "    </tr>\n",
       "    <tr>\n",
       "      <th>3</th>\n",
       "      <td>3</td>\n",
       "      <td>9325.932609</td>\n",
       "      <td>9343.157444</td>\n",
       "    </tr>\n",
       "    <tr>\n",
       "      <th>2</th>\n",
       "      <td>2</td>\n",
       "      <td>5623.908454</td>\n",
       "      <td>5699.944316</td>\n",
       "    </tr>\n",
       "    <tr>\n",
       "      <th>1</th>\n",
       "      <td>1</td>\n",
       "      <td>1952.001940</td>\n",
       "      <td>2077.146951</td>\n",
       "    </tr>\n",
       "    <tr>\n",
       "      <th>0</th>\n",
       "      <td>0</td>\n",
       "      <td>327.328349</td>\n",
       "      <td>368.904701</td>\n",
       "    </tr>\n",
       "  </tbody>\n",
       "</table>\n",
       "</div>"
      ],
      "text/plain": [
       "   Deciles        actual     predicted\n",
       "9        9  59615.224736  59568.318663\n",
       "8        8  27302.969911  27311.160502\n",
       "7        7  22688.863801  22680.735754\n",
       "6        6  19044.183331  19033.927102\n",
       "5        5  15498.805215  15503.551404\n",
       "4        4  12620.266346  12631.588962\n",
       "3        3   9325.932609   9343.157444\n",
       "2        2   5623.908454   5699.944316\n",
       "1        1   1952.001940   2077.146951\n",
       "0        0    327.328349    368.904701"
      ]
     },
     "execution_count": 274,
     "metadata": {},
     "output_type": "execute_result"
    }
   ],
   "source": [
    "Predicted_avg_train"
   ]
  },
  {
   "cell_type": "code",
   "execution_count": 275,
   "metadata": {},
   "outputs": [
    {
     "data": {
      "text/html": [
       "<div>\n",
       "<style scoped>\n",
       "    .dataframe tbody tr th:only-of-type {\n",
       "        vertical-align: middle;\n",
       "    }\n",
       "\n",
       "    .dataframe tbody tr th {\n",
       "        vertical-align: top;\n",
       "    }\n",
       "\n",
       "    .dataframe thead th {\n",
       "        text-align: right;\n",
       "    }\n",
       "</style>\n",
       "<table border=\"1\" class=\"dataframe\">\n",
       "  <thead>\n",
       "    <tr style=\"text-align: right;\">\n",
       "      <th></th>\n",
       "      <th>Deciles</th>\n",
       "      <th>actual</th>\n",
       "      <th>predicted</th>\n",
       "    </tr>\n",
       "  </thead>\n",
       "  <tbody>\n",
       "    <tr>\n",
       "      <th>9</th>\n",
       "      <td>9</td>\n",
       "      <td>59180.231419</td>\n",
       "      <td>60029.478631</td>\n",
       "    </tr>\n",
       "    <tr>\n",
       "      <th>8</th>\n",
       "      <td>8</td>\n",
       "      <td>25569.217144</td>\n",
       "      <td>27364.503658</td>\n",
       "    </tr>\n",
       "    <tr>\n",
       "      <th>7</th>\n",
       "      <td>7</td>\n",
       "      <td>22227.121604</td>\n",
       "      <td>22628.055377</td>\n",
       "    </tr>\n",
       "    <tr>\n",
       "      <th>6</th>\n",
       "      <td>6</td>\n",
       "      <td>19223.158442</td>\n",
       "      <td>18907.351501</td>\n",
       "    </tr>\n",
       "    <tr>\n",
       "      <th>5</th>\n",
       "      <td>5</td>\n",
       "      <td>15864.845927</td>\n",
       "      <td>15444.963772</td>\n",
       "    </tr>\n",
       "    <tr>\n",
       "      <th>4</th>\n",
       "      <td>4</td>\n",
       "      <td>13359.056422</td>\n",
       "      <td>12607.125660</td>\n",
       "    </tr>\n",
       "    <tr>\n",
       "      <th>3</th>\n",
       "      <td>3</td>\n",
       "      <td>9961.710644</td>\n",
       "      <td>9498.805721</td>\n",
       "    </tr>\n",
       "    <tr>\n",
       "      <th>2</th>\n",
       "      <td>2</td>\n",
       "      <td>6102.557105</td>\n",
       "      <td>5859.453364</td>\n",
       "    </tr>\n",
       "    <tr>\n",
       "      <th>1</th>\n",
       "      <td>1</td>\n",
       "      <td>2203.261720</td>\n",
       "      <td>2274.932057</td>\n",
       "    </tr>\n",
       "    <tr>\n",
       "      <th>0</th>\n",
       "      <td>0</td>\n",
       "      <td>415.548547</td>\n",
       "      <td>434.500409</td>\n",
       "    </tr>\n",
       "  </tbody>\n",
       "</table>\n",
       "</div>"
      ],
      "text/plain": [
       "   Deciles        actual     predicted\n",
       "9        9  59180.231419  60029.478631\n",
       "8        8  25569.217144  27364.503658\n",
       "7        7  22227.121604  22628.055377\n",
       "6        6  19223.158442  18907.351501\n",
       "5        5  15864.845927  15444.963772\n",
       "4        4  13359.056422  12607.125660\n",
       "3        3   9961.710644   9498.805721\n",
       "2        2   6102.557105   5859.453364\n",
       "1        1   2203.261720   2274.932057\n",
       "0        0    415.548547    434.500409"
      ]
     },
     "execution_count": 275,
     "metadata": {},
     "output_type": "execute_result"
    }
   ],
   "source": [
    "Predicted_avg_test"
   ]
  },
  {
   "cell_type": "code",
   "execution_count": 281,
   "metadata": {},
   "outputs": [
    {
     "data": {
      "text/plain": [
       "<Figure size 7200x2160 with 0 Axes>"
      ]
     },
     "execution_count": 281,
     "metadata": {},
     "output_type": "execute_result"
    },
    {
     "data": {
      "image/png": "[encoded data removed]",
      "text/plain": [
       "<Figure size 432x288 with 1 Axes>"
      ]
     },
     "metadata": {
      "needs_background": "light"
     },
     "output_type": "display_data"
    },
    {
     "data": {
      "text/plain": [
       "<Figure size 7200x2160 with 0 Axes>"
      ]
     },
     "metadata": {},
     "output_type": "display_data"
    }
   ],
   "source": [
    "\n",
    "indices = np.argsort(rf.feature_importances_)[::-1]\n",
    "feature_rank = pd.DataFrame( columns = ['rank', 'feature', 'importance'] )\n",
    "for f in range(scaled[var].shape[1]):\n",
    "  feature_rank.loc[f] = [f+1,\n",
    "                         scaled[var].columns[indices[f]],\n",
    "                         rf.feature_importances_[indices[f]]]\n",
    "sns.barplot( y = 'feature', x = 'importance', data = feature_rank )\n",
    "\n",
    "plt.figure(figsize=(100,30))"
   ]
  },
  {
   "cell_type": "code",
   "execution_count": 284,
   "metadata": {},
   "outputs": [],
   "source": [
    "test_final = pd.DataFrame({'Id':Id.id,'predicted': rf.predict(scaled_test[var])})"
   ]
  },
  {
   "cell_type": "code",
   "execution_count": 285,
   "metadata": {},
   "outputs": [
    {
     "data": {
      "text/html": [
       "<div>\n",
       "<style scoped>\n",
       "    .dataframe tbody tr th:only-of-type {\n",
       "        vertical-align: middle;\n",
       "    }\n",
       "\n",
       "    .dataframe tbody tr th {\n",
       "        vertical-align: top;\n",
       "    }\n",
       "\n",
       "    .dataframe thead th {\n",
       "        text-align: right;\n",
       "    }\n",
       "</style>\n",
       "<table border=\"1\" class=\"dataframe\">\n",
       "  <thead>\n",
       "    <tr style=\"text-align: right;\">\n",
       "      <th></th>\n",
       "      <th>Id</th>\n",
       "      <th>predicted</th>\n",
       "    </tr>\n",
       "  </thead>\n",
       "  <tbody>\n",
       "    <tr>\n",
       "      <th>0</th>\n",
       "      <td>1_1_2012-11-02</td>\n",
       "      <td>14217.803547</td>\n",
       "    </tr>\n",
       "    <tr>\n",
       "      <th>1</th>\n",
       "      <td>1_1_2012-11-09</td>\n",
       "      <td>14217.803547</td>\n",
       "    </tr>\n",
       "    <tr>\n",
       "      <th>2</th>\n",
       "      <td>1_1_2012-11-16</td>\n",
       "      <td>13226.392368</td>\n",
       "    </tr>\n",
       "    <tr>\n",
       "      <th>3</th>\n",
       "      <td>1_1_2012-11-23</td>\n",
       "      <td>18769.256589</td>\n",
       "    </tr>\n",
       "    <tr>\n",
       "      <th>4</th>\n",
       "      <td>1_1_2012-11-30</td>\n",
       "      <td>12256.794423</td>\n",
       "    </tr>\n",
       "    <tr>\n",
       "      <th>5</th>\n",
       "      <td>1_1_2012-12-07</td>\n",
       "      <td>15659.014218</td>\n",
       "    </tr>\n",
       "    <tr>\n",
       "      <th>6</th>\n",
       "      <td>1_1_2012-12-14</td>\n",
       "      <td>24523.559276</td>\n",
       "    </tr>\n",
       "    <tr>\n",
       "      <th>7</th>\n",
       "      <td>1_1_2012-12-21</td>\n",
       "      <td>14214.649505</td>\n",
       "    </tr>\n",
       "    <tr>\n",
       "      <th>8</th>\n",
       "      <td>1_1_2012-12-28</td>\n",
       "      <td>14074.737899</td>\n",
       "    </tr>\n",
       "    <tr>\n",
       "      <th>9</th>\n",
       "      <td>1_1_2013-01-04</td>\n",
       "      <td>12725.939182</td>\n",
       "    </tr>\n",
       "  </tbody>\n",
       "</table>\n",
       "</div>"
      ],
      "text/plain": [
       "               Id     predicted\n",
       "0  1_1_2012-11-02  14217.803547\n",
       "1  1_1_2012-11-09  14217.803547\n",
       "2  1_1_2012-11-16  13226.392368\n",
       "3  1_1_2012-11-23  18769.256589\n",
       "4  1_1_2012-11-30  12256.794423\n",
       "5  1_1_2012-12-07  15659.014218\n",
       "6  1_1_2012-12-14  24523.559276\n",
       "7  1_1_2012-12-21  14214.649505\n",
       "8  1_1_2012-12-28  14074.737899\n",
       "9  1_1_2013-01-04  12725.939182"
      ]
     },
     "execution_count": 285,
     "metadata": {},
     "output_type": "execute_result"
    }
   ],
   "source": [
    "test_final.head(10)"
   ]
  }
 ],
 "metadata": {
  "kernelspec": {
   "display_name": "Python 3",
   "language": "python",
   "name": "python3"
  },
  "language_info": {
   "codemirror_mode": {
    "name": "ipython",
    "version": 3
   },
   "file_extension": ".py",
   "mimetype": "text/x-python",
   "name": "python",
   "nbconvert_exporter": "python",
   "pygments_lexer": "ipython3",
   "version": "3.8.3"
  }
 },
 "nbformat": 4,
 "nbformat_minor": 4
}
